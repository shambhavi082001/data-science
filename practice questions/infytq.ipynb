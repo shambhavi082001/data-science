{
 "cells": [
  {
   "attachments": {},
   "cell_type": "markdown",
   "metadata": {},
   "source": [
    "counting the number of flights in the airport. At the start of the day there were 100 flights in the airport. Based on the number of takeoffs and number of landings in a day, how would you figure out the current number of flights in the airport?"
   ]
  },
  {
   "cell_type": "code",
   "execution_count": 2,
   "metadata": {},
   "outputs": [
    {
     "name": "stdout",
     "output_type": "stream",
     "text": [
      "90\n"
     ]
    }
   ],
   "source": [
    "takeoffs = int(input(\"enter no of takoffs\"))\n",
    "landing = int(input(\"enter no of landings\"))\n",
    "initial_value = 100\n",
    "current_num = initial_value + landing - takeoffs\n",
    "print(current_num)"
   ]
  },
  {
   "attachments": {},
   "cell_type": "markdown",
   "metadata": {},
   "source": [
    "pseudo-code to represent the logic for converting a given number of days into its equivalent number of seconds.\n",
    "\n",
    "Sample Input for No. of days\t                Expected Output\n",
    "          3\t                             Total number of seconds: 259200\n",
    "          5\t                             Total number of seconds: 432000\n",
    "\n",
    "Pseudo-code\n",
    "input No_Of_Days\n",
    "Seconds= No_Of_Days*24*60*60\n",
    "display \"Total number of seconds:\",Seconds\n"
   ]
  },
  {
   "cell_type": "code",
   "execution_count": 5,
   "metadata": {},
   "outputs": [
    {
     "name": "stdout",
     "output_type": "stream",
     "text": [
      "432000\n"
     ]
    }
   ],
   "source": [
    "num_of_days = int(input(\"no of days\"))\n",
    "seconds = num_of_days*24*60*60\n",
    "print(seconds)"
   ]
  },
  {
   "attachments": {},
   "cell_type": "markdown",
   "metadata": {},
   "source": [
    "if a flight is approaching the runway, ATC should check if the runway is free. If the runway is not free, then the flight should not land immediately. It should circle in the air and wait for further instructions from the ATC.\n",
    "\n",
    "pseudo-code \n",
    "if (runway == free) \n",
    "  display \"land \"\n",
    "else \n",
    "display \"circle in the air"
   ]
  },
  {
   "cell_type": "code",
   "execution_count": 7,
   "metadata": {},
   "outputs": [
    {
     "name": "stdout",
     "output_type": "stream",
     "text": [
      "you can land\n"
     ]
    }
   ],
   "source": [
    "runway = input(\"please tell runway is free or not\")\n",
    "if runway == \"free\":\n",
    "    print(\"you can land\")\n",
    "else:\n",
    "    print(\"circle in the air\")"
   ]
  },
  {
   "attachments": {},
   "cell_type": "markdown",
   "metadata": {},
   "source": [
    "if the runway is free, the flight can land. But if the flight has less fuel, then it should be allowed an emergency landing. Otherwise, it should circle in the air."
   ]
  },
  {
   "cell_type": "code",
   "execution_count": 15,
   "metadata": {},
   "outputs": [
    {
     "name": "stdout",
     "output_type": "stream",
     "text": [
      "circle in the air\n"
     ]
    }
   ],
   "source": [
    "runway = input(\"please tell runway is free or not\")\n",
    "fuel = input(\"enter yes if fuel is low\")\n",
    "if runway == \"free\":\n",
    "    print(\"you can land\")\n",
    "elif fuel == \"low\":\n",
    "    print(\"emergency landing\")\n",
    "else:\n",
    "    print(\"circle in the air\")"
   ]
  },
  {
   "attachments": {},
   "cell_type": "markdown",
   "metadata": {},
   "source": [
    "Write a pseudo-code to find the sum of numbers divisible by 4.The pseudo-code must allow the user to accept a number and add it to the sum if it is divisible by 4. It should continue accepting numbers as long as the user wants to provide an input and should display the final sum."
   ]
  },
  {
   "cell_type": "code",
   "execution_count": null,
   "metadata": {},
   "outputs": [],
   "source": []
  },
  {
   "attachments": {},
   "cell_type": "markdown",
   "metadata": {},
   "source": [
    "Write a pseudo-code to check whether a given number is a palindrome.\n",
    "Examples of palindrome: 121, 1331, 2332,78900987,123456654321 etc."
   ]
  },
  {
   "cell_type": "code",
   "execution_count": null,
   "metadata": {},
   "outputs": [],
   "source": []
  },
  {
   "attachments": {},
   "cell_type": "markdown",
   "metadata": {},
   "source": [
    "Write a pseudo-code to find out if a given year is a leap year or not.\n",
    "Any year which is divisible by 4 and not by 100 are leap years. Otherwise, any year which is divisible by 400 is also a leap year.\n",
    "Use the drag and drop option provided to create the correct pseudo-code."
   ]
  },
  {
   "cell_type": "code",
   "execution_count": null,
   "metadata": {},
   "outputs": [],
   "source": []
  },
  {
   "attachments": {},
   "cell_type": "markdown",
   "metadata": {},
   "source": [
    "Write a pseudo-code to find the minimum among three given numbers.\n",
    "Assume that the three numbers are always different."
   ]
  },
  {
   "cell_type": "code",
   "execution_count": null,
   "metadata": {},
   "outputs": [],
   "source": []
  },
  {
   "attachments": {},
   "cell_type": "markdown",
   "metadata": {},
   "source": [
    "A three digit number is said to be an “Armstrong number” if the sum of the third power of its individual digits is equal to the number itself.\n",
    "Example: 371 is an Armstrong number as 371 = 3 3 + 7 3 + 1 3\n",
    "              407 is an Armstrong number as 407 = 4 3 + 0 3 + 7 3\n",
    "Write a pseudo-code to check whether a given three digit number is an Armstrong number."
   ]
  },
  {
   "cell_type": "code",
   "execution_count": null,
   "metadata": {},
   "outputs": [],
   "source": []
  },
  {
   "attachments": {},
   "cell_type": "markdown",
   "metadata": {},
   "source": [
    "JIT University offering degree courses to students has decided to provide scholarship based on the following details:\n",
    "\n",
    "Branch of study\tScore (%)\tScholarship %\tRemarks\n",
    "Arts\tScore is at least 90\t50\tThe student is eligible only for one scholarship% even if both the score conditions are valid for the given branch of study. In such cases, students are eligible for the highest scholarship% applicable among the two.\n",
    "Arts\tScore is an odd number\t5\n",
    "Engineering\tScore is more than 85\t50\n",
    "Engineering\tScore is divisible by 7\t5If there are 500 students who have joined the university, write a pseudo-code to calculate and display the final fees to be paid by each student.\n",
    "You may accept the branch of study, score and course fee as inputs for each student and calculate the final fees to be paid by each student based on formulae given below:\n",
    "Scholarship amount=course fee * (scholarship%)\n",
    "Final fee= course fee - scholarship amount"
   ]
  },
  {
   "cell_type": "code",
   "execution_count": null,
   "metadata": {},
   "outputs": [],
   "source": []
  },
  {
   "cell_type": "markdown",
   "metadata": {},
   "source": []
  }
 ],
 "metadata": {
  "kernelspec": {
   "display_name": "Python 3",
   "language": "python",
   "name": "python3"
  },
  "language_info": {
   "codemirror_mode": {
    "name": "ipython",
    "version": 3
   },
   "file_extension": ".py",
   "mimetype": "text/x-python",
   "name": "python",
   "nbconvert_exporter": "python",
   "pygments_lexer": "ipython3",
   "version": "3.9.13"
  },
  "orig_nbformat": 4
 },
 "nbformat": 4,
 "nbformat_minor": 2
}
