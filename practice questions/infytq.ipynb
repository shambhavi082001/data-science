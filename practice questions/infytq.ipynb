{
 "cells": [
  {
   "attachments": {},
   "cell_type": "markdown",
   "metadata": {},
   "source": [
    "counting the number of flights in the airport. At the start of the day there were 100 flights in the airport. Based on the number of takeoffs and number of landings in a day, how would you figure out the current number of flights in the airport?"
   ]
  },
  {
   "cell_type": "code",
   "execution_count": 2,
   "metadata": {},
   "outputs": [
    {
     "name": "stdout",
     "output_type": "stream",
     "text": [
      "90\n"
     ]
    }
   ],
   "source": [
    "takeoffs = int(input(\"enter no of takoffs\"))\n",
    "landing = int(input(\"enter no of landings\"))\n",
    "initial_value = 100\n",
    "current_num = initial_value + landing - takeoffs\n",
    "print(current_num)"
   ]
  },
  {
   "attachments": {},
   "cell_type": "markdown",
   "metadata": {},
   "source": [
    "pseudo-code to represent the logic for converting a given number of days into its equivalent number of seconds.\n",
    "\n",
    "Sample Input for No. of days\t                Expected Output\n",
    "          3\t                             Total number of seconds: 259200\n",
    "          5\t                             Total number of seconds: 432000\n",
    "\n",
    "Pseudo-code\n",
    "input No_Of_Days\n",
    "Seconds= No_Of_Days*24*60*60\n",
    "display \"Total number of seconds:\",Seconds\n"
   ]
  },
  {
   "cell_type": "code",
   "execution_count": 5,
   "metadata": {},
   "outputs": [
    {
     "name": "stdout",
     "output_type": "stream",
     "text": [
      "432000\n"
     ]
    }
   ],
   "source": [
    "num_of_days = int(input(\"no of days\"))\n",
    "seconds = num_of_days*24*60*60\n",
    "print(seconds)"
   ]
  },
  {
   "attachments": {},
   "cell_type": "markdown",
   "metadata": {},
   "source": [
    "if a flight is approaching the runway, ATC should check if the runway is free. If the runway is not free, then the flight should not land immediately. It should circle in the air and wait for further instructions from the ATC.\n",
    "\n",
    "pseudo-code \n",
    "if (runway == free) \n",
    "  display \"land \"\n",
    "else \n",
    "display \"circle in the air"
   ]
  },
  {
   "cell_type": "code",
   "execution_count": 7,
   "metadata": {},
   "outputs": [
    {
     "name": "stdout",
     "output_type": "stream",
     "text": [
      "you can land\n"
     ]
    }
   ],
   "source": [
    "runway = input(\"please tell runway is free or not\")\n",
    "if runway == \"free\":\n",
    "    print(\"you can land\")\n",
    "else:\n",
    "    print(\"circle in the air\")"
   ]
  },
  {
   "attachments": {},
   "cell_type": "markdown",
   "metadata": {},
   "source": [
    "if the runway is free, the flight can land. But if the flight has less fuel, then it should be allowed an emergency landing. Otherwise, it should circle in the air."
   ]
  },
  {
   "cell_type": "code",
   "execution_count": 15,
   "metadata": {},
   "outputs": [
    {
     "name": "stdout",
     "output_type": "stream",
     "text": [
      "circle in the air\n"
     ]
    }
   ],
   "source": [
    "runway = input(\"please tell runway is free or not\")\n",
    "fuel = input(\"enter yes if fuel is low\")\n",
    "if runway == \"free\":\n",
    "    print(\"you can land\")\n",
    "elif fuel == \"low\":\n",
    "    print(\"emergency landing\")\n",
    "else:\n",
    "    print(\"circle in the air\")"
   ]
  },
  {
   "cell_type": "code",
   "execution_count": null,
   "metadata": {},
   "outputs": [],
   "source": []
  },
  {
   "cell_type": "code",
   "execution_count": null,
   "metadata": {},
   "outputs": [],
   "source": []
  }
 ],
 "metadata": {
  "kernelspec": {
   "display_name": "Python 3",
   "language": "python",
   "name": "python3"
  },
  "language_info": {
   "codemirror_mode": {
    "name": "ipython",
    "version": 3
   },
   "file_extension": ".py",
   "mimetype": "text/x-python",
   "name": "python",
   "nbconvert_exporter": "python",
   "pygments_lexer": "ipython3",
   "version": "3.9.13"
  },
  "orig_nbformat": 4
 },
 "nbformat": 4,
 "nbformat_minor": 2
}
