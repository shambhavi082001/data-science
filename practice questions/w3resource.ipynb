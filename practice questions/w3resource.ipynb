{
 "cells": [
  {
   "cell_type": "markdown",
   "metadata": {},
   "source": [
    "1. Write a Python program to print the following string in a specific format\n",
    "Twinkle, twinkle, little star,\n",
    "\tHow I wonder what you are! \n",
    "\t\tUp above the world so high,   \t\t\n",
    "\t\tLike a diamond in the sky. \n",
    "Twinkle, twinkle, little star, \n",
    "\tHow I wonder what you are"
   ]
  },
  {
   "cell_type": "code",
   "execution_count": 3,
   "metadata": {},
   "outputs": [
    {
     "name": "stdout",
     "output_type": "stream",
     "text": [
      "Twinkle, twinkle, little star, \n",
      "\tHow I wonder What you are! \n",
      "\t\tUp above the world so high \n",
      "\t\tLike a diamond in the sky. \n",
      "Twinkle, twinkle little star, \n",
      "\tHow i wonder what you are\n"
     ]
    }
   ],
   "source": [
    "print(\"Twinkle, twinkle, little star, \\n\\tHow I wonder What you are! \\n\\t\\tUp above the world so high \\n\\t\\tLike a diamond in the sky. \\nTwinkle, twinkle little star, \\n\\tHow i wonder what you are\")"
   ]
  },
  {
   "cell_type": "markdown",
   "metadata": {},
   "source": [
    "2. Write a Python program to find out what version of Python you are using."
   ]
  },
  {
   "cell_type": "code",
   "execution_count": 1,
   "metadata": {},
   "outputs": [
    {
     "data": {
      "text/plain": [
       "'3.9.13 (main, Aug 25 2022, 23:51:50) [MSC v.1916 64 bit (AMD64)]'"
      ]
     },
     "execution_count": 1,
     "metadata": {},
     "output_type": "execute_result"
    }
   ],
   "source": [
    "import sys\n",
    "sys.version"
   ]
  },
  {
   "cell_type": "markdown",
   "metadata": {},
   "source": [
    "3. Write a Python program to display the current date and time.\n",
    "\n",
    "Sample Output :\n",
    "\n",
    "Current date and time :\n",
    "\n",
    "2014-07-05 14:34:14"
   ]
  },
  {
   "cell_type": "code",
   "execution_count": 4,
   "metadata": {},
   "outputs": [
    {
     "name": "stdout",
     "output_type": "stream",
     "text": [
      "Current date and time 2023-07-24 12:30:42.407191\n"
     ]
    }
   ],
   "source": [
    "import datetime\n",
    "current_date_time = datetime.datetime.now()\n",
    "print(\"Current date and time\", current_date_time)"
   ]
  },
  {
   "cell_type": "markdown",
   "metadata": {},
   "source": [
    "4. Write a Python program that calculates the area of a circle based on the radius entered by the user.\n",
    "\n",
    "Sample Output :\n",
    "\n",
    "r = 1.1\n",
    "\n",
    "Area = 3.8013271108436504"
   ]
  },
  {
   "cell_type": "code",
   "execution_count": 5,
   "metadata": {},
   "outputs": [
    {
     "name": "stdout",
     "output_type": "stream",
     "text": [
      "3631.67804\n"
     ]
    }
   ],
   "source": [
    "r = int(input(\"enter the valur of radius\"))\n",
    "area =  3.14159*r**2\n",
    "print(area)"
   ]
  },
  {
   "cell_type": "code",
   "execution_count": 8,
   "metadata": {},
   "outputs": [
    {
     "name": "stdout",
     "output_type": "stream",
     "text": [
      "area of circle is 3631.681107549801\n"
     ]
    }
   ],
   "source": [
    "from math import pi\n",
    "r = float(input(\"enter the value of radius\"))\n",
    "print(\"area of circle is\", (pi*r**2))"
   ]
  },
  {
   "cell_type": "markdown",
   "metadata": {},
   "source": [
    "5. Write a Python program that accepts the user's first and last name and prints them in reverse order with a space between them."
   ]
  },
  {
   "cell_type": "code",
   "execution_count": 10,
   "metadata": {},
   "outputs": [
    {
     "name": "stdout",
     "output_type": "stream",
     "text": [
      "shukla sham\n"
     ]
    }
   ],
   "source": [
    "f_name = input(\"enter your first name\")\n",
    "l_name = input(\"enter yor last name\")\n",
    "print( l_name, f_name)"
   ]
  },
  {
   "cell_type": "markdown",
   "metadata": {},
   "source": [
    "6. Write a Python program that accepts a sequence of comma-separated numbers from the user and generates a list and a tuple of those numbers.\n",
    "\n",
    "Sample data : 3, 5, 7, 23\n",
    "\n",
    "Output :\n",
    "\n",
    "List : ['3', ' 5', ' 7', ' 23']\n",
    "\n",
    "Tuple : ('3', ' 5', ' 7', ' 23')"
   ]
  },
  {
   "cell_type": "code",
   "execution_count": 11,
   "metadata": {},
   "outputs": [
    {
     "name": "stdout",
     "output_type": "stream",
     "text": [
      "List: ['4', '6', '5', '2', '4', '7', '8', '9']\n",
      "Tuple: ('4', '6', '5', '2', '4', '7', '8', '9')\n"
     ]
    }
   ],
   "source": [
    "values = input(\"some comma seperated numbers\")\n",
    "list = values.split(\",\")\n",
    "tuple = tuple(list)\n",
    "print(\"List:\", list)\n",
    "print(\"Tuple:\", tuple)"
   ]
  },
  {
   "cell_type": "markdown",
   "metadata": {},
   "source": [
    "7. Write a Python program that accepts a filename from the user and prints the extension of the file.\n",
    "Sample filename : abc.java\n",
    "Output : java"
   ]
  },
  {
   "cell_type": "markdown",
   "metadata": {},
   "source": [
    "8. Write a Python program to display the first and last colors from the following list.\n",
    "\n",
    "color_list = [\"Red\",\"Green\",\"White\" ,\"Black\"]"
   ]
  },
  {
   "cell_type": "code",
   "execution_count": 3,
   "metadata": {},
   "outputs": [
    {
     "name": "stdout",
     "output_type": "stream",
     "text": [
      "Red Black\n"
     ]
    }
   ],
   "source": [
    "color_list = [\"Red\",\"Green\",\"White\" ,\"Black\"]\n",
    "print(color_list[0],color_list[-1])"
   ]
  },
  {
   "cell_type": "markdown",
   "metadata": {},
   "source": [
    "9. Write a Python program to display the examination schedule. (extract the date from exam_st_date).\n",
    "\n",
    "exam_st_date = (11, 12, 2014)\n",
    "\n",
    "Sample Output : The examination will start from : 11 / 12 / 2014"
   ]
  },
  {
   "cell_type": "code",
   "execution_count": 7,
   "metadata": {},
   "outputs": [
    {
     "name": "stdout",
     "output_type": "stream",
     "text": [
      "the exam will start from:  11 / 12 / 2014\n"
     ]
    }
   ],
   "source": [
    "exam_st_date = (11, 12, 2014)\n",
    "day, month, year = exam_st_date\n",
    "formated_output = f\" {day} / {month} / {year}\"\n",
    "print(\"the exam will start from:\", formated_output)"
   ]
  },
  {
   "cell_type": "markdown",
   "metadata": {},
   "source": [
    "10. Write a Python program that accepts an integer (n) and computes the value of n+nn+nnn.\n",
    "\n",
    "Sample value of n is 5\n",
    "\n",
    "Expected Result : 615"
   ]
  },
  {
   "cell_type": "code",
   "execution_count": 15,
   "metadata": {},
   "outputs": [
    {
     "name": "stdout",
     "output_type": "stream",
     "text": [
      "5\n",
      "55\n",
      "615\n"
     ]
    }
   ],
   "source": [
    "n1 = int(input(\"enter an integer\"))\n",
    "n2 = int(str(n1)+str(n1))\n",
    "n3 = int(str(n2)+str(n1))\n",
    "final = n1+n2+n3\n",
    "print(final)\n"
   ]
  },
  {
   "cell_type": "markdown",
   "metadata": {},
   "source": [
    "11. Write a Python program to print the documents (syntax, description etc.) of Python built-in function(s).\n",
    "\n",
    "Sample function : abs()\n",
    "\n",
    "Expected Result :\n",
    "\n",
    "abs(number) -> number\n",
    "\n",
    "Return the absolute value of the argument."
   ]
  },
  {
   "cell_type": "code",
   "execution_count": 7,
   "metadata": {},
   "outputs": [
    {
     "name": "stdout",
     "output_type": "stream",
     "text": [
      "<method-wrapper '__init__' of builtin_function_or_method object at 0x000001DB2031EBD0>\n"
     ]
    }
   ],
   "source": [
    "print(abs.__init__)"
   ]
  },
  {
   "cell_type": "markdown",
   "metadata": {},
   "source": [
    "12. Write a Python program that prints the calendar for a given month and year.\n",
    "Note : Use 'calendar' module."
   ]
  },
  {
   "cell_type": "code",
   "execution_count": 8,
   "metadata": {},
   "outputs": [
    {
     "name": "stdout",
     "output_type": "stream",
     "text": [
      "    August 2002\n",
      "Mo Tu We Th Fr Sa Su\n",
      "          1  2  3  4\n",
      " 5  6  7  8  9 10 11\n",
      "12 13 14 15 16 17 18\n",
      "19 20 21 22 23 24 25\n",
      "26 27 28 29 30 31\n",
      "\n"
     ]
    }
   ],
   "source": [
    "import calendar\n",
    "y = int(input(\"enter the year\"))\n",
    "m = int(input(\"enter the month\"))\n",
    "print(calendar.month(y ,m))"
   ]
  },
  {
   "cell_type": "markdown",
   "metadata": {},
   "source": [
    "13. Write a Python program to print the following 'here document'.\n",
    "\n",
    "Sample string :\n",
    "\n",
    "a string that you \"don't\" have to escape\n",
    "\n",
    "This\n",
    "\n",
    "is a ....... multi-line\n",
    "\n",
    "heredoc string --------> example"
   ]
  },
  {
   "cell_type": "code",
   "execution_count": 11,
   "metadata": {},
   "outputs": [
    {
     "name": "stdout",
     "output_type": "stream",
     "text": [
      "\n",
      "a string that you \"don't\" have to escape\n",
      "This\n",
      "is a.......multi-line\n",
      "heredoc string------->example\n"
     ]
    }
   ],
   "source": [
    "print(\"\"\"\n",
    "a string that you \"don't\" have to escape\n",
    "This\n",
    "is a.......multi-line\n",
    "heredoc string------->example\"\"\")"
   ]
  },
  {
   "cell_type": "markdown",
   "metadata": {},
   "source": [
    "14. Write a Python program to calculate the number of days between two dates.\n",
    "\n",
    "Sample dates : (2014, 7, 2), (2014, 7, 11)\n",
    "Expected output : 9 days"
   ]
  },
  {
   "cell_type": "code",
   "execution_count": 3,
   "metadata": {},
   "outputs": [
    {
     "name": "stdout",
     "output_type": "stream",
     "text": [
      "9 days, 0:00:00\n"
     ]
    }
   ],
   "source": [
    "from datetime import date\n",
    "day1 = date(2014,7,2)\n",
    "day2 = date(2014,7,11)\n",
    "d3 = day2-day1\n",
    "print(d3)"
   ]
  },
  {
   "cell_type": "markdown",
   "metadata": {},
   "source": [
    "15. Write a Python program to get the volume of a sphere with radius six"
   ]
  },
  {
   "cell_type": "code",
   "execution_count": 6,
   "metadata": {},
   "outputs": [
    {
     "name": "stdout",
     "output_type": "stream",
     "text": [
      "904.7786842338603\n"
     ]
    }
   ],
   "source": [
    "# v = 4/3*pi*r*3\n",
    "from math import pi\n",
    "r = 6\n",
    "v = 4/3 * pi* 6**3\n",
    "print(v)"
   ]
  },
  {
   "cell_type": "markdown",
   "metadata": {},
   "source": [
    "16. Write a Python program to calculate the difference between a given number and 17. If the number is greater than 17, return twice the absolute difference."
   ]
  },
  {
   "cell_type": "code",
   "execution_count": 19,
   "metadata": {},
   "outputs": [
    {
     "name": "stdout",
     "output_type": "stream",
     "text": [
      "10\n"
     ]
    }
   ],
   "source": [
    "num = int(input())\n",
    "if num <= 17:\n",
    "    print(17-num)\n",
    "else:\n",
    "    print((num-17) * 2)"
   ]
  },
  {
   "cell_type": "markdown",
   "metadata": {},
   "source": [
    "17. Write a Python program to test whether a number is within 100 of 1000 or 2000."
   ]
  },
  {
   "cell_type": "code",
   "execution_count": 20,
   "metadata": {},
   "outputs": [
    {
     "name": "stdout",
     "output_type": "stream",
     "text": [
      "True\n",
      "True\n",
      "False\n",
      "False\n"
     ]
    }
   ],
   "source": [
    "def near_thousand(n):\n",
    "      return ((abs(1000 - n) <= 100) or (abs(2000 - n) <= 100))\n",
    "print(near_thousand(1000))\n",
    "print(near_thousand(900))\n",
    "print(near_thousand(800))   \n",
    "print(near_thousand(2200))"
   ]
  },
  {
   "cell_type": "markdown",
   "metadata": {},
   "source": [
    "18. Write a Python program to calculate the sum of three given numbers. If the values are equal, return three times their sum."
   ]
  },
  {
   "cell_type": "code",
   "execution_count": 24,
   "metadata": {},
   "outputs": [
    {
     "name": "stdout",
     "output_type": "stream",
     "text": [
      "9\n"
     ]
    }
   ],
   "source": [
    "\n",
    "def sum_thrice(x,y,z):\n",
    "    sum = x+y+z\n",
    "    if x ==y==z:\n",
    "        sum = sum*3\n",
    "    return sum\n",
    "print(sum_thrice(2,3,4))\n"
   ]
  },
  {
   "cell_type": "markdown",
   "metadata": {},
   "source": [
    "19. Write a Python program to get a newly-generated string from a given string where \"Is\" has been added to the front. Return the string unchanged if the given string already begins with \"Is\"."
   ]
  },
  {
   "cell_type": "code",
   "execution_count": 9,
   "metadata": {},
   "outputs": [],
   "source": [
    "def new_string(text):\n",
    "    if len(text) >=2 and text[:2] == \"Is\":\n",
    "        return text\n",
    "\n",
    "    return \"Is\" +text"
   ]
  },
  {
   "cell_type": "code",
   "execution_count": 10,
   "metadata": {},
   "outputs": [
    {
     "name": "stdout",
     "output_type": "stream",
     "text": [
      "Isn\n"
     ]
    }
   ],
   "source": [
    "print(new_string(\"n\"))"
   ]
  },
  {
   "cell_type": "markdown",
   "metadata": {},
   "source": [
    "20. Write a Python program that returns a string that is n (non-negative integer) copies of a given string."
   ]
  },
  {
   "cell_type": "code",
   "execution_count": 43,
   "metadata": {},
   "outputs": [
    {
     "name": "stdout",
     "output_type": "stream",
     "text": [
      "ghighighi\n"
     ]
    }
   ],
   "source": [
    "def ret_string(text,n):\n",
    "    a = \"\"\n",
    "    for i in range(n):\n",
    "        a = a + text\n",
    "    return a\n",
    "print(ret_string('ghi',3))    "
   ]
  },
  {
   "cell_type": "markdown",
   "metadata": {},
   "source": [
    "21. Write a Python program that determines whether a given number (accepted from the user) is even or odd, and prints an appropriate message to the user."
   ]
  },
  {
   "cell_type": "code",
   "execution_count": 44,
   "metadata": {},
   "outputs": [
    {
     "name": "stdout",
     "output_type": "stream",
     "text": [
      "odd\n"
     ]
    }
   ],
   "source": [
    "n = int(input())\n",
    "if n%2 == 0:\n",
    "    print(\"even\")\n",
    "else:\n",
    "     print(\"odd\")"
   ]
  },
  {
   "cell_type": "code",
   "execution_count": 46,
   "metadata": {},
   "outputs": [
    {
     "name": "stdout",
     "output_type": "stream",
     "text": [
      "even\n"
     ]
    }
   ],
   "source": [
    "def even_odd(n):\n",
    "    if n%2 == 0:\n",
    "        return \"even\"\n",
    "    return \"odd\"\n",
    "print(even_odd(12))"
   ]
  },
  {
   "cell_type": "markdown",
   "metadata": {},
   "source": [
    "22. Write a Python program to count the number 4 in a given list."
   ]
  },
  {
   "cell_type": "code",
   "execution_count": 47,
   "metadata": {},
   "outputs": [
    {
     "name": "stdout",
     "output_type": "stream",
     "text": [
      "2\n"
     ]
    }
   ],
   "source": [
    "def count_list_4(nums):\n",
    "    count = 0\n",
    "    for num in nums:\n",
    "        if num == 4:\n",
    "            count = count+1\n",
    "    return count\n",
    "\n",
    "print(count_list_4([1,4,3,5,6,4]))"
   ]
  },
  {
   "cell_type": "code",
   "execution_count": 8,
   "metadata": {},
   "outputs": [
    {
     "name": "stdout",
     "output_type": "stream",
     "text": [
      "2\n"
     ]
    }
   ],
   "source": [
    "n_list =input(\"enter comma sepersted num\")\n",
    "new_list =[int(i) for i in n_list.split(',')]\n",
    "count = 0\n",
    "for i in new_list:\n",
    "    if i ==4:\n",
    "        count= count+1\n",
    "print(count)"
   ]
  },
  {
   "cell_type": "markdown",
   "metadata": {},
   "source": [
    "23. Write a Python program to get n (non-negative integer) copies of the first 2 characters of a given string. Return n copies of the whole string if the length is less than 2."
   ]
  },
  {
   "cell_type": "code",
   "execution_count": 1,
   "metadata": {},
   "outputs": [
    {
     "name": "stdout",
     "output_type": "stream",
     "text": [
      "abab\n",
      "ppp\n"
     ]
    }
   ],
   "source": [
    "def substring_copy(text, n):\n",
    "  #flen = 2\n",
    "  if len(text) < 2:\n",
    "    a = len(text)\n",
    "  substr = text[:2]\n",
    "  result = \"\"\n",
    "  for i in range(n):\n",
    "    result = result + substr\n",
    "  return result\n",
    "print(substring_copy('abcdef', 2))\n",
    "print(substring_copy('p', 3))"
   ]
  },
  {
   "cell_type": "code",
   "execution_count": 2,
   "metadata": {},
   "outputs": [
    {
     "name": "stdout",
     "output_type": "stream",
     "text": [
      "abab\n",
      "ppp\n"
     ]
    }
   ],
   "source": [
    "def substring_copy(text, n):\n",
    "    if len(text) < 2:\n",
    "        return text * n\n",
    "    substr = text[:2]\n",
    "    return substr * n\n",
    "\n",
    "print(substring_copy('abcdef', 2))\n",
    "print(substring_copy('p', 3))"
   ]
  },
  {
   "cell_type": "markdown",
   "metadata": {},
   "source": [
    "24. Write a Python program to test whether a passed letter is a vowel or not."
   ]
  },
  {
   "cell_type": "code",
   "execution_count": 5,
   "metadata": {},
   "outputs": [
    {
     "name": "stdout",
     "output_type": "stream",
     "text": [
      "Not a vowel\n"
     ]
    }
   ],
   "source": [
    "letter = input(\"Enter any word: \")\n",
    "vowels = ['a', 'e', 'i', 'o', 'u']  # Fixed the list declaration\n",
    "\n",
    "if letter.lower() in vowels:\n",
    "    print(\"Vowel\")\n",
    "else:\n",
    "    print(\"Not a vowel\")"
   ]
  },
  {
   "cell_type": "code",
   "execution_count": null,
   "metadata": {},
   "outputs": [],
   "source": [
    "def is_vowel(char):\n",
    "    all_vowels = 'aeiou'\n",
    "    return char in all_vowels\n",
    "print(is_vowel('c'))\n",
    "print(is_vowel('e'))"
   ]
  },
  {
   "cell_type": "code",
   "execution_count": 11,
   "metadata": {},
   "outputs": [
    {
     "name": "stdout",
     "output_type": "stream",
     "text": [
      "false\n"
     ]
    }
   ],
   "source": [
    "letter = input()\n",
    "vowel = ['a','e','i','o','u']\n",
    "if letter in vowel:\n",
    "    print(\"true\")\n",
    "else:\n",
    "    print(\"false\")"
   ]
  },
  {
   "cell_type": "code",
   "execution_count": 9,
   "metadata": {},
   "outputs": [
    {
     "name": "stdout",
     "output_type": "stream",
     "text": [
      "False\n"
     ]
    }
   ],
   "source": [
    "def is_vowel(char):\n",
    "    vowel = 'aeiou'\n",
    "    return char in vowel\n",
    "print(is_vowel('c'))"
   ]
  },
  {
   "cell_type": "markdown",
   "metadata": {},
   "source": [
    "25. Write a Python program that checks whether a specified value is contained within a group of values.\n",
    "Test Data :\n",
    "\n",
    "3 -> [1, 5, 8, 3] : True\n",
    "\n",
    "-1 -> [1, 5, 8, 3] : False"
   ]
  },
  {
   "cell_type": "code",
   "execution_count": 3,
   "metadata": {},
   "outputs": [],
   "source": [
    "def check_group_value(group_value, n):\n",
    "    for value in group_value:\n",
    "        if n == value:\n",
    "            return True\n",
    "    return False"
   ]
  },
  {
   "cell_type": "code",
   "execution_count": 18,
   "metadata": {},
   "outputs": [
    {
     "name": "stdout",
     "output_type": "stream",
     "text": [
      "True\n"
     ]
    }
   ],
   "source": [
    "print(check_group_value([1, 5, 8, 3], 3))"
   ]
  },
  {
   "cell_type": "markdown",
   "metadata": {},
   "source": [
    "26. Write a Python program to create a histogram from a given list of integers."
   ]
  },
  {
   "cell_type": "code",
   "execution_count": 11,
   "metadata": {},
   "outputs": [],
   "source": [
    "def hist_items(items):\n",
    "    for n in items:\n",
    "        output = \" \"\n",
    "        while(n>0):\n",
    "            output+='*'\n",
    "            n = n-1\n",
    "        print(output)"
   ]
  },
  {
   "cell_type": "code",
   "execution_count": 13,
   "metadata": {},
   "outputs": [
    {
     "name": "stdout",
     "output_type": "stream",
     "text": [
      " ***\n",
      " ****\n",
      " *****\n",
      " ******\n"
     ]
    }
   ],
   "source": [
    "hist_items([3,4,5,6])"
   ]
  },
  {
   "cell_type": "code",
   "execution_count": 9,
   "metadata": {},
   "outputs": [],
   "source": [
    "def hist_items(items):\n",
    "    for n in items:\n",
    "        output = \" \"\n",
    "        times = n\n",
    "        while(n>0):\n",
    "            output+='*'\n",
    "            times = times-1\n",
    "        print(output)\n",
    "\n"
   ]
  },
  {
   "cell_type": "code",
   "execution_count": 12,
   "metadata": {},
   "outputs": [
    {
     "name": "stdout",
     "output_type": "stream",
     "text": [
      " **\n",
      " ***\n"
     ]
    }
   ],
   "source": [
    "hist_items([2, 3])"
   ]
  },
  {
   "cell_type": "markdown",
   "metadata": {},
   "source": [
    "27. Write a Python program that concatenates all elements in a list into a string and returns it."
   ]
  },
  {
   "cell_type": "code",
   "execution_count": 1,
   "metadata": {},
   "outputs": [],
   "source": [
    "def concat_str(list):\n",
    "    result = \" \"\n",
    "    for i in list:\n",
    "        result = result+str(i)\n",
    "    return result\n"
   ]
  },
  {
   "cell_type": "code",
   "execution_count": 2,
   "metadata": {},
   "outputs": [
    {
     "name": "stdout",
     "output_type": "stream",
     "text": [
      " 1234\n"
     ]
    }
   ],
   "source": [
    "print(concat_str([1,2,3,4]))"
   ]
  },
  {
   "cell_type": "markdown",
   "metadata": {},
   "source": [
    "28. Write a Python program to print all even numbers from a given list of numbers in the same order and stop \n",
    "\n",
    "printing any after 237 in the sequence.\n",
    "\n",
    "Sample numbers list :\n",
    "\n",
    "numbers = [    \n",
    "\n",
    "    386, 462, 47, 418, 907, 344, 236, 375, 823, 566, 597, 978, 328, 615, 953, 345, \n",
    "\n",
    "    399, 162, 758, 219, 918, 237, 412, 566, 826, 248, 866, 950, 626, 949, 687, 217, \n",
    "\n",
    "    815, 67, 104, 58, 512, 24, 892, 894, 767, 553, 81, 379, 843, 831, 445, 742, 717, \n",
    "\n",
    "    958,743, 527\n",
    "    ]"
   ]
  },
  {
   "cell_type": "code",
   "execution_count": 3,
   "metadata": {},
   "outputs": [
    {
     "name": "stdout",
     "output_type": "stream",
     "text": [
      "386\n",
      "462\n",
      "47\n",
      "418\n",
      "907\n",
      "344\n",
      "236\n",
      "375\n",
      "823\n",
      "566\n",
      "597\n",
      "978\n",
      "328\n",
      "615\n",
      "953\n",
      "345\n",
      "399\n",
      "162\n",
      "758\n",
      "219\n",
      "918\n",
      "237\n"
     ]
    }
   ],
   "source": [
    "numbers = [    \n",
    "\n",
    "    386, 462, 47, 418, 907, 344, 236, 375, 823, 566, 597, 978, 328, 615, 953, 345, \n",
    "\n",
    "    399, 162, 758, 219, 918, 237, 412, 566, 826, 248, 866, 950, 626, 949, 687, 217, \n",
    "\n",
    "    815, 67, 104, 58, 512, 24, 892, 894, 767, 553, 81, 379, 843, 831, 445, 742, 717, \n",
    "\n",
    "    958,743, 527\n",
    "    ]\n",
    "for i in numbers:\n",
    "    if i == 237:\n",
    "        print(i)\n",
    "        break\n",
    "    else:\n",
    "        print(i)"
   ]
  },
  {
   "cell_type": "markdown",
   "metadata": {},
   "source": [
    "29. Write a Python program that prints out all colors from color_list_1 that are not present in color_list_2.\n",
    "Test Data :\n",
    "\n",
    "color_list_1 = set([\"White\", \"Black\", \"Red\"])\n",
    "\n",
    "color_list_2 = set([\"Red\", \"Green\"])\n",
    "\n",
    "Expected Output :\n",
    "\n",
    "{'Black', 'White'}"
   ]
  },
  {
   "cell_type": "code",
   "execution_count": 6,
   "metadata": {},
   "outputs": [
    {
     "name": "stdout",
     "output_type": "stream",
     "text": [
      "{'Black', 'White'}\n",
      "{'Green'}\n"
     ]
    }
   ],
   "source": [
    "color_list_1 = set([\"White\", \"Black\", \"Red\"])\n",
    "\n",
    "color_list_2 = set([\"Red\", \"Green\"])\n",
    "\n",
    "print(color_list_1.difference(color_list_2))\n",
    "print(color_list_2.difference(color_list_1))"
   ]
  },
  {
   "cell_type": "markdown",
   "metadata": {},
   "source": [
    "30. Write a Python program that will accept the base and height of a triangle and compute its area./\n"
   ]
  },
  {
   "cell_type": "code",
   "execution_count": 7,
   "metadata": {},
   "outputs": [
    {
     "name": "stdout",
     "output_type": "stream",
     "text": [
      "area of triangle is: 9.0\n"
     ]
    }
   ],
   "source": [
    "# area of triangle = 1/2 * base * hight\n",
    "b = float(input(\"enter base value\"))\n",
    "h = float(input(\"enter hight value\"))\n",
    "a = 1/2 * b * h\n",
    "print(\"area of triangle is:\", a)"
   ]
  },
  {
   "cell_type": "markdown",
   "metadata": {},
   "source": [
    "31. Write a Python program that computes the greatest common divisor (GCD) of two positive integers."
   ]
  },
  {
   "cell_type": "code",
   "execution_count": 15,
   "metadata": {},
   "outputs": [],
   "source": [
    "def gcd(n1,n2):\n",
    "    gcd = 1\n",
    "    if n1 % n2 ==0:\n",
    "        return n2\n",
    "    for k in range(n2//2, 0, -1):\n",
    "        if n1 % k == 0 and n2 % k == 0:\n",
    "            gcd = k\n",
    "            break\n",
    "    return gcd\n",
    "    \n"
   ]
  },
  {
   "cell_type": "code",
   "execution_count": 16,
   "metadata": {},
   "outputs": [
    {
     "name": "stdout",
     "output_type": "stream",
     "text": [
      "GCD of 12 & 17 = 1\n"
     ]
    }
   ],
   "source": [
    "print(\"GCD of 12 & 17 =\",gcd(12, 17))"
   ]
  },
  {
   "cell_type": "markdown",
   "metadata": {},
   "source": [
    "32. Write a Python program to find the least common multiple (LCM) of two positive integers."
   ]
  },
  {
   "cell_type": "code",
   "execution_count": 23,
   "metadata": {},
   "outputs": [],
   "source": [
    "def lcm(x,y):\n",
    "    if x>y:\n",
    "        z = x\n",
    "    else:\n",
    "        z = y\n",
    "    while(True):\n",
    "        if z%x ==0 and z%y==0:\n",
    "            lcm = z\n",
    "            break\n",
    "        z+=1\n",
    "    return lcm\n"
   ]
  },
  {
   "cell_type": "code",
   "execution_count": 24,
   "metadata": {},
   "outputs": [
    {
     "name": "stdout",
     "output_type": "stream",
     "text": [
      "12\n"
     ]
    }
   ],
   "source": [
    "print(lcm(4,6))"
   ]
  },
  {
   "cell_type": "markdown",
   "metadata": {},
   "source": [
    "33. Write a Python program to sum three given integers. However, if two values are equal, the sum will be zero."
   ]
  },
  {
   "cell_type": "code",
   "execution_count": 29,
   "metadata": {},
   "outputs": [],
   "source": [
    "def sum(x,y,z):\n",
    "    if x==y or x==z or y==z:\n",
    "        sum = 0\n",
    "    else:\n",
    "        sum = x+y+z\n",
    "    return sum\n"
   ]
  },
  {
   "cell_type": "code",
   "execution_count": 30,
   "metadata": {},
   "outputs": [
    {
     "name": "stdout",
     "output_type": "stream",
     "text": [
      "0\n"
     ]
    }
   ],
   "source": [
    "print(sum(2,3,2))"
   ]
  },
  {
   "cell_type": "markdown",
   "metadata": {},
   "source": [
    "34. Write a Python program to sum two given integers. However, if the sum is between 15 and 20 it will return 20."
   ]
  },
  {
   "cell_type": "code",
   "execution_count": 32,
   "metadata": {},
   "outputs": [],
   "source": [
    "def sum_2(x,y):\n",
    "    sum = x+y\n",
    "    if sum in range(15,20):\n",
    "        sum = 20\n",
    "    return sum"
   ]
  },
  {
   "cell_type": "code",
   "execution_count": 35,
   "metadata": {},
   "outputs": [
    {
     "name": "stdout",
     "output_type": "stream",
     "text": [
      "20\n"
     ]
    }
   ],
   "source": [
    "print(sum_2(10,6))"
   ]
  },
  {
   "cell_type": "markdown",
   "metadata": {},
   "source": [
    "35. Write a Python program that returns true if the two given integer values are equal or their sum or difference is 5."
   ]
  },
  {
   "cell_type": "code",
   "execution_count": 42,
   "metadata": {},
   "outputs": [],
   "source": [
    "def value(x,y):\n",
    "    if (x == y) or (x+y==5) or (x-y==5):\n",
    "        return True\n",
    "    else:\n",
    "        return False"
   ]
  },
  {
   "cell_type": "code",
   "execution_count": 44,
   "metadata": {},
   "outputs": [
    {
     "name": "stdout",
     "output_type": "stream",
     "text": [
      "False\n"
     ]
    }
   ],
   "source": [
    "print(value(5,6))"
   ]
  },
  {
   "cell_type": "markdown",
   "metadata": {},
   "source": [
    "36. Write a Python program to add two objects if both objects are integers."
   ]
  },
  {
   "cell_type": "code",
   "execution_count": 48,
   "metadata": {},
   "outputs": [],
   "source": [
    "def add_obj(a,b):\n",
    "    if type(a) == int and type(b)==int:\n",
    "        return (a+b)\n",
    "    return \"input must be integer\""
   ]
  },
  {
   "cell_type": "code",
   "execution_count": 50,
   "metadata": {},
   "outputs": [
    {
     "name": "stdout",
     "output_type": "stream",
     "text": [
      "input must be integer\n"
     ]
    }
   ],
   "source": [
    "print(add_obj(2,'5'))"
   ]
  },
  {
   "cell_type": "markdown",
   "metadata": {},
   "source": [
    "37. Write a Python program that displays your name, age, and address on three different lines."
   ]
  },
  {
   "cell_type": "code",
   "execution_count": 56,
   "metadata": {},
   "outputs": [
    {
     "name": "stdout",
     "output_type": "stream",
     "text": [
      "Name: sham\n",
      "Age: 20\n",
      "Address: pune\n"
     ]
    }
   ],
   "source": [
    "name = input(\"name\")\n",
    "age = input(\"age\")\n",
    "address = input(\"address\")\n",
    "print(\"Name: {}\\nAge: {}\\nAddress: {}\".format(name, age, address))\n"
   ]
  },
  {
   "cell_type": "markdown",
   "metadata": {},
   "source": [
    "38. Write a Python program to solve (x + y) * (x + y).\n",
    "Test Data : x = 4, y = 3\n",
    "Expected Output : (4 + 3) ^ 2 = 49"
   ]
  },
  {
   "cell_type": "code",
   "execution_count": 59,
   "metadata": {},
   "outputs": [
    {
     "name": "stdout",
     "output_type": "stream",
     "text": [
      "(4 + 3) ^2 = 49\n"
     ]
    }
   ],
   "source": [
    "x = int(input())\n",
    "y = int(input())\n",
    "z = x*x + 2*x*y + y*y\n",
    "print(\"({} + {}) ^2 = {}\".format(x,y,z))"
   ]
  },
  {
   "cell_type": "markdown",
   "metadata": {},
   "source": [
    "39. Write a Python program to compute the future value of a specified principal amount, rate of interest, and \n",
    "\n",
    "number of years.\n",
    "\n",
    "Test Data : amt = 10000, int = 3.5, years = 7\n",
    "\n",
    "Expected Output : 12722.79\n",
    "\n",
    "FV = P * (1 + r/100)^t\n",
    "\n",
    "Where:\n",
    "\n",
    "FV is the future value of the investment.\n",
    "\n",
    "P is the principal amount (initial investment).\n",
    "\n",
    "r is the annual interest rate (percentage).\n",
    "\n",
    "t is the number of years."
   ]
  },
  {
   "cell_type": "code",
   "execution_count": 60,
   "metadata": {},
   "outputs": [],
   "source": [
    "def comput_future_value(principle_amount,interest_rate,years):\n",
    "    future_value = principle_amount *(1+interest_rate/100)**years\n",
    "    return future_value\n"
   ]
  },
  {
   "cell_type": "code",
   "execution_count": 61,
   "metadata": {},
   "outputs": [
    {
     "name": "stdout",
     "output_type": "stream",
     "text": [
      "12722.792627665729\n"
     ]
    }
   ],
   "source": [
    "print(comput_future_value(10000,3.5,7))"
   ]
  },
  {
   "cell_type": "code",
   "execution_count": 62,
   "metadata": {},
   "outputs": [
    {
     "name": "stdout",
     "output_type": "stream",
     "text": [
      "12722.79\n"
     ]
    }
   ],
   "source": [
    "amt = 10000\n",
    "int = 3.5\n",
    "years = 7\n",
    "future_value = amt*((1+(0.01*int)) ** years)\n",
    "print(round(future_value,2))"
   ]
  },
  {
   "cell_type": "markdown",
   "metadata": {},
   "source": [
    "40. Write a Python program to calculate the distance between the points (x1, y1) and (x2, y2).\n",
    "\n",
    "Distance = √((x2 - x1)^2 + (y2 - y1)^2)\n"
   ]
  },
  {
   "cell_type": "code",
   "execution_count": 63,
   "metadata": {},
   "outputs": [
    {
     "name": "stdout",
     "output_type": "stream",
     "text": [
      "4.123105625617661\n"
     ]
    }
   ],
   "source": [
    "import math\n",
    "x1,y1 = 3,4\n",
    "x2,y2 = 2,0\n",
    "d = math.sqrt((x2-x1)**2 + (y2-y1)**2)\n",
    "print(d)"
   ]
  },
  {
   "cell_type": "markdown",
   "metadata": {},
   "source": [
    "41. Write a Python program to check whether a file exists."
   ]
  },
  {
   "cell_type": "code",
   "execution_count": 1,
   "metadata": {},
   "outputs": [
    {
     "name": "stdout",
     "output_type": "stream",
     "text": [
      "False\n"
     ]
    }
   ],
   "source": [
    "import os.path\n",
    "print(os.path.isfile('main.txt'))"
   ]
  },
  {
   "cell_type": "markdown",
   "metadata": {},
   "source": [
    "42. Write a Python program to determine if a Python shell is executing in 32bit or 64bit mode on OS."
   ]
  },
  {
   "cell_type": "code",
   "execution_count": 2,
   "metadata": {},
   "outputs": [
    {
     "name": "stdout",
     "output_type": "stream",
     "text": [
      "8\n"
     ]
    }
   ],
   "source": [
    "import struct\n",
    "print(struct.calcsize(\"p\")*8)"
   ]
  },
  {
   "cell_type": "code",
   "execution_count": 3,
   "metadata": {},
   "outputs": [
    {
     "name": "stdout",
     "output_type": "stream",
     "text": [
      "64\n"
     ]
    }
   ],
   "source": [
    "import struct\n",
    "print(struct.calcsize(\"P\") * 8)"
   ]
  },
  {
   "cell_type": "markdown",
   "metadata": {},
   "source": [
    "43. Write a Python program to get OS name, platform and release information."
   ]
  },
  {
   "cell_type": "code",
   "execution_count": 1,
   "metadata": {},
   "outputs": [
    {
     "name": "stdout",
     "output_type": "stream",
     "text": [
      "name of operationg system nt\n",
      "name of os platform <function system at 0x000002D0D2213F70>\n",
      "release info <function release at 0x000002D0D22150D0>\n"
     ]
    }
   ],
   "source": [
    "import os\n",
    "import platform\n",
    "print(\"name of operationg system\", os.name)\n",
    "print(\"name of os platform\", platform.system)\n",
    "print(\"release info\", platform.release)"
   ]
  },
  {
   "cell_type": "markdown",
   "metadata": {},
   "source": [
    "44. Write a Python program to locate Python site packages."
   ]
  },
  {
   "cell_type": "code",
   "execution_count": 2,
   "metadata": {},
   "outputs": [
    {
     "name": "stdout",
     "output_type": "stream",
     "text": [
      "['c:\\\\Users\\\\Shambhavi\\\\miniconda3', 'c:\\\\Users\\\\Shambhavi\\\\miniconda3\\\\lib\\\\site-packages']\n"
     ]
    }
   ],
   "source": [
    "import site\n",
    "print(site.getsitepackages())"
   ]
  },
  {
   "cell_type": "markdown",
   "metadata": {},
   "source": [
    "45. Write a Python program that calls an external command."
   ]
  },
  {
   "cell_type": "code",
   "execution_count": null,
   "metadata": {},
   "outputs": [],
   "source": [
    "from subprocess import call\n",
    "call([\"ls\", \"-l\"])"
   ]
  },
  {
   "cell_type": "markdown",
   "metadata": {},
   "source": [
    "46. Write a Python program to retrieve the path and name of the file currently being executed."
   ]
  },
  {
   "cell_type": "code",
   "execution_count": null,
   "metadata": {},
   "outputs": [],
   "source": [
    "import os\n",
    "print(\"Current File Name : \",os.path.realpath(__file__))"
   ]
  },
  {
   "cell_type": "markdown",
   "metadata": {},
   "source": [
    "47. Write a Python program to find out the number of CPUs used."
   ]
  },
  {
   "cell_type": "code",
   "execution_count": 8,
   "metadata": {},
   "outputs": [
    {
     "name": "stdout",
     "output_type": "stream",
     "text": [
      "4\n"
     ]
    }
   ],
   "source": [
    "import multiprocessing\n",
    "print(multiprocessing.cpu_count())"
   ]
  },
  {
   "cell_type": "markdown",
   "metadata": {},
   "source": [
    "48. Write a Python program to parse a string to float or integer."
   ]
  },
  {
   "cell_type": "code",
   "execution_count": 10,
   "metadata": {},
   "outputs": [
    {
     "name": "stdout",
     "output_type": "stream",
     "text": [
      "234.652\n",
      "234\n"
     ]
    }
   ],
   "source": [
    "n = \"234.652\"\n",
    "print(float(n))\n",
    "print(int(float(n)))"
   ]
  },
  {
   "cell_type": "markdown",
   "metadata": {},
   "source": [
    "49. Write a Python program to list all files in a directory."
   ]
  },
  {
   "cell_type": "code",
   "execution_count": 5,
   "metadata": {},
   "outputs": [
    {
     "ename": "FileNotFoundError",
     "evalue": "[WinError 3] The system cannot find the path specified: '/home/students'",
     "output_type": "error",
     "traceback": [
      "\u001b[1;31m---------------------------------------------------------------------------\u001b[0m",
      "\u001b[1;31mFileNotFoundError\u001b[0m                         Traceback (most recent call last)",
      "\u001b[1;32mc:\\data science\\practice questions\\w3resource.ipynb Cell 119\u001b[0m in \u001b[0;36m<cell line: 3>\u001b[1;34m()\u001b[0m\n\u001b[0;32m      <a href='vscode-notebook-cell:/c%3A/data%20science/practice%20questions/w3resource.ipynb#Y226sZmlsZQ%3D%3D?line=0'>1</a>\u001b[0m \u001b[39mfrom\u001b[39;00m \u001b[39mos\u001b[39;00m \u001b[39mimport\u001b[39;00m listdir\n\u001b[0;32m      <a href='vscode-notebook-cell:/c%3A/data%20science/practice%20questions/w3resource.ipynb#Y226sZmlsZQ%3D%3D?line=1'>2</a>\u001b[0m \u001b[39mfrom\u001b[39;00m \u001b[39mos\u001b[39;00m\u001b[39m.\u001b[39;00m\u001b[39mpath\u001b[39;00m \u001b[39mimport\u001b[39;00m isfile, join\n\u001b[1;32m----> <a href='vscode-notebook-cell:/c%3A/data%20science/practice%20questions/w3resource.ipynb#Y226sZmlsZQ%3D%3D?line=2'>3</a>\u001b[0m files_list \u001b[39m=\u001b[39m [f \u001b[39mfor\u001b[39;00m f \u001b[39min\u001b[39;00m listdir(\u001b[39m'\u001b[39;49m\u001b[39m/home/students\u001b[39;49m\u001b[39m'\u001b[39;49m) \u001b[39mif\u001b[39;00m isfile(join(\u001b[39m'\u001b[39m\u001b[39m/home/students\u001b[39m\u001b[39m'\u001b[39m, f))]\n\u001b[0;32m      <a href='vscode-notebook-cell:/c%3A/data%20science/practice%20questions/w3resource.ipynb#Y226sZmlsZQ%3D%3D?line=3'>4</a>\u001b[0m \u001b[39mprint\u001b[39m(files_list)\n",
      "\u001b[1;31mFileNotFoundError\u001b[0m: [WinError 3] The system cannot find the path specified: '/home/students'"
     ]
    }
   ],
   "source": [
    "from os import listdir\n",
    "from os.path import isfile, join\n",
    "files_list = [f for f in listdir('/home/students') if isfile(join('/home/students', f))]\n",
    "print(files_list)"
   ]
  },
  {
   "cell_type": "markdown",
   "metadata": {},
   "source": [
    "50. Write a Python program to print without a newline or space."
   ]
  },
  {
   "cell_type": "code",
   "execution_count": 13,
   "metadata": {},
   "outputs": [
    {
     "name": "stdout",
     "output_type": "stream",
     "text": [
      "*********\n",
      "\n"
     ]
    }
   ],
   "source": [
    "for i in range(0,9):\n",
    "    print(\"*\", end=\"\")\n",
    "print(\"\\n\")"
   ]
  },
  {
   "cell_type": "markdown",
   "metadata": {},
   "source": [
    "51. Write a Python program to determine the profiling of Python programs.\n",
    "Note: A profile is a set of statistics that describes how often and for how long various parts of the program executed. These statistics can be formatted into reports via the pstats module."
   ]
  },
  {
   "cell_type": "code",
   "execution_count": 1,
   "metadata": {},
   "outputs": [
    {
     "name": "stdout",
     "output_type": "stream",
     "text": [
      "3\n",
      "         29 function calls in 0.001 seconds\n",
      "\n",
      "   Ordered by: standard name\n",
      "\n",
      "   ncalls  tottime  percall  cumtime  percall filename:lineno(function)\n",
      "        1    0.000    0.000    0.000    0.000 3867616217.py:2(sum)\n",
      "        1    0.000    0.000    0.000    0.000 <string>:1(<module>)\n",
      "        1    0.000    0.000    0.000    0.000 iostream.py:202(schedule)\n",
      "        2    0.000    0.000    0.000    0.000 iostream.py:429(_is_master_process)\n",
      "        2    0.000    0.000    0.000    0.000 iostream.py:448(_schedule_flush)\n",
      "        2    0.000    0.000    0.000    0.000 iostream.py:518(write)\n",
      "        1    0.000    0.000    0.000    0.000 iostream.py:90(_event_pipe)\n",
      "        1    0.000    0.000    0.000    0.000 socket.py:543(send)\n",
      "        1    0.000    0.000    0.000    0.000 threading.py:1066(_wait_for_tstate_lock)\n",
      "        1    0.000    0.000    0.000    0.000 threading.py:1133(is_alive)\n",
      "        1    0.000    0.000    0.000    0.000 threading.py:536(is_set)\n",
      "        1    0.000    0.000    0.001    0.001 {built-in method builtins.exec}\n",
      "        2    0.000    0.000    0.000    0.000 {built-in method builtins.isinstance}\n",
      "        2    0.000    0.000    0.000    0.000 {built-in method builtins.len}\n",
      "        1    0.000    0.000    0.000    0.000 {built-in method builtins.print}\n",
      "        2    0.000    0.000    0.000    0.000 {built-in method nt.getpid}\n",
      "        2    0.000    0.000    0.000    0.000 {method '__exit__' of '_thread.RLock' objects}\n",
      "        1    0.000    0.000    0.000    0.000 {method 'acquire' of '_thread.lock' objects}\n",
      "        1    0.000    0.000    0.000    0.000 {method 'append' of 'collections.deque' objects}\n",
      "        1    0.000    0.000    0.000    0.000 {method 'disable' of '_lsprof.Profiler' objects}\n",
      "        2    0.000    0.000    0.000    0.000 {method 'write' of '_io.StringIO' objects}\n",
      "\n",
      "\n"
     ]
    }
   ],
   "source": [
    "import cProfile\n",
    "def sum():\n",
    "    print(1+2)\n",
    "cProfile.run('sum()')"
   ]
  },
  {
   "cell_type": "markdown",
   "metadata": {},
   "source": [
    "52. Write a Python program to print to STDERR."
   ]
  },
  {
   "cell_type": "code",
   "execution_count": 2,
   "metadata": {},
   "outputs": [
    {
     "name": "stderr",
     "output_type": "stream",
     "text": [
      "This is an error message\n"
     ]
    }
   ],
   "source": [
    "import sys\n",
    "\n",
    "# Print a message to STDERR\n",
    "print(\"This is an error message\", file=sys.stderr)"
   ]
  },
  {
   "cell_type": "code",
   "execution_count": 3,
   "metadata": {},
   "outputs": [
    {
     "name": "stderr",
     "output_type": "stream",
     "text": [
      "abc--efg--xyz\n"
     ]
    }
   ],
   "source": [
    "from __future__ import print_function\n",
    "import sys\n",
    "\n",
    "def eprint(*args, **kwargs):\n",
    "    print(*args, file=sys.stderr, **kwargs)\n",
    "\n",
    "eprint(\"abc\", \"efg\", \"xyz\", sep=\"--\")"
   ]
  },
  {
   "cell_type": "markdown",
   "metadata": {},
   "source": [
    "53. Write a Python program to access environment variables."
   ]
  },
  {
   "cell_type": "code",
   "execution_count": 6,
   "metadata": {},
   "outputs": [
    {
     "name": "stdout",
     "output_type": "stream",
     "text": [
      "ALLUSERSPROFILE:C:\\ProgramData\n",
      "APPDATA:C:\\Users\\Shambhavi\\AppData\\Roaming\n",
      "CHROME_CRASHPAD_PIPE_NAME:\\\\.\\pipe\\LOCAL\\crashpad_13744_YLRZJZXVRUQNEEHR\n",
      "COMMONPROGRAMFILES:C:\\Program Files\\Common Files\n",
      "COMMONPROGRAMFILES(X86):C:\\Program Files (x86)\\Common Files\n",
      "COMMONPROGRAMW6432:C:\\Program Files\\Common Files\n",
      "COMPUTERNAME:LAPTOP-ETJVMFBE\n",
      "COMSPEC:C:\\WINDOWS\\system32\\cmd.exe\n",
      "CONDA_DEFAULT_ENV:base\n",
      "CONDA_EXE:C:\\Users\\Shambhavi\\miniconda3\\Scripts\\conda.exe\n",
      "CONDA_EXES:\"C:\\Users\\Shambhavi\\miniconda3\\condabin\\..\\Scripts\\conda.exe\"  \n",
      "CONDA_PREFIX:C:\\Users\\Shambhavi\\miniconda3\n",
      "CONDA_PROMPT_MODIFIER:(base) \n",
      "CONDA_PYTHON_EXE:C:\\Users\\Shambhavi\\miniconda3\\python.exe\n",
      "CONDA_ROOT:C:\\Users\\Shambhavi\\miniconda3\n",
      "CONDA_SHLVL:1\n",
      "DRIVERDATA:C:\\Windows\\System32\\Drivers\\DriverData\n",
      "EFC_12520:1\n",
      "ELECTRON_RUN_AS_NODE:1\n",
      "FPS_BROWSER_APP_PROFILE_STRING:Internet Explorer\n",
      "FPS_BROWSER_USER_PROFILE_STRING:Default\n",
      "HOMEDRIVE:C:\n",
      "HOMEPATH:\\Users\\Shambhavi\n",
      "JPY_INTERRUPT_EVENT:2012\n",
      "LOCALAPPDATA:C:\\Users\\Shambhavi\\AppData\\Local\n",
      "LOGONSERVER:\\\\LAPTOP-ETJVMFBE\n",
      "NUMBER_OF_PROCESSORS:4\n",
      "ONEDRIVE:C:\\Users\\Shambhavi\\OneDrive\n",
      "ONLINESERVICES:Online Services\n",
      "ORIGINAL_XDG_CURRENT_DESKTOP:undefined\n",
      "OS:Windows_NT\n",
      "PATH:c:\\Users\\Shambhavi\\miniconda3;C:\\Users\\Shambhavi\\miniconda3;C:\\Users\\Shambhavi\\miniconda3\\Library\\mingw-w64\\bin;C:\\Users\\Shambhavi\\miniconda3\\Library\\usr\\bin;C:\\Users\\Shambhavi\\miniconda3\\Library\\bin;C:\\Users\\Shambhavi\\miniconda3\\Scripts;C:\\Users\\Shambhavi\\miniconda3\\bin;C:\\Users\\Shambhavi\\miniconda3\\condabin;C:\\WINDOWS\\system32;C:\\WINDOWS;C:\\WINDOWS\\System32\\Wbem;C:\\WINDOWS\\System32\\WindowsPowerShell\\v1.0;C:\\WINDOWS\\System32\\OpenSSH;C:\\MinGW\\bin;C:\\Program Files\\Git\\cmd;C:\\Users\\Shambhavi\\miniconda3;C:\\Users\\Shambhavi\\miniconda3\\Library\\mingw-w64\\bin;C:\\Users\\Shambhavi\\miniconda3\\Library\\usr\\bin;C:\\Users\\Shambhavi\\miniconda3\\Library\\bin;C:\\Users\\Shambhavi\\miniconda3\\Scripts;C:\\Program Files (x86)\\mingw-w64\\i686-8.1.0-posix-dwarf-rt_v6-rev0\\mingw32\\bin;C:\\Users\\Shambhavi\\AppData\\Local\\Programs\\Microsoft VS Code\\bin;C:\\Users\\Shambhavi\\AppData\\Local\\Microsoft\\WindowsApps;C:\\Users\\Shambhavi\\AppData\\Local\\GitHubDesktop\\bin;.;C:\\Program Files\\JetBrains\\PyCharm 2022.2.3\\bin;.\n",
      "PATHEXT:.COM;.EXE;.BAT;.CMD;.VBS;.VBE;.JS;.JSE;.WSF;.WSH;.MSC\n",
      "PLATFORMCODE:KV\n",
      "PROCESSOR_ARCHITECTURE:AMD64\n",
      "PROCESSOR_IDENTIFIER:Intel64 Family 6 Model 126 Stepping 5, GenuineIntel\n",
      "PROCESSOR_LEVEL:6\n",
      "PROCESSOR_REVISION:7e05\n",
      "PROGRAMDATA:C:\\ProgramData\n",
      "PROGRAMFILES:C:\\Program Files\n",
      "PROGRAMFILES(X86):C:\\Program Files (x86)\n",
      "PROGRAMW6432:C:\\Program Files\n",
      "PROMPT:(base) $P$G\n",
      "PSMODULEPATH:C:\\Program Files\\WindowsPowerShell\\Modules;C:\\WINDOWS\\system32\\WindowsPowerShell\\v1.0\\Modules\n",
      "PUBLIC:C:\\Users\\Public\n",
      "PYCHARM:C:\\Program Files\\JetBrains\\PyCharm 2022.2.3\\bin;\n",
      "PYDEVD_IPYTHON_COMPATIBLE_DEBUGGING:1\n",
      "PYTHONIOENCODING:utf-8\n",
      "PYTHONUNBUFFERED:1\n",
      "PYTHONUTF8:1\n",
      "REGIONCODE:APJ\n",
      "SESSIONNAME:Console\n",
      "SYSTEMDRIVE:C:\n",
      "SYSTEMROOT:C:\\WINDOWS\n",
      "TEMP:C:\\Users\\SHAMBH~1\\AppData\\Local\\Temp\n",
      "TMP:C:\\Users\\SHAMBH~1\\AppData\\Local\\Temp\n",
      "USERDOMAIN:LAPTOP-ETJVMFBE\n",
      "USERDOMAIN_ROAMINGPROFILE:LAPTOP-ETJVMFBE\n",
      "USERNAME:Shambhavi\n",
      "USERPROFILE:C:\\Users\\Shambhavi\n",
      "VSCODE_AMD_ENTRYPOINT:vs/workbench/api/node/extensionHostProcess\n",
      "VSCODE_CODE_CACHE_PATH:C:\\Users\\Shambhavi\\AppData\\Roaming\\Code\\CachedData\\6445d93c81ebe42c4cbd7a60712e0b17d9463e97\n",
      "VSCODE_CRASH_REPORTER_PROCESS_TYPE:extensionHost\n",
      "VSCODE_CWD:C:\\Users\\Shambhavi\\AppData\\Local\\Programs\\Microsoft VS Code\n",
      "VSCODE_HANDLES_UNCAUGHT_ERRORS:true\n",
      "VSCODE_IPC_HOOK:\\\\.\\pipe\\1e0292430496a9dcc90a2fce5218a97a-1.81.0-main-sock\n",
      "VSCODE_L10N_BUNDLE_LOCATION:\n",
      "VSCODE_NLS_CONFIG:{\"locale\":\"en-us\",\"osLocale\":\"en-in\",\"availableLanguages\":{},\"_languagePackSupport\":true}\n",
      "VSCODE_PID:13744\n",
      "WINDIR:C:\\WINDOWS\n",
      "ZES_ENABLE_SYSMAN:1\n",
      "_CONDA_OLD_CHCP:437\n",
      "PYDEVD_USE_FRAME_EVAL:NO\n",
      "TERM:xterm-color\n",
      "CLICOLOR:1\n",
      "PAGER:cat\n",
      "GIT_PAGER:cat\n",
      "MPLBACKEND:module://matplotlib_inline.backend_inline\n"
     ]
    }
   ],
   "source": [
    "import os \n",
    "for item,value in os.environ.items():\n",
    "    print('{}:{}'.format(item,value))"
   ]
  },
  {
   "cell_type": "markdown",
   "metadata": {},
   "source": [
    "54. Write a Python program to get the current username."
   ]
  },
  {
   "cell_type": "code",
   "execution_count": 7,
   "metadata": {},
   "outputs": [
    {
     "name": "stdout",
     "output_type": "stream",
     "text": [
      "Shambhavi\n"
     ]
    }
   ],
   "source": [
    "import getpass\n",
    "print(getpass.getuser())"
   ]
  },
  {
   "cell_type": "markdown",
   "metadata": {},
   "source": [
    "55. Write a Python program to find local IP addresses using Python's stdlib."
   ]
  },
  {
   "cell_type": "code",
   "execution_count": 1,
   "metadata": {},
   "outputs": [
    {
     "name": "stdout",
     "output_type": "stream",
     "text": [
      "192.168.0.103\n"
     ]
    }
   ],
   "source": [
    "import socket\n",
    "print([l for l in ([ip for ip in socket.gethostbyname_ex(socket.gethostname())[2] \n",
    "if not ip.startswith(\"127.\")][:1], [[(s.connect(('8.8.8.8', 53)), \n",
    "s.getsockname()[0], s.close()) for s in [socket.socket(socket.AF_INET, \n",
    "socket.SOCK_DGRAM)]][0][1]]) if l][0][0])"
   ]
  },
  {
   "cell_type": "markdown",
   "metadata": {},
   "source": [
    "56. Write a Python program to get the height and width of the console window."
   ]
  },
  {
   "cell_type": "code",
   "execution_count": 6,
   "metadata": {},
   "outputs": [
    {
     "name": "stdout",
     "output_type": "stream",
     "text": [
      "Console Height: 24\n",
      "Console Width: 80\n"
     ]
    }
   ],
   "source": [
    "import shutil\n",
    "\n",
    "def get_console_size():\n",
    "    try:\n",
    "        columns, rows = shutil.get_terminal_size()\n",
    "        return rows, columns\n",
    "    except Exception as e:\n",
    "        print(\"Error:\", e)\n",
    "        return None, None\n",
    "\n",
    "height, width = get_console_size()\n",
    "\n",
    "if height is not None and width is not None:\n",
    "    print(f\"Console Height: {height}\")\n",
    "    print(f\"Console Width: {width}\")\n",
    "else:\n",
    "    print(\"Unable to determine console size.\")\n"
   ]
  },
  {
   "cell_type": "markdown",
   "metadata": {},
   "source": [
    "57. Write a Python program to get the execution time of a Python method."
   ]
  },
  {
   "cell_type": "code",
   "execution_count": 10,
   "metadata": {},
   "outputs": [
    {
     "name": "stdout",
     "output_type": "stream",
     "text": [
      "Execution Time: 2.0051 seconds\n",
      "execution time 2.005064010620117\n"
     ]
    }
   ],
   "source": [
    "import time\n",
    "\n",
    "def some_method():\n",
    "    # Simulate some time-consuming operation\n",
    "    time.sleep(2)\n",
    "\n",
    "# Record the start time\n",
    "start_time = time.time()\n",
    "\n",
    "# Call the method whose execution time you want to measure\n",
    "some_method()\n",
    "\n",
    "# Record the end time\n",
    "end_time = time.time()\n",
    "\n",
    "# Calculate the execution time\n",
    "execution_time = end_time - start_time\n",
    "\n",
    "print(f\"Execution Time: {execution_time:.4f} seconds\")\n",
    "print(\"execution time\", execution_time)"
   ]
  },
  {
   "cell_type": "markdown",
   "metadata": {},
   "source": [
    "58. Write a Python program to sum the first n positive integers."
   ]
  },
  {
   "cell_type": "code",
   "execution_count": 7,
   "metadata": {},
   "outputs": [
    {
     "name": "stdout",
     "output_type": "stream",
     "text": [
      "10.0\n"
     ]
    }
   ],
   "source": [
    "n = int(input())\n",
    "sum = (n*(n+1))/2\n",
    "print(sum)"
   ]
  },
  {
   "cell_type": "markdown",
   "metadata": {},
   "source": [
    "59. Write a Python program to convert height (in feet and inches) to centimeters."
   ]
  },
  {
   "cell_type": "code",
   "execution_count": 10,
   "metadata": {},
   "outputs": [
    {
     "name": "stdout",
     "output_type": "stream",
     "text": [
      "input your hight\n",
      "160.0\n"
     ]
    }
   ],
   "source": [
    "print(\"input your hight\")\n",
    "h_ft = int(input(\"Feet:\"))\n",
    "h_inch = int(input(\"Inches:\"))\n",
    "h_inch = h_inch + h_ft*12\n",
    "h_cm = round(h_inch*2.54,1)\n",
    "print(h_cm)"
   ]
  },
  {
   "cell_type": "markdown",
   "metadata": {},
   "source": [
    "60. Write a Python program to calculate the hypotenuse of a right angled triangle."
   ]
  },
  {
   "cell_type": "code",
   "execution_count": 12,
   "metadata": {},
   "outputs": [
    {
     "name": "stdout",
     "output_type": "stream",
     "text": [
      "the length of hypotenuse is: 5.0\n"
     ]
    }
   ],
   "source": [
    "from math import sqrt\n",
    "a = float(input(\"a:\"))\n",
    "b = float(input(\"b:\"))\n",
    "c = sqrt(a**2 + b**2)\n",
    "print(\"the length of hypotenuse is:\", c)"
   ]
  },
  {
   "cell_type": "markdown",
   "metadata": {},
   "source": [
    "61. Write a Python program to convert the distance (in feet) to inches, yards, and miles."
   ]
  },
  {
   "cell_type": "code",
   "execution_count": 1,
   "metadata": {},
   "outputs": [
    {
     "name": "stdout",
     "output_type": "stream",
     "text": [
      "the distance in inches is: 1200 inches\n",
      "the distance in yards is: 33.333333333333336 yards\n",
      "the distance in miles is: 0.01893939393939394 miles\n"
     ]
    }
   ],
   "source": [
    "d_ft = int(input(\"enter the value\"))\n",
    "d_inches = d_ft*12\n",
    "d_yards = d_ft/3.0\n",
    "d_miles = d_ft/5280.0\n",
    "print(\"the distance in inches is:\", d_inches, \"inches\")\n",
    "print(\"the distance in yards is:\", d_yards, \"yards\")\n",
    "print(\"the distance in miles is:\", d_miles, \"miles\")"
   ]
  },
  {
   "cell_type": "markdown",
   "metadata": {},
   "source": [
    "62. Write a Python program to convert all units of time into seconds."
   ]
  },
  {
   "cell_type": "code",
   "execution_count": 1,
   "metadata": {},
   "outputs": [
    {
     "name": "stdout",
     "output_type": "stream",
     "text": [
      "364810\n"
     ]
    }
   ],
   "source": [
    "def time_to_seconds(days, hours, minutes, seconds):\n",
    "    total_seconds = days*24*60*60 + hours*60*60 + minutes*60 + seconds\n",
    "    return total_seconds\n",
    "\n",
    "days = int(input(\"Enter number of days\"))\n",
    "hours = int(input(\"Enter number of hours\"))\n",
    "minutes = int(input(\"Enter number of minutes\"))\n",
    "seconds = int(input(\"Enter number of seconds\"))\n",
    "\n",
    "result = time_to_seconds(days, hours, minutes, seconds)\n",
    "\n",
    "print(result)"
   ]
  },
  {
   "cell_type": "markdown",
   "metadata": {},
   "source": [
    "63. Write a Python program to get an absolute file path."
   ]
  },
  {
   "cell_type": "code",
   "execution_count": 2,
   "metadata": {},
   "outputs": [
    {
     "name": "stdout",
     "output_type": "stream",
     "text": [
      "absolute file path: c:\\data science\\practice questions\\path_fname\n"
     ]
    }
   ],
   "source": [
    "def absolute_file_path(path_fname):\n",
    "    import os\n",
    "    return os.path.abspath('path_fname')\n",
    "\n",
    "print(\"absolute file path:\", absolute_file_path(\"test.txt\"))"
   ]
  },
  {
   "cell_type": "markdown",
   "metadata": {},
   "source": [
    "64. Write a Python program that retrieves the date and time of file creation and modification."
   ]
  },
  {
   "cell_type": "code",
   "execution_count": 4,
   "metadata": {},
   "outputs": [
    {
     "name": "stdout",
     "output_type": "stream",
     "text": [
      "last modified: Sat Jul  1 18:41:37 2023\n",
      "created: Thu Jun 29 14:41:13 2023\n"
     ]
    }
   ],
   "source": [
    "import os.path, time\n",
    "file_path = \"infytq.ipynb\"\n",
    "print(\"last modified:\", time.ctime(os.path.getmtime(file_path)))\n",
    "print(\"created:\", time.ctime(os.path.getctime(file_path)))"
   ]
  },
  {
   "cell_type": "markdown",
   "metadata": {},
   "source": [
    "65. Write a Python program that converts seconds into days, hours, minutes, and seconds."
   ]
  },
  {
   "cell_type": "code",
   "execution_count": 5,
   "metadata": {},
   "outputs": [
    {
     "name": "stdout",
     "output_type": "stream",
     "text": [
      "185184000 days, 24960 hours, 56 minutes, 5 seconds\n"
     ]
    }
   ],
   "source": [
    "def convert_seconds(seconds):\n",
    "    days = seconds//24*60*60\n",
    "    seconds %= 24*60*60\n",
    "    hours = seconds//60*60\n",
    "    seconds%=60*60\n",
    "    minutes = seconds//60\n",
    "    seconds%=60\n",
    "    return days, hours, minutes, seconds\n",
    "\n",
    "seconds_input = int(input(\"enter the number of seconds\"))\n",
    "days,hours,minutes,seconds = convert_seconds(seconds_input)\n",
    "print(f\"{days} days, {hours} hours, {minutes} minutes, {seconds} seconds\")"
   ]
  },
  {
   "cell_type": "markdown",
   "metadata": {},
   "source": [
    "66. Write a Python program to calculate the body mass index."
   ]
  },
  {
   "cell_type": "code",
   "execution_count": null,
   "metadata": {},
   "outputs": [],
   "source": []
  },
  {
   "cell_type": "markdown",
   "metadata": {},
   "source": [
    "67. Write a Python program to convert pressure in kilopascals to pounds per square inch, a millimeter of mercury (mmHg) and atmosphere pressure."
   ]
  },
  {
   "cell_type": "markdown",
   "metadata": {},
   "source": [
    "68. Write a Python program to calculate sum of digits of a number."
   ]
  },
  {
   "cell_type": "markdown",
   "metadata": {},
   "source": [
    "69. Write a Python program to sort three integers without using conditional statements and loops."
   ]
  },
  {
   "cell_type": "markdown",
   "metadata": {},
   "source": [
    "70. Write a Python program to sort files by date."
   ]
  }
 ],
 "metadata": {
  "kernelspec": {
   "display_name": "base",
   "language": "python",
   "name": "python3"
  },
  "language_info": {
   "codemirror_mode": {
    "name": "ipython",
    "version": 3
   },
   "file_extension": ".py",
   "mimetype": "text/x-python",
   "name": "python",
   "nbconvert_exporter": "python",
   "pygments_lexer": "ipython3",
   "version": "3.9.13"
  },
  "orig_nbformat": 4
 },
 "nbformat": 4,
 "nbformat_minor": 2
}
