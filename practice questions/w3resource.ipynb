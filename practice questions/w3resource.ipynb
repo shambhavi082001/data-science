{
 "cells": [
  {
   "cell_type": "markdown",
   "metadata": {},
   "source": [
    "1. Write a Python program to print the following string in a specific format\n",
    "Twinkle, twinkle, little star,\n",
    "\tHow I wonder what you are! \n",
    "\t\tUp above the world so high,   \t\t\n",
    "\t\tLike a diamond in the sky. \n",
    "Twinkle, twinkle, little star, \n",
    "\tHow I wonder what you are"
   ]
  },
  {
   "cell_type": "code",
   "execution_count": 3,
   "metadata": {},
   "outputs": [
    {
     "name": "stdout",
     "output_type": "stream",
     "text": [
      "Twinkle, twinkle, little star, \n",
      "\tHow I wonder What you are! \n",
      "\t\tUp above the world so high \n",
      "\t\tLike a diamond in the sky. \n",
      "Twinkle, twinkle little star, \n",
      "\tHow i wonder what you are\n"
     ]
    }
   ],
   "source": [
    "print(\"Twinkle, twinkle, little star, \\n\\tHow I wonder What you are! \\n\\t\\tUp above the world so high \\n\\t\\tLike a diamond in the sky. \\nTwinkle, twinkle little star, \\n\\tHow i wonder what you are\")"
   ]
  },
  {
   "cell_type": "markdown",
   "metadata": {},
   "source": [
    "2. Write a Python program to find out what version of Python you are using."
   ]
  },
  {
   "cell_type": "code",
   "execution_count": 1,
   "metadata": {},
   "outputs": [
    {
     "data": {
      "text/plain": [
       "'3.9.13 (main, Aug 25 2022, 23:51:50) [MSC v.1916 64 bit (AMD64)]'"
      ]
     },
     "execution_count": 1,
     "metadata": {},
     "output_type": "execute_result"
    }
   ],
   "source": [
    "import sys\n",
    "sys.version"
   ]
  },
  {
   "cell_type": "markdown",
   "metadata": {},
   "source": [
    "3. Write a Python program to display the current date and time.\n",
    "\n",
    "Sample Output :\n",
    "\n",
    "Current date and time :\n",
    "\n",
    "2014-07-05 14:34:14"
   ]
  },
  {
   "cell_type": "code",
   "execution_count": 4,
   "metadata": {},
   "outputs": [
    {
     "name": "stdout",
     "output_type": "stream",
     "text": [
      "Current date and time 2023-07-24 12:30:42.407191\n"
     ]
    }
   ],
   "source": [
    "import datetime\n",
    "current_date_time = datetime.datetime.now()\n",
    "print(\"Current date and time\", current_date_time)"
   ]
  },
  {
   "cell_type": "markdown",
   "metadata": {},
   "source": [
    "4. Write a Python program that calculates the area of a circle based on the radius entered by the user.\n",
    "\n",
    "Sample Output :\n",
    "\n",
    "r = 1.1\n",
    "\n",
    "Area = 3.8013271108436504"
   ]
  },
  {
   "cell_type": "code",
   "execution_count": 5,
   "metadata": {},
   "outputs": [
    {
     "name": "stdout",
     "output_type": "stream",
     "text": [
      "3631.67804\n"
     ]
    }
   ],
   "source": [
    "r = int(input(\"enter the valur of radius\"))\n",
    "area =  3.14159*r**2\n",
    "print(area)"
   ]
  },
  {
   "cell_type": "code",
   "execution_count": 8,
   "metadata": {},
   "outputs": [
    {
     "name": "stdout",
     "output_type": "stream",
     "text": [
      "area of circle is 3631.681107549801\n"
     ]
    }
   ],
   "source": [
    "from math import pi\n",
    "r = float(input(\"enter the value of radius\"))\n",
    "print(\"area of circle is\", (pi*r**2))"
   ]
  },
  {
   "cell_type": "markdown",
   "metadata": {},
   "source": [
    "5. Write a Python program that accepts the user's first and last name and prints them in reverse order with a space between them."
   ]
  },
  {
   "cell_type": "code",
   "execution_count": 10,
   "metadata": {},
   "outputs": [
    {
     "name": "stdout",
     "output_type": "stream",
     "text": [
      "shukla sham\n"
     ]
    }
   ],
   "source": [
    "f_name = input(\"enter your first name\")\n",
    "l_name = input(\"enter yor last name\")\n",
    "print( l_name, f_name)"
   ]
  },
  {
   "cell_type": "markdown",
   "metadata": {},
   "source": [
    "6. Write a Python program that accepts a sequence of comma-separated numbers from the user and generates a list and a tuple of those numbers.\n",
    "\n",
    "Sample data : 3, 5, 7, 23\n",
    "\n",
    "Output :\n",
    "\n",
    "List : ['3', ' 5', ' 7', ' 23']\n",
    "\n",
    "Tuple : ('3', ' 5', ' 7', ' 23')"
   ]
  },
  {
   "cell_type": "code",
   "execution_count": 11,
   "metadata": {},
   "outputs": [
    {
     "name": "stdout",
     "output_type": "stream",
     "text": [
      "List: ['4', '6', '5', '2', '4', '7', '8', '9']\n",
      "Tuple: ('4', '6', '5', '2', '4', '7', '8', '9')\n"
     ]
    }
   ],
   "source": [
    "values = input(\"some comma seperated numbers\")\n",
    "list = values.split(\",\")\n",
    "tuple = tuple(list)\n",
    "print(\"List:\", list)\n",
    "print(\"Tuple:\", tuple)"
   ]
  },
  {
   "cell_type": "markdown",
   "metadata": {},
   "source": [
    "7. Write a Python program that accepts a filename from the user and prints the extension of the file.\n",
    "Sample filename : abc.java\n",
    "Output : java"
   ]
  },
  {
   "cell_type": "markdown",
   "metadata": {},
   "source": [
    "8. Write a Python program to display the first and last colors from the following list.\n",
    "\n",
    "color_list = [\"Red\",\"Green\",\"White\" ,\"Black\"]"
   ]
  },
  {
   "cell_type": "code",
   "execution_count": 3,
   "metadata": {},
   "outputs": [
    {
     "name": "stdout",
     "output_type": "stream",
     "text": [
      "Red Black\n"
     ]
    }
   ],
   "source": [
    "color_list = [\"Red\",\"Green\",\"White\" ,\"Black\"]\n",
    "print(color_list[0],color_list[-1])"
   ]
  },
  {
   "cell_type": "markdown",
   "metadata": {},
   "source": [
    "9. Write a Python program to display the examination schedule. (extract the date from exam_st_date).\n",
    "\n",
    "exam_st_date = (11, 12, 2014)\n",
    "\n",
    "Sample Output : The examination will start from : 11 / 12 / 2014"
   ]
  },
  {
   "cell_type": "code",
   "execution_count": 7,
   "metadata": {},
   "outputs": [
    {
     "name": "stdout",
     "output_type": "stream",
     "text": [
      "the exam will start from:  11 / 12 / 2014\n"
     ]
    }
   ],
   "source": [
    "exam_st_date = (11, 12, 2014)\n",
    "day, month, year = exam_st_date\n",
    "formated_output = f\" {day} / {month} / {year}\"\n",
    "print(\"the exam will start from:\", formated_output)"
   ]
  },
  {
   "cell_type": "markdown",
   "metadata": {},
   "source": [
    "10. Write a Python program that accepts an integer (n) and computes the value of n+nn+nnn.\n",
    "\n",
    "Sample value of n is 5\n",
    "\n",
    "Expected Result : 615"
   ]
  },
  {
   "cell_type": "code",
   "execution_count": 15,
   "metadata": {},
   "outputs": [
    {
     "name": "stdout",
     "output_type": "stream",
     "text": [
      "5\n",
      "55\n",
      "615\n"
     ]
    }
   ],
   "source": [
    "n1 = int(input(\"enter an integer\"))\n",
    "n2 = int(str(n1)+str(n1))\n",
    "n3 = int(str(n2)+str(n1))\n",
    "final = n1+n2+n3\n",
    "print(final)\n"
   ]
  },
  {
   "cell_type": "markdown",
   "metadata": {},
   "source": [
    "11. Write a Python program to print the documents (syntax, description etc.) of Python built-in function(s).\n",
    "\n",
    "Sample function : abs()\n",
    "\n",
    "Expected Result :\n",
    "\n",
    "abs(number) -> number\n",
    "\n",
    "Return the absolute value of the argument."
   ]
  },
  {
   "cell_type": "code",
   "execution_count": 7,
   "metadata": {},
   "outputs": [
    {
     "name": "stdout",
     "output_type": "stream",
     "text": [
      "<method-wrapper '__init__' of builtin_function_or_method object at 0x000001DB2031EBD0>\n"
     ]
    }
   ],
   "source": [
    "print(abs.__init__)"
   ]
  },
  {
   "cell_type": "markdown",
   "metadata": {},
   "source": [
    "12. Write a Python program that prints the calendar for a given month and year.\n",
    "Note : Use 'calendar' module."
   ]
  },
  {
   "cell_type": "code",
   "execution_count": 8,
   "metadata": {},
   "outputs": [
    {
     "name": "stdout",
     "output_type": "stream",
     "text": [
      "    August 2002\n",
      "Mo Tu We Th Fr Sa Su\n",
      "          1  2  3  4\n",
      " 5  6  7  8  9 10 11\n",
      "12 13 14 15 16 17 18\n",
      "19 20 21 22 23 24 25\n",
      "26 27 28 29 30 31\n",
      "\n"
     ]
    }
   ],
   "source": [
    "import calendar\n",
    "y = int(input(\"enter the year\"))\n",
    "m = int(input(\"enter the month\"))\n",
    "print(calendar.month(y ,m))"
   ]
  },
  {
   "cell_type": "markdown",
   "metadata": {},
   "source": [
    "13. Write a Python program to print the following 'here document'.\n",
    "\n",
    "Sample string :\n",
    "\n",
    "a string that you \"don't\" have to escape\n",
    "\n",
    "This\n",
    "\n",
    "is a ....... multi-line\n",
    "\n",
    "heredoc string --------> example"
   ]
  },
  {
   "cell_type": "code",
   "execution_count": 11,
   "metadata": {},
   "outputs": [
    {
     "name": "stdout",
     "output_type": "stream",
     "text": [
      "\n",
      "a string that you \"don't\" have to escape\n",
      "This\n",
      "is a.......multi-line\n",
      "heredoc string------->example\n"
     ]
    }
   ],
   "source": [
    "print(\"\"\"\n",
    "a string that you \"don't\" have to escape\n",
    "This\n",
    "is a.......multi-line\n",
    "heredoc string------->example\"\"\")"
   ]
  },
  {
   "cell_type": "markdown",
   "metadata": {},
   "source": [
    "14. Write a Python program to calculate the number of days between two dates.\n",
    "\n",
    "Sample dates : (2014, 7, 2), (2014, 7, 11)\n",
    "Expected output : 9 days"
   ]
  },
  {
   "cell_type": "code",
   "execution_count": 3,
   "metadata": {},
   "outputs": [
    {
     "name": "stdout",
     "output_type": "stream",
     "text": [
      "9 days, 0:00:00\n"
     ]
    }
   ],
   "source": [
    "from datetime import date\n",
    "day1 = date(2014,7,2)\n",
    "day2 = date(2014,7,11)\n",
    "d3 = day2-day1\n",
    "print(d3)"
   ]
  },
  {
   "cell_type": "markdown",
   "metadata": {},
   "source": [
    "15. Write a Python program to get the volume of a sphere with radius six"
   ]
  },
  {
   "cell_type": "code",
   "execution_count": 6,
   "metadata": {},
   "outputs": [
    {
     "name": "stdout",
     "output_type": "stream",
     "text": [
      "904.7786842338603\n"
     ]
    }
   ],
   "source": [
    "# v = 4/3*pi*r*3\n",
    "from math import pi\n",
    "r = 6\n",
    "v = 4/3 * pi* 6**3\n",
    "print(v)"
   ]
  },
  {
   "cell_type": "markdown",
   "metadata": {},
   "source": [
    "16. Write a Python program to calculate the difference between a given number and 17. If the number is greater than 17, return twice the absolute difference."
   ]
  },
  {
   "cell_type": "code",
   "execution_count": 19,
   "metadata": {},
   "outputs": [
    {
     "name": "stdout",
     "output_type": "stream",
     "text": [
      "10\n"
     ]
    }
   ],
   "source": [
    "num = int(input())\n",
    "if num <= 17:\n",
    "    print(17-num)\n",
    "else:\n",
    "    print((num-17) * 2)"
   ]
  },
  {
   "cell_type": "markdown",
   "metadata": {},
   "source": [
    "17. Write a Python program to test whether a number is within 100 of 1000 or 2000."
   ]
  },
  {
   "cell_type": "code",
   "execution_count": 20,
   "metadata": {},
   "outputs": [
    {
     "name": "stdout",
     "output_type": "stream",
     "text": [
      "True\n",
      "True\n",
      "False\n",
      "False\n"
     ]
    }
   ],
   "source": [
    "def near_thousand(n):\n",
    "      return ((abs(1000 - n) <= 100) or (abs(2000 - n) <= 100))\n",
    "print(near_thousand(1000))\n",
    "print(near_thousand(900))\n",
    "print(near_thousand(800))   \n",
    "print(near_thousand(2200))"
   ]
  },
  {
   "cell_type": "markdown",
   "metadata": {},
   "source": [
    "18. Write a Python program to calculate the sum of three given numbers. If the values are equal, return three times their sum."
   ]
  },
  {
   "cell_type": "code",
   "execution_count": 24,
   "metadata": {},
   "outputs": [
    {
     "name": "stdout",
     "output_type": "stream",
     "text": [
      "9\n"
     ]
    }
   ],
   "source": [
    "\n",
    "def sum_thrice(x,y,z):\n",
    "    sum = x+y+z\n",
    "    if x ==y==z:\n",
    "        sum = sum*3\n",
    "    return sum\n",
    "print(sum_thrice(2,3,4))\n"
   ]
  },
  {
   "cell_type": "markdown",
   "metadata": {},
   "source": [
    "19. Write a Python program to get a newly-generated string from a given string where \"Is\" has been added to the front. Return the string unchanged if the given string already begins with \"Is\"."
   ]
  },
  {
   "cell_type": "code",
   "execution_count": 9,
   "metadata": {},
   "outputs": [],
   "source": [
    "def new_string(text):\n",
    "    if len(text) >=2 and text[:2] == \"Is\":\n",
    "        return text\n",
    "\n",
    "    return \"Is\" +text"
   ]
  },
  {
   "cell_type": "code",
   "execution_count": 10,
   "metadata": {},
   "outputs": [
    {
     "name": "stdout",
     "output_type": "stream",
     "text": [
      "Isn\n"
     ]
    }
   ],
   "source": [
    "print(new_string(\"n\"))"
   ]
  },
  {
   "cell_type": "markdown",
   "metadata": {},
   "source": [
    "20. Write a Python program that returns a string that is n (non-negative integer) copies of a given string."
   ]
  },
  {
   "cell_type": "code",
   "execution_count": 43,
   "metadata": {},
   "outputs": [
    {
     "name": "stdout",
     "output_type": "stream",
     "text": [
      "ghighighi\n"
     ]
    }
   ],
   "source": [
    "def ret_string(text,n):\n",
    "    a = \"\"\n",
    "    for i in range(n):\n",
    "        a = a + text\n",
    "    return a\n",
    "print(ret_string('ghi',3))    "
   ]
  },
  {
   "cell_type": "markdown",
   "metadata": {},
   "source": [
    "21. Write a Python program that determines whether a given number (accepted from the user) is even or odd, and prints an appropriate message to the user."
   ]
  },
  {
   "cell_type": "code",
   "execution_count": 44,
   "metadata": {},
   "outputs": [
    {
     "name": "stdout",
     "output_type": "stream",
     "text": [
      "odd\n"
     ]
    }
   ],
   "source": [
    "n = int(input())\n",
    "if n%2 == 0:\n",
    "    print(\"even\")\n",
    "else:\n",
    "     print(\"odd\")"
   ]
  },
  {
   "cell_type": "code",
   "execution_count": 46,
   "metadata": {},
   "outputs": [
    {
     "name": "stdout",
     "output_type": "stream",
     "text": [
      "even\n"
     ]
    }
   ],
   "source": [
    "def even_odd(n):\n",
    "    if n%2 == 0:\n",
    "        return \"even\"\n",
    "    return \"odd\"\n",
    "print(even_odd(12))"
   ]
  },
  {
   "cell_type": "markdown",
   "metadata": {},
   "source": [
    "22. Write a Python program to count the number 4 in a given list."
   ]
  },
  {
   "cell_type": "code",
   "execution_count": 47,
   "metadata": {},
   "outputs": [
    {
     "name": "stdout",
     "output_type": "stream",
     "text": [
      "2\n"
     ]
    }
   ],
   "source": [
    "def count_list_4(nums):\n",
    "    count = 0\n",
    "    for num in nums:\n",
    "        if num == 4:\n",
    "            count = count+1\n",
    "    return count\n",
    "\n",
    "print(count_list_4([1,4,3,5,6,4]))"
   ]
  },
  {
   "cell_type": "code",
   "execution_count": 8,
   "metadata": {},
   "outputs": [
    {
     "name": "stdout",
     "output_type": "stream",
     "text": [
      "2\n"
     ]
    }
   ],
   "source": [
    "n_list =input(\"enter comma sepersted num\")\n",
    "new_list =[int(i) for i in n_list.split(',')]\n",
    "count = 0\n",
    "for i in new_list:\n",
    "    if i ==4:\n",
    "        count= count+1\n",
    "print(count)"
   ]
  },
  {
   "cell_type": "markdown",
   "metadata": {},
   "source": [
    "23. Write a Python program to get n (non-negative integer) copies of the first 2 characters of a given string. Return n copies of the whole string if the length is less than 2."
   ]
  },
  {
   "cell_type": "code",
   "execution_count": 1,
   "metadata": {},
   "outputs": [
    {
     "name": "stdout",
     "output_type": "stream",
     "text": [
      "abab\n",
      "ppp\n"
     ]
    }
   ],
   "source": [
    "def substring_copy(text, n):\n",
    "  #flen = 2\n",
    "  if len(text) < 2:\n",
    "    a = len(text)\n",
    "  substr = text[:2]\n",
    "  result = \"\"\n",
    "  for i in range(n):\n",
    "    result = result + substr\n",
    "  return result\n",
    "print(substring_copy('abcdef', 2))\n",
    "print(substring_copy('p', 3))"
   ]
  },
  {
   "cell_type": "code",
   "execution_count": 2,
   "metadata": {},
   "outputs": [
    {
     "name": "stdout",
     "output_type": "stream",
     "text": [
      "abab\n",
      "ppp\n"
     ]
    }
   ],
   "source": [
    "def substring_copy(text, n):\n",
    "    if len(text) < 2:\n",
    "        return text * n\n",
    "    substr = text[:2]\n",
    "    return substr * n\n",
    "\n",
    "print(substring_copy('abcdef', 2))\n",
    "print(substring_copy('p', 3))"
   ]
  },
  {
   "cell_type": "markdown",
   "metadata": {},
   "source": [
    "24. Write a Python program to test whether a passed letter is a vowel or not."
   ]
  },
  {
   "cell_type": "code",
   "execution_count": 5,
   "metadata": {},
   "outputs": [
    {
     "name": "stdout",
     "output_type": "stream",
     "text": [
      "Not a vowel\n"
     ]
    }
   ],
   "source": [
    "letter = input(\"Enter any word: \")\n",
    "vowels = ['a', 'e', 'i', 'o', 'u']  # Fixed the list declaration\n",
    "\n",
    "if letter.lower() in vowels:\n",
    "    print(\"Vowel\")\n",
    "else:\n",
    "    print(\"Not a vowel\")"
   ]
  },
  {
   "cell_type": "code",
   "execution_count": null,
   "metadata": {},
   "outputs": [],
   "source": [
    "def is_vowel(char):\n",
    "    all_vowels = 'aeiou'\n",
    "    return char in all_vowels\n",
    "print(is_vowel('c'))\n",
    "print(is_vowel('e'))"
   ]
  },
  {
   "cell_type": "code",
   "execution_count": 11,
   "metadata": {},
   "outputs": [
    {
     "name": "stdout",
     "output_type": "stream",
     "text": [
      "false\n"
     ]
    }
   ],
   "source": [
    "letter = input()\n",
    "vowel = ['a','e','i','o','u']\n",
    "if letter in vowel:\n",
    "    print(\"true\")\n",
    "else:\n",
    "    print(\"false\")"
   ]
  },
  {
   "cell_type": "code",
   "execution_count": 9,
   "metadata": {},
   "outputs": [
    {
     "name": "stdout",
     "output_type": "stream",
     "text": [
      "False\n"
     ]
    }
   ],
   "source": [
    "def is_vowel(char):\n",
    "    vowel = 'aeiou'\n",
    "    return char in vowel\n",
    "print(is_vowel('c'))"
   ]
  },
  {
   "cell_type": "markdown",
   "metadata": {},
   "source": [
    "25. Write a Python program that checks whether a specified value is contained within a group of values.\n",
    "Test Data :\n",
    "\n",
    "3 -> [1, 5, 8, 3] : True\n",
    "\n",
    "-1 -> [1, 5, 8, 3] : False"
   ]
  },
  {
   "cell_type": "code",
   "execution_count": null,
   "metadata": {},
   "outputs": [],
   "source": [
    "def check_value(group_of _values, n):\n",
    "    return "
   ]
  }
 ],
 "metadata": {
  "kernelspec": {
   "display_name": "base",
   "language": "python",
   "name": "python3"
  },
  "language_info": {
   "codemirror_mode": {
    "name": "ipython",
    "version": 3
   },
   "file_extension": ".py",
   "mimetype": "text/x-python",
   "name": "python",
   "nbconvert_exporter": "python",
   "pygments_lexer": "ipython3",
   "version": "3.9.13"
  },
  "orig_nbformat": 4
 },
 "nbformat": 4,
 "nbformat_minor": 2
}
