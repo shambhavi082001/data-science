{
 "cells": [
  {
   "cell_type": "code",
   "execution_count": 2,
   "metadata": {},
   "outputs": [
    {
     "name": "stdout",
     "output_type": "stream",
     "text": [
      "hello\n",
      "hello\n",
      " hello\n",
      "hello, welcome to\n",
      "             the world of python\n"
     ]
    }
   ],
   "source": [
    "#defining string in python\n",
    "#all of the following are equivalent\n",
    "my_string = 'hello'\n",
    "print(my_string)\n",
    "\n",
    "my_string =\"hello\"\n",
    "print(my_string)\n",
    "\n",
    "my_string = \"\"\" hello\"\"\"\n",
    "print(my_string)\n",
    "\n",
    "#triple quotes string can extend multiple lines\n",
    "my_string = \"\"\"hello, welcome to\n",
    "             the world of python\"\"\"\n",
    "print(my_string)"
   ]
  },
  {
   "cell_type": "code",
   "execution_count": null,
   "metadata": {},
   "outputs": [],
   "source": [
    "#accessing strring characters in python\n",
    "str = 'shambhavi'\n",
    "print('str = ', str)\n",
    "\n",
    "#first character\n",
    "print('str = ',str[0])"
   ]
  },
  {
   "cell_type": "code",
   "execution_count": 4,
   "metadata": {},
   "outputs": [
    {
     "data": {
      "text/plain": [
       "18"
      ]
     },
     "execution_count": 4,
     "metadata": {},
     "output_type": "execute_result"
    }
   ],
   "source": [
    "word ='stormlight Archive'\n",
    "len(word)"
   ]
  },
  {
   "cell_type": "code",
   "execution_count": 8,
   "metadata": {},
   "outputs": [
    {
     "name": "stdout",
     "output_type": "stream",
     "text": [
      ",\n"
     ]
    }
   ],
   "source": [
    "print(word[10])"
   ]
  },
  {
   "cell_type": "code",
   "execution_count": 9,
   "metadata": {},
   "outputs": [
    {
     "data": {
      "text/plain": [
       "','"
      ]
     },
     "execution_count": 9,
     "metadata": {},
     "output_type": "execute_result"
    }
   ],
   "source": [
    "word[10]"
   ]
  },
  {
   "cell_type": "code",
   "execution_count": 7,
   "metadata": {},
   "outputs": [
    {
     "name": "stdout",
     "output_type": "stream",
     "text": [
      ", t m\n"
     ]
    }
   ],
   "source": [
    "print(word[-8],word[1],word[4])"
   ]
  },
  {
   "cell_type": "code",
   "execution_count": 10,
   "metadata": {},
   "outputs": [
    {
     "name": "stdout",
     "output_type": "stream",
     "text": [
      "pod\n",
      "digi\n"
     ]
    }
   ],
   "source": [
    "#getting a slice\n",
    "s = 'digipodium'\n",
    "slice1 = s[4:7]\n",
    "slice2 = s[:4]\n",
    "print(slice1) \n",
    "print(slice2)\n"
   ]
  },
  {
   "cell_type": "code",
   "execution_count": 13,
   "metadata": {},
   "outputs": [
    {
     "data": {
      "text/plain": [
       "'loper'"
      ]
     },
     "execution_count": 13,
     "metadata": {},
     "output_type": "execute_result"
    }
   ],
   "source": [
    "x = 'developer'\n",
    "x[:-2]\n",
    "x[4:]"
   ]
  },
  {
   "cell_type": "code",
   "execution_count": 2,
   "metadata": {},
   "outputs": [
    {
     "data": {
      "text/plain": [
       "'sodium'"
      ]
     },
     "execution_count": 2,
     "metadata": {},
     "output_type": "execute_result"
    }
   ],
   "source": [
    "x ='sodium corbonate'\n",
    "x[:6]"
   ]
  },
  {
   "cell_type": "code",
   "execution_count": 3,
   "metadata": {},
   "outputs": [
    {
     "data": {
      "text/plain": [
       "'sodium '"
      ]
     },
     "execution_count": 3,
     "metadata": {},
     "output_type": "execute_result"
    }
   ],
   "source": [
    "x[:7]"
   ]
  },
  {
   "cell_type": "code",
   "execution_count": 4,
   "metadata": {},
   "outputs": [
    {
     "data": {
      "text/plain": [
       "'corbonate'"
      ]
     },
     "execution_count": 4,
     "metadata": {},
     "output_type": "execute_result"
    }
   ],
   "source": [
    "x[7:]"
   ]
  },
  {
   "cell_type": "code",
   "execution_count": 14,
   "metadata": {},
   "outputs": [
    {
     "name": "stdout",
     "output_type": "stream",
     "text": [
      "A\n",
      "ऽ\n",
      "き\n"
     ]
    }
   ],
   "source": [
    "x = chr(65)\n",
    "print(x)\n",
    "\n",
    "x = chr(2365)\n",
    "print(x)\n",
    "\n",
    "x = chr(12365)\n",
    "print(x)"
   ]
  },
  {
   "cell_type": "code",
   "execution_count": 5,
   "metadata": {},
   "outputs": [
    {
     "data": {
      "text/plain": [
       "'yoyoyoyoyo'"
      ]
     },
     "execution_count": 5,
     "metadata": {},
     "output_type": "execute_result"
    }
   ],
   "source": [
    "#string duplication\n",
    "'yo'*5"
   ]
  },
  {
   "cell_type": "code",
   "execution_count": 6,
   "metadata": {},
   "outputs": [
    {
     "name": "stdout",
     "output_type": "stream",
     "text": [
      "-----------\n",
      "hello world\n",
      "-----------\n"
     ]
    }
   ],
   "source": [
    "print('-'*11)\n",
    "print('hello world')\n",
    "print('-'*11)"
   ]
  },
  {
   "cell_type": "code",
   "execution_count": 7,
   "metadata": {},
   "outputs": [],
   "source": [
    "w = \"worldsingers\"\n"
   ]
  },
  {
   "cell_type": "code",
   "execution_count": 8,
   "metadata": {},
   "outputs": [
    {
     "data": {
      "text/plain": [
       "['w', 'o', 'r', 'l', 'd', 's', 'i', 'n', 'g', 'e', 'r', 's']"
      ]
     },
     "execution_count": 8,
     "metadata": {},
     "output_type": "execute_result"
    }
   ],
   "source": [
    "list(w)"
   ]
  },
  {
   "cell_type": "code",
   "execution_count": 9,
   "metadata": {},
   "outputs": [
    {
     "data": {
      "text/plain": [
       "'world'"
      ]
     },
     "execution_count": 9,
     "metadata": {},
     "output_type": "execute_result"
    }
   ],
   "source": [
    "#slicing\n",
    "w[:5]"
   ]
  },
  {
   "cell_type": "code",
   "execution_count": 10,
   "metadata": {},
   "outputs": [
    {
     "data": {
      "text/plain": [
       "'olsnes'"
      ]
     },
     "execution_count": 10,
     "metadata": {},
     "output_type": "execute_result"
    }
   ],
   "source": [
    "w[1::2]  #odd indexes"
   ]
  },
  {
   "cell_type": "code",
   "execution_count": 11,
   "metadata": {},
   "outputs": [
    {
     "data": {
      "text/plain": [
       "'wrdigr'"
      ]
     },
     "execution_count": 11,
     "metadata": {},
     "output_type": "execute_result"
    }
   ],
   "source": [
    "w[0::2]    #even indexes"
   ]
  },
  {
   "cell_type": "code",
   "execution_count": 12,
   "metadata": {},
   "outputs": [
    {
     "data": {
      "text/plain": [
       "'sregnisdlrow'"
      ]
     },
     "execution_count": 12,
     "metadata": {},
     "output_type": "execute_result"
    }
   ],
   "source": [
    "w[::-1]  #reverse indexes"
   ]
  },
  {
   "cell_type": "code",
   "execution_count": 21,
   "metadata": {},
   "outputs": [
    {
     "name": "stdout",
     "output_type": "stream",
     "text": [
      "             L \n",
      "           L L \n",
      "         L L L \n",
      "       L L L L \n",
      "     L L L L L \n"
     ]
    }
   ],
   "source": [
    "#right alignment\n",
    "for i in range(1,6):\n",
    "    print((i * 'L ').rjust(15))"
   ]
  },
  {
   "cell_type": "code",
   "execution_count": 23,
   "metadata": {},
   "outputs": [
    {
     "data": {
      "text/plain": [
       "'        worldsingers'"
      ]
     },
     "execution_count": 23,
     "metadata": {},
     "output_type": "execute_result"
    }
   ],
   "source": [
    "w.rjust(20)"
   ]
  },
  {
   "cell_type": "code",
   "execution_count": 24,
   "metadata": {},
   "outputs": [
    {
     "name": "stdout",
     "output_type": "stream",
     "text": [
      "        k \n",
      "      k k \n",
      "    k k k \n",
      "  k k k k \n",
      "k k k k k \n"
     ]
    }
   ],
   "source": [
    "for i in range(1,6):\n",
    "    print(('k ' *i).rjust(10))"
   ]
  },
  {
   "cell_type": "code",
   "execution_count": 25,
   "metadata": {},
   "outputs": [
    {
     "name": "stdout",
     "output_type": "stream",
     "text": [
      "               T              \n",
      "             T T T            \n",
      "           T T T T T          \n",
      "         T T T T T T T        \n",
      "       T T T T T T T T T      \n",
      "     T T T T T T T T T T T    \n",
      "   T T T T T T T T T T T T T  \n"
     ]
    }
   ],
   "source": [
    "for i in range(1,15,2):\n",
    "    print((i * ' T').center(30))"
   ]
  },
  {
   "cell_type": "code",
   "execution_count": 30,
   "metadata": {},
   "outputs": [
    {
     "name": "stdout",
     "output_type": "stream",
     "text": [
      "              *               \n",
      "              0               \n",
      "           *  *  *            \n",
      "           0  0  0            \n",
      "        *  *  *  *  *         \n",
      "        0  0  0  0  0         \n",
      "     *  *  *  *  *  *  *      \n",
      "     0  0  0  0  0  0  0      \n",
      "  *  *  *  *  *  *  *  *  *   \n",
      "  0  0  0  0  0  0  0  0  0   \n",
      " *  *  *  *  *  *  *  *  *  *  * \n",
      " 0  0  0  0  0  0  0  0  0  0  0 \n",
      " *  *  *  *  *  *  *  *  *  *  *  *  * \n",
      " 0  0  0  0  0  0  0  0  0  0  0  0  0 \n"
     ]
    }
   ],
   "source": [
    "for i in range(1,15,2):\n",
    "    print((i * '* ').center(30))\n",
    "    print((i * \" 0 \").center(30))"
   ]
  },
  {
   "cell_type": "code",
   "execution_count": 36,
   "metadata": {},
   "outputs": [
    {
     "name": "stdout",
     "output_type": "stream",
     "text": [
      "------------------ 0 -------------------\n",
      "--------------- *  *  * ----------------\n",
      "------------ 0  0  0  0  0 -------------\n",
      "--------- *  *  *  *  *  *  * ----------\n",
      "------ 0  0  0  0  0  0  0  0  0 -------\n",
      "--- *  *  *  *  *  *  *  *  *  *  * ----\n",
      " 0  0  0  0  0  0  0  0  0  0  0  0  0 -\n"
     ]
    }
   ],
   "source": [
    "for i,v in enumerate(range(1,15,2)):\n",
    "    if i %2 == 0:\n",
    "        print((v * ' 0 ').center(40, '-'))\n",
    "    else:\n",
    "        print((v * ' * ').center(40, '-'))"
   ]
  },
  {
   "cell_type": "code",
   "execution_count": 34,
   "metadata": {},
   "outputs": [
    {
     "name": "stdout",
     "output_type": "stream",
     "text": [
      "\u001b[1;31mSignature:\u001b[0m \u001b[0mw\u001b[0m\u001b[1;33m.\u001b[0m\u001b[0mcenter\u001b[0m\u001b[1;33m(\u001b[0m\u001b[0mwidth\u001b[0m\u001b[1;33m,\u001b[0m \u001b[0mfillchar\u001b[0m\u001b[1;33m=\u001b[0m\u001b[1;34m' '\u001b[0m\u001b[1;33m,\u001b[0m \u001b[1;33m/\u001b[0m\u001b[1;33m)\u001b[0m\u001b[1;33m\u001b[0m\u001b[1;33m\u001b[0m\u001b[0m\n",
      "\u001b[1;31mDocstring:\u001b[0m\n",
      "Return a centered string of length width.\n",
      "\n",
      "Padding is done using the specified fill character (default is a space).\n",
      "\u001b[1;31mType:\u001b[0m      builtin_function_or_method\n"
     ]
    }
   ],
   "source": [
    "w.center?"
   ]
  },
  {
   "cell_type": "code",
   "execution_count": 40,
   "metadata": {},
   "outputs": [],
   "source": [
    "story = \"\"\"An old man lived in the village.\n",
    " He was one of the most unfortunate people in the world.\n",
    "  The whole village was tired of him; he was always gloomy,\n",
    "   he constantly complained and was always in a bad mood.\n",
    "he longer he lived, the more bile he was becoming and the more poisonous were his words.\n",
    " People avoided him, because his misfortune became contagious.\n",
    "  It was even unnatural and insulting to be happy next to him.\n",
    "He created the feeling of unhappiness in others.\n",
    "But one day, when he turned eighty years old,\n",
    " an incredible thing happened. Instantly everyone started hearing the rumour:a\n",
    "\"\"\""
   ]
  },
  {
   "cell_type": "code",
   "execution_count": 41,
   "metadata": {},
   "outputs": [
    {
     "data": {
      "text/plain": [
       "597"
      ]
     },
     "execution_count": 41,
     "metadata": {},
     "output_type": "execute_result"
    }
   ],
   "source": [
    "len(story)"
   ]
  },
  {
   "cell_type": "code",
   "execution_count": 42,
   "metadata": {},
   "outputs": [
    {
     "name": "stdout",
     "output_type": "stream",
     "text": [
      "103\n"
     ]
    }
   ],
   "source": [
    "words = story.split()\n",
    "print(len(words))"
   ]
  },
  {
   "cell_type": "code",
   "execution_count": 43,
   "metadata": {},
   "outputs": [
    {
     "data": {
      "text/plain": [
       "['An old man lived in the village',\n",
       " '\\n He was one of the most unfortunate people in the world',\n",
       " '\\n  The whole village was tired of him; he was always gloomy,\\n   he constantly complained and was always in a bad mood',\n",
       " '\\nhe longer he lived, the more bile he was becoming and the more poisonous were his words',\n",
       " '\\n People avoided him, because his misfortune became contagious',\n",
       " '\\n  It was even unnatural and insulting to be happy next to him',\n",
       " '\\nHe created the feeling of unhappiness in others',\n",
       " '\\nBut one day, when he turned eighty years old,\\n an incredible thing happened',\n",
       " ' Instantly everyone started hearing the rumour:a\\n']"
      ]
     },
     "execution_count": 43,
     "metadata": {},
     "output_type": "execute_result"
    }
   ],
   "source": [
    "story.split('.')"
   ]
  },
  {
   "cell_type": "code",
   "execution_count": 52,
   "metadata": {},
   "outputs": [],
   "source": [
    "worldlist =['chochlate','is','good','for','health']"
   ]
  },
  {
   "cell_type": "code",
   "execution_count": 54,
   "metadata": {},
   "outputs": [
    {
     "data": {
      "text/plain": [
       "'chochlate is good for health'"
      ]
     },
     "execution_count": 54,
     "metadata": {},
     "output_type": "execute_result"
    }
   ],
   "source": [
    "' '.join(worldlist)"
   ]
  },
  {
   "cell_type": "code",
   "execution_count": 55,
   "metadata": {},
   "outputs": [
    {
     "data": {
      "text/plain": [
       "'An old mbn lived in the villbge.\\n He wbs one of the most unfortunbte people in the world.\\n  The whole villbge wbs tired of him; he wbs blwbys gloomy,\\n   he constbntly complbined bnd wbs blwbys in b bbd mood.\\nhe longer he lived, the more bile he wbs becoming bnd the more poisonous were his words.\\n People bvoided him, becbuse his misfortune becbme contbgious.\\n  It wbs even unnbturbl bnd insulting to be hbppy next to him.\\nHe crebted the feeling of unhbppiness in others.\\nBut one dby, when he turned eighty yebrs old,\\n bn incredible thing hbppened. Instbntly everyone stbrted hebring the rumour:b\\n'"
      ]
     },
     "execution_count": 55,
     "metadata": {},
     "output_type": "execute_result"
    }
   ],
   "source": [
    "story.replace('a','b')"
   ]
  },
  {
   "cell_type": "code",
   "execution_count": 56,
   "metadata": {},
   "outputs": [
    {
     "data": {
      "text/plain": [
       "'An old man lived in ha village.\\n He was one of ha most unfortunate people in ha world.\\n  The whole village was tired of him; he was always gloomy,\\n   he constantly complained and was always in a bad mood.\\nhe longer he lived, ha more bile he was becoming and ha more poisonous were his words.\\n People avoided him, because his misfortune became contagious.\\n  It was even unnatural and insulting to be happy next to him.\\nHe created ha feeling of unhappiness in ohars.\\nBut one day, when he turned eighty years old,\\n an incredible thing happened. Instantly everyone started hearing ha rumour:a\\n'"
      ]
     },
     "execution_count": 56,
     "metadata": {},
     "output_type": "execute_result"
    }
   ],
   "source": [
    "story.replace('the','ha')"
   ]
  }
 ],
 "metadata": {
  "interpreter": {
   "hash": "1c42d66b2dd8dece3f25fba27cf852f34c19e64e2f4a6c3fd0dbd8791fef12dd"
  },
  "kernelspec": {
   "display_name": "Python 3.10.4 64-bit",
   "language": "python",
   "name": "python3"
  },
  "language_info": {
   "codemirror_mode": {
    "name": "ipython",
    "version": 3
   },
   "file_extension": ".py",
   "mimetype": "text/x-python",
   "name": "python",
   "nbconvert_exporter": "python",
   "pygments_lexer": "ipython3",
   "version": "3.10.4"
  },
  "orig_nbformat": 4
 },
 "nbformat": 4,
 "nbformat_minor": 2
}
