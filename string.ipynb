{
 "cells": [
  {
   "cell_type": "code",
   "execution_count": 2,
   "metadata": {},
   "outputs": [
    {
     "name": "stdout",
     "output_type": "stream",
     "text": [
      "hello\n",
      "hello\n",
      " hello\n",
      "hello, welcome to\n",
      "             the world of python\n"
     ]
    }
   ],
   "source": [
    "#defining string in python\n",
    "#all of the following are equivalent\n",
    "my_string = 'hello'\n",
    "print(my_string)\n",
    "\n",
    "my_string =\"hello\"\n",
    "print(my_string)\n",
    "\n",
    "my_string = \"\"\" hello\"\"\"\n",
    "print(my_string)\n",
    "\n",
    "#triple quotes string can extend multiple lines\n",
    "my_string = \"\"\"hello, welcome to\n",
    "             the world of python\"\"\"\n",
    "print(my_string)"
   ]
  },
  {
   "cell_type": "code",
   "execution_count": 1,
   "metadata": {},
   "outputs": [
    {
     "name": "stdout",
     "output_type": "stream",
     "text": [
      "str =  shambhavi\n",
      "str =  s\n"
     ]
    }
   ],
   "source": [
    "#accessing strring characters in python\n",
    "str = 'shambhavi'\n",
    "print('str = ', str)\n",
    "\n",
    "#first character\n",
    "print('str = ',str[0])"
   ]
  },
  {
   "cell_type": "code",
   "execution_count": 4,
   "metadata": {},
   "outputs": [
    {
     "data": {
      "text/plain": [
       "18"
      ]
     },
     "execution_count": 4,
     "metadata": {},
     "output_type": "execute_result"
    }
   ],
   "source": [
    "word ='stormlight Archive'\n",
    "len(word)"
   ]
  },
  {
   "cell_type": "code",
   "execution_count": 8,
   "metadata": {},
   "outputs": [
    {
     "name": "stdout",
     "output_type": "stream",
     "text": [
      ",\n"
     ]
    }
   ],
   "source": [
    "print(word[10])"
   ]
  },
  {
   "cell_type": "code",
   "execution_count": 9,
   "metadata": {},
   "outputs": [
    {
     "data": {
      "text/plain": [
       "','"
      ]
     },
     "execution_count": 9,
     "metadata": {},
     "output_type": "execute_result"
    }
   ],
   "source": [
    "word[10]"
   ]
  },
  {
   "cell_type": "code",
   "execution_count": 7,
   "metadata": {},
   "outputs": [
    {
     "name": "stdout",
     "output_type": "stream",
     "text": [
      ", t m\n"
     ]
    }
   ],
   "source": [
    "print(word[-8],word[1],word[4])"
   ]
  },
  {
   "cell_type": "code",
   "execution_count": 10,
   "metadata": {},
   "outputs": [
    {
     "name": "stdout",
     "output_type": "stream",
     "text": [
      "pod\n",
      "digi\n"
     ]
    }
   ],
   "source": [
    "#getting a slice\n",
    "s = 'digipodium'\n",
    "slice1 = s[4:7]\n",
    "slice2 = s[:4]\n",
    "print(slice1) \n",
    "print(slice2)\n"
   ]
  },
  {
   "cell_type": "code",
   "execution_count": 3,
   "metadata": {},
   "outputs": [
    {
     "data": {
      "text/plain": [
       "'develop'"
      ]
     },
     "execution_count": 3,
     "metadata": {},
     "output_type": "execute_result"
    }
   ],
   "source": [
    "x = 'developer'\n",
    "x[:-2]\n"
   ]
  },
  {
   "cell_type": "code",
   "execution_count": 2,
   "metadata": {},
   "outputs": [
    {
     "data": {
      "text/plain": [
       "'sodium'"
      ]
     },
     "execution_count": 2,
     "metadata": {},
     "output_type": "execute_result"
    }
   ],
   "source": [
    "x ='sodium corbonate'\n",
    "x[:6]"
   ]
  },
  {
   "cell_type": "code",
   "execution_count": 3,
   "metadata": {},
   "outputs": [
    {
     "data": {
      "text/plain": [
       "'sodium '"
      ]
     },
     "execution_count": 3,
     "metadata": {},
     "output_type": "execute_result"
    }
   ],
   "source": [
    "x[:7]"
   ]
  },
  {
   "cell_type": "code",
   "execution_count": 4,
   "metadata": {},
   "outputs": [
    {
     "data": {
      "text/plain": [
       "'corbonate'"
      ]
     },
     "execution_count": 4,
     "metadata": {},
     "output_type": "execute_result"
    }
   ],
   "source": [
    "x[7:]"
   ]
  },
  {
   "cell_type": "code",
   "execution_count": 14,
   "metadata": {},
   "outputs": [
    {
     "name": "stdout",
     "output_type": "stream",
     "text": [
      "A\n",
      "ऽ\n",
      "き\n"
     ]
    }
   ],
   "source": [
    "x = chr(65)\n",
    "print(x)\n",
    "\n",
    "x = chr(2365)\n",
    "print(x)\n",
    "\n",
    "x = chr(12365)\n",
    "print(x)"
   ]
  },
  {
   "cell_type": "code",
   "execution_count": 5,
   "metadata": {},
   "outputs": [
    {
     "data": {
      "text/plain": [
       "'yoyoyoyoyo'"
      ]
     },
     "execution_count": 5,
     "metadata": {},
     "output_type": "execute_result"
    }
   ],
   "source": [
    "#string duplication\n",
    "'yo'*5"
   ]
  },
  {
   "cell_type": "code",
   "execution_count": 6,
   "metadata": {},
   "outputs": [
    {
     "name": "stdout",
     "output_type": "stream",
     "text": [
      "-----------\n",
      "hello world\n",
      "-----------\n"
     ]
    }
   ],
   "source": [
    "print('-'*11)\n",
    "print('hello world')\n",
    "print('-'*11)"
   ]
  },
  {
   "cell_type": "code",
   "execution_count": 7,
   "metadata": {},
   "outputs": [],
   "source": [
    "w = \"worldsingers\"\n"
   ]
  },
  {
   "cell_type": "code",
   "execution_count": 8,
   "metadata": {},
   "outputs": [
    {
     "data": {
      "text/plain": [
       "['w', 'o', 'r', 'l', 'd', 's', 'i', 'n', 'g', 'e', 'r', 's']"
      ]
     },
     "execution_count": 8,
     "metadata": {},
     "output_type": "execute_result"
    }
   ],
   "source": [
    "list(w)"
   ]
  },
  {
   "cell_type": "code",
   "execution_count": 9,
   "metadata": {},
   "outputs": [
    {
     "data": {
      "text/plain": [
       "'world'"
      ]
     },
     "execution_count": 9,
     "metadata": {},
     "output_type": "execute_result"
    }
   ],
   "source": [
    "#slicing\n",
    "w[:5]"
   ]
  },
  {
   "cell_type": "code",
   "execution_count": 10,
   "metadata": {},
   "outputs": [
    {
     "data": {
      "text/plain": [
       "'olsnes'"
      ]
     },
     "execution_count": 10,
     "metadata": {},
     "output_type": "execute_result"
    }
   ],
   "source": [
    "w[1::2]  #odd indexes"
   ]
  },
  {
   "cell_type": "code",
   "execution_count": 11,
   "metadata": {},
   "outputs": [
    {
     "data": {
      "text/plain": [
       "'wrdigr'"
      ]
     },
     "execution_count": 11,
     "metadata": {},
     "output_type": "execute_result"
    }
   ],
   "source": [
    "w[0::2]    #even indexes"
   ]
  },
  {
   "cell_type": "code",
   "execution_count": 12,
   "metadata": {},
   "outputs": [
    {
     "data": {
      "text/plain": [
       "'sregnisdlrow'"
      ]
     },
     "execution_count": 12,
     "metadata": {},
     "output_type": "execute_result"
    }
   ],
   "source": [
    "w[::-1]  #reverse indexes"
   ]
  },
  {
   "cell_type": "code",
   "execution_count": 21,
   "metadata": {},
   "outputs": [
    {
     "name": "stdout",
     "output_type": "stream",
     "text": [
      "             L \n",
      "           L L \n",
      "         L L L \n",
      "       L L L L \n",
      "     L L L L L \n"
     ]
    }
   ],
   "source": [
    "#right alignment\n",
    "for i in range(1,6):\n",
    "    print((i * 'L ').rjust(15))"
   ]
  },
  {
   "cell_type": "code",
   "execution_count": 23,
   "metadata": {},
   "outputs": [
    {
     "data": {
      "text/plain": [
       "'        worldsingers'"
      ]
     },
     "execution_count": 23,
     "metadata": {},
     "output_type": "execute_result"
    }
   ],
   "source": [
    "w.rjust(20)"
   ]
  },
  {
   "cell_type": "code",
   "execution_count": 24,
   "metadata": {},
   "outputs": [
    {
     "name": "stdout",
     "output_type": "stream",
     "text": [
      "        k \n",
      "      k k \n",
      "    k k k \n",
      "  k k k k \n",
      "k k k k k \n"
     ]
    }
   ],
   "source": [
    "for i in range(1,6):\n",
    "    print(('k ' *i).rjust(10))"
   ]
  },
  {
   "cell_type": "code",
   "execution_count": 25,
   "metadata": {},
   "outputs": [
    {
     "name": "stdout",
     "output_type": "stream",
     "text": [
      "               T              \n",
      "             T T T            \n",
      "           T T T T T          \n",
      "         T T T T T T T        \n",
      "       T T T T T T T T T      \n",
      "     T T T T T T T T T T T    \n",
      "   T T T T T T T T T T T T T  \n"
     ]
    }
   ],
   "source": [
    "for i in range(1,15,2):\n",
    "    print((i * ' T').center(30))"
   ]
  },
  {
   "cell_type": "code",
   "execution_count": 30,
   "metadata": {},
   "outputs": [
    {
     "name": "stdout",
     "output_type": "stream",
     "text": [
      "              *               \n",
      "              0               \n",
      "           *  *  *            \n",
      "           0  0  0            \n",
      "        *  *  *  *  *         \n",
      "        0  0  0  0  0         \n",
      "     *  *  *  *  *  *  *      \n",
      "     0  0  0  0  0  0  0      \n",
      "  *  *  *  *  *  *  *  *  *   \n",
      "  0  0  0  0  0  0  0  0  0   \n",
      " *  *  *  *  *  *  *  *  *  *  * \n",
      " 0  0  0  0  0  0  0  0  0  0  0 \n",
      " *  *  *  *  *  *  *  *  *  *  *  *  * \n",
      " 0  0  0  0  0  0  0  0  0  0  0  0  0 \n"
     ]
    }
   ],
   "source": [
    "for i in range(1,15,2):\n",
    "    print((i * '* ').center(30))\n",
    "    print((i * \" 0 \").center(30))"
   ]
  },
  {
   "cell_type": "code",
   "execution_count": 36,
   "metadata": {},
   "outputs": [
    {
     "name": "stdout",
     "output_type": "stream",
     "text": [
      "------------------ 0 -------------------\n",
      "--------------- *  *  * ----------------\n",
      "------------ 0  0  0  0  0 -------------\n",
      "--------- *  *  *  *  *  *  * ----------\n",
      "------ 0  0  0  0  0  0  0  0  0 -------\n",
      "--- *  *  *  *  *  *  *  *  *  *  * ----\n",
      " 0  0  0  0  0  0  0  0  0  0  0  0  0 -\n"
     ]
    }
   ],
   "source": [
    "for i,v in enumerate(range(1,15,2)):\n",
    "    if i %2 == 0:\n",
    "        print((v * ' 0 ').center(40, '-'))\n",
    "    else:\n",
    "        print((v * ' * ').center(40, '-'))"
   ]
  },
  {
   "cell_type": "code",
   "execution_count": 2,
   "metadata": {},
   "outputs": [],
   "source": [
    "story = \"\"\"An old man lived in the village.\n",
    " He was one of the most unfortunate people in the world.\n",
    "  The whole village was tired of him; he was always gloomy,\n",
    "   he constantly complained and was always in a bad mood.\n",
    "he longer he lived, the more bile he was becoming and the more poisonous were his words.\n",
    " People avoided him, because his misfortune became contagious.\n",
    "  It was even unnatural and insulting to be happy next to him.\n",
    "He created the feeling of unhappiness in others.\n",
    "But one day, when he turned eighty years old,\n",
    " an incredible thing happened. Instantly everyone started hearing the rumour:a\n",
    "\"\"\""
   ]
  },
  {
   "cell_type": "code",
   "execution_count": 41,
   "metadata": {},
   "outputs": [
    {
     "data": {
      "text/plain": [
       "597"
      ]
     },
     "execution_count": 41,
     "metadata": {},
     "output_type": "execute_result"
    }
   ],
   "source": [
    "len(story)"
   ]
  },
  {
   "cell_type": "code",
   "execution_count": 4,
   "metadata": {},
   "outputs": [
    {
     "name": "stdout",
     "output_type": "stream",
     "text": [
      "['An', 'old', 'man', 'lived', 'in', 'the', 'village.', 'He', 'was', 'one', 'of', 'the', 'most', 'unfortunate', 'people', 'in', 'the', 'world.', 'The', 'whole', 'village', 'was', 'tired', 'of', 'him;', 'he', 'was', 'always', 'gloomy,', 'he', 'constantly', 'complained', 'and', 'was', 'always', 'in', 'a', 'bad', 'mood.', 'he', 'longer', 'he', 'lived,', 'the', 'more', 'bile', 'he', 'was', 'becoming', 'and', 'the', 'more', 'poisonous', 'were', 'his', 'words.', 'People', 'avoided', 'him,', 'because', 'his', 'misfortune', 'became', 'contagious.', 'It', 'was', 'even', 'unnatural', 'and', 'insulting', 'to', 'be', 'happy', 'next', 'to', 'him.', 'He', 'created', 'the', 'feeling', 'of', 'unhappiness', 'in', 'others.', 'But', 'one', 'day,', 'when', 'he', 'turned', 'eighty', 'years', 'old,', 'an', 'incredible', 'thing', 'happened.', 'Instantly', 'everyone', 'started', 'hearing', 'the', 'rumour:a']\n"
     ]
    }
   ],
   "source": [
    "words = story.split()\n",
    "print(words)"
   ]
  },
  {
   "cell_type": "code",
   "execution_count": 4,
   "metadata": {},
   "outputs": [
    {
     "data": {
      "text/plain": [
       "['An old man lived in the village',\n",
       " '\\n He was one of the most unfortunate people in the world',\n",
       " '\\n  The whole village was tired of him; he was always gloomy,\\n   he constantly complained and was always in a bad mood',\n",
       " '\\nhe longer he lived, the more bile he was becoming and the more poisonous were his words',\n",
       " '\\n People avoided him, because his misfortune became contagious',\n",
       " '\\n  It was even unnatural and insulting to be happy next to him',\n",
       " '\\nHe created the feeling of unhappiness in others',\n",
       " '\\nBut one day, when he turned eighty years old,\\n an incredible thing happened',\n",
       " ' Instantly everyone started hearing the rumour:a\\n']"
      ]
     },
     "execution_count": 4,
     "metadata": {},
     "output_type": "execute_result"
    }
   ],
   "source": [
    "story.split('.')"
   ]
  },
  {
   "cell_type": "code",
   "execution_count": 52,
   "metadata": {},
   "outputs": [],
   "source": [
    "worldlist =['chochlate','is','good','for','health']"
   ]
  },
  {
   "cell_type": "code",
   "execution_count": 54,
   "metadata": {},
   "outputs": [
    {
     "data": {
      "text/plain": [
       "'chochlate is good for health'"
      ]
     },
     "execution_count": 54,
     "metadata": {},
     "output_type": "execute_result"
    }
   ],
   "source": [
    "' '.join(worldlist)"
   ]
  },
  {
   "cell_type": "code",
   "execution_count": 55,
   "metadata": {},
   "outputs": [
    {
     "data": {
      "text/plain": [
       "'An old mbn lived in the villbge.\\n He wbs one of the most unfortunbte people in the world.\\n  The whole villbge wbs tired of him; he wbs blwbys gloomy,\\n   he constbntly complbined bnd wbs blwbys in b bbd mood.\\nhe longer he lived, the more bile he wbs becoming bnd the more poisonous were his words.\\n People bvoided him, becbuse his misfortune becbme contbgious.\\n  It wbs even unnbturbl bnd insulting to be hbppy next to him.\\nHe crebted the feeling of unhbppiness in others.\\nBut one dby, when he turned eighty yebrs old,\\n bn incredible thing hbppened. Instbntly everyone stbrted hebring the rumour:b\\n'"
      ]
     },
     "execution_count": 55,
     "metadata": {},
     "output_type": "execute_result"
    }
   ],
   "source": [
    "story.replace('a','b')"
   ]
  },
  {
   "cell_type": "code",
   "execution_count": 56,
   "metadata": {},
   "outputs": [
    {
     "data": {
      "text/plain": [
       "'An old man lived in ha village.\\n He was one of ha most unfortunate people in ha world.\\n  The whole village was tired of him; he was always gloomy,\\n   he constantly complained and was always in a bad mood.\\nhe longer he lived, ha more bile he was becoming and ha more poisonous were his words.\\n People avoided him, because his misfortune became contagious.\\n  It was even unnatural and insulting to be happy next to him.\\nHe created ha feeling of unhappiness in ohars.\\nBut one day, when he turned eighty years old,\\n an incredible thing happened. Instantly everyone started hearing ha rumour:a\\n'"
      ]
     },
     "execution_count": 56,
     "metadata": {},
     "output_type": "execute_result"
    }
   ],
   "source": [
    "story.replace('the','ha')"
   ]
  },
  {
   "cell_type": "code",
   "execution_count": 2,
   "metadata": {},
   "outputs": [
    {
     "data": {
      "text/plain": [
       "'An old man lived in the village.\\n He was one of the most unfortunate people in the world.\\n  The whole village was tired of him; he was always gloomy,\\n   he constantly complained and was always in a bad mood.\\nhe longer he lived, the more bile he was becoming and the more poisonous were his words.\\n People avoided him, because his misfortune became contagious.\\n  It was even unnatural and insulting to be happy next to him.\\nHe created the feeling of unhappiness in others.\\nBut one day, when he turned eighty years old,\\n an incredible thing happened. Instantly everyone started hearing the rumour:a\\n'"
      ]
     },
     "execution_count": 2,
     "metadata": {},
     "output_type": "execute_result"
    }
   ],
   "source": [
    "story"
   ]
  },
  {
   "cell_type": "code",
   "execution_count": 4,
   "metadata": {},
   "outputs": [
    {
     "data": {
      "text/plain": [
       "'AN OLD MAN LIVED IN THE VILLAGE.\\n HE WAS ONE OF THE MOST UNFORTUNATE PEOPLE IN THE WORLD.\\n  THE WHOLE VILLAGE WAS TIRED OF HIM; HE WAS ALWAYS GLOOMY,\\n   HE CONSTANTLY COMPLAINED AND WAS ALWAYS IN A BAD MOOD.\\nHE LONGER HE LIVED, THE MORE BILE HE WAS BECOMING AND THE MORE POISONOUS WERE HIS WORDS.\\n PEOPLE AVOIDED HIM, BECAUSE HIS MISFORTUNE BECAME CONTAGIOUS.\\n  IT WAS EVEN UNNATURAL AND INSULTING TO BE HAPPY NEXT TO HIM.\\nHE CREATED THE FEELING OF UNHAPPINESS IN OTHERS.\\nBUT ONE DAY, WHEN HE TURNED EIGHTY YEARS OLD,\\n AN INCREDIBLE THING HAPPENED. INSTANTLY EVERYONE STARTED HEARING THE RUMOUR:A\\n'"
      ]
     },
     "execution_count": 4,
     "metadata": {},
     "output_type": "execute_result"
    }
   ],
   "source": [
    "story.upper()"
   ]
  },
  {
   "cell_type": "code",
   "execution_count": 6,
   "metadata": {},
   "outputs": [
    {
     "data": {
      "text/plain": [
       "'an old man lived in the village.\\n he was one of the most unfortunate people in the world.\\n  the whole village was tired of him; he was always gloomy,\\n   he constantly complained and was always in a bad mood.\\nhe longer he lived, the more bile he was becoming and the more poisonous were his words.\\n people avoided him, because his misfortune became contagious.\\n  it was even unnatural and insulting to be happy next to him.\\nhe created the feeling of unhappiness in others.\\nbut one day, when he turned eighty years old,\\n an incredible thing happened. instantly everyone started hearing the rumour:a\\n'"
      ]
     },
     "execution_count": 6,
     "metadata": {},
     "output_type": "execute_result"
    }
   ],
   "source": [
    "story.lower()"
   ]
  },
  {
   "cell_type": "code",
   "execution_count": 7,
   "metadata": {},
   "outputs": [
    {
     "data": {
      "text/plain": [
       "'An old man lived in the village.\\n he was one of the most unfortunate people in the world.\\n  the whole village was tired of him; he was always gloomy,\\n   he constantly complained and was always in a bad mood.\\nhe longer he lived, the more bile he was becoming and the more poisonous were his words.\\n people avoided him, because his misfortune became contagious.\\n  it was even unnatural and insulting to be happy next to him.\\nhe created the feeling of unhappiness in others.\\nbut one day, when he turned eighty years old,\\n an incredible thing happened. instantly everyone started hearing the rumour:a\\n'"
      ]
     },
     "execution_count": 7,
     "metadata": {},
     "output_type": "execute_result"
    }
   ],
   "source": [
    "story.capitalize()"
   ]
  },
  {
   "cell_type": "code",
   "execution_count": 8,
   "metadata": {},
   "outputs": [
    {
     "data": {
      "text/plain": [
       "'An old man lived in the village.\\n he was one of the most unfortunate people in the world.\\n  the whole village was tired of him; he was always gloomy,\\n   he constantly complained and was always in a bad mood.\\nhe longer he lived, the more bile he was becoming and the more poisonous were his words.\\n people avoided him, because his misfortune became contagious.\\n  it was even unnatural and insulting to be happy next to him.\\nhe created the feeling of unhappiness in others.\\nbut one day, when he turned eighty years old,\\n an incredible thing happened. instantly everyone started hearing the rumour:a'"
      ]
     },
     "execution_count": 8,
     "metadata": {},
     "output_type": "execute_result"
    }
   ],
   "source": [
    "story.strip().capitalize()"
   ]
  },
  {
   "cell_type": "code",
   "execution_count": 10,
   "metadata": {},
   "outputs": [
    {
     "data": {
      "text/plain": [
       "'aN OLD MAN LIVED IN THE VILLAGE.\\n hE WAS ONE OF THE MOST UNFORTUNATE PEOPLE IN THE WORLD.\\n  tHE WHOLE VILLAGE WAS TIRED OF HIM; HE WAS ALWAYS GLOOMY,\\n   HE CONSTANTLY COMPLAINED AND WAS ALWAYS IN A BAD MOOD.\\nHE LONGER HE LIVED, THE MORE BILE HE WAS BECOMING AND THE MORE POISONOUS WERE HIS WORDS.\\n pEOPLE AVOIDED HIM, BECAUSE HIS MISFORTUNE BECAME CONTAGIOUS.\\n  iT WAS EVEN UNNATURAL AND INSULTING TO BE HAPPY NEXT TO HIM.\\nhE CREATED THE FEELING OF UNHAPPINESS IN OTHERS.\\nbUT ONE DAY, WHEN HE TURNED EIGHTY YEARS OLD,\\n AN INCREDIBLE THING HAPPENED. iNSTANTLY EVERYONE STARTED HEARING THE RUMOUR:A\\n'"
      ]
     },
     "execution_count": 10,
     "metadata": {},
     "output_type": "execute_result"
    }
   ],
   "source": [
    "story.swapcase()"
   ]
  },
  {
   "cell_type": "code",
   "execution_count": 11,
   "metadata": {},
   "outputs": [
    {
     "data": {
      "text/plain": [
       "'an old man lived in the village.\\n he was one of the most unfortunate people in the world.\\n  the whole village was tired of him; he was always gloomy,\\n   he constantly complained and was always in a bad mood.\\nhe longer he lived, the more bile he was becoming and the more poisonous were his words.\\n people avoided him, because his misfortune became contagious.\\n  it was even unnatural and insulting to be happy next to him.\\nhe created the feeling of unhappiness in others.\\nbut one day, when he turned eighty years old,\\n an incredible thing happened. instantly everyone started hearing the rumour:a\\n'"
      ]
     },
     "execution_count": 11,
     "metadata": {},
     "output_type": "execute_result"
    }
   ],
   "source": [
    "story.casefold()"
   ]
  },
  {
   "cell_type": "code",
   "execution_count": 13,
   "metadata": {},
   "outputs": [
    {
     "data": {
      "text/plain": [
       "False"
      ]
     },
     "execution_count": 13,
     "metadata": {},
     "output_type": "execute_result"
    }
   ],
   "source": [
    "#validation functions\n",
    "msg = input('enter anything:')\n",
    "msg.isalpha()"
   ]
  },
  {
   "cell_type": "code",
   "execution_count": 15,
   "metadata": {},
   "outputs": [
    {
     "name": "stdout",
     "output_type": "stream",
     "text": [
      "invalid number\n"
     ]
    }
   ],
   "source": [
    "msg = input('enter a number:')\n",
    "if msg.isnumeric():\n",
    "    print('valid number')\n",
    "else:\n",
    "    print('invalid number')"
   ]
  },
  {
   "cell_type": "code",
   "execution_count": 19,
   "metadata": {},
   "outputs": [
    {
     "data": {
      "text/plain": [
       "False"
      ]
     },
     "execution_count": 19,
     "metadata": {},
     "output_type": "execute_result"
    }
   ],
   "source": [
    "msg = input('enter anything :')\n",
    "msg.isalnum()"
   ]
  },
  {
   "cell_type": "code",
   "execution_count": 23,
   "metadata": {},
   "outputs": [
    {
     "name": "stdout",
     "output_type": "stream",
     "text": [
      "3\n"
     ]
    }
   ],
   "source": [
    "occurance = story.count('of')\n",
    "print(occurance)"
   ]
  },
  {
   "cell_type": "code",
   "execution_count": 25,
   "metadata": {},
   "outputs": [
    {
     "name": "stdout",
     "output_type": "stream",
     "text": [
      "a 39\n",
      "b 8\n",
      "c 8\n",
      "d 21\n",
      "e 66\n",
      "f 6\n",
      "g 11\n",
      "h 30\n",
      "i 32\n",
      "j 0\n",
      "k 0\n",
      "l 24\n",
      "m 14\n",
      "n 40\n",
      "o 36\n",
      "p 12\n",
      "q 0\n",
      "r 20\n",
      "s 25\n",
      "t 32\n",
      "u 14\n",
      "v 7\n",
      "w 13\n",
      "x 1\n",
      "y 10\n",
      "z 0\n"
     ]
    }
   ],
   "source": [
    "for char in \"abcdefghijklmnopqrstuvwxyz\":\n",
    "    \n",
    "    print(char,story.lower().count(char))"
   ]
  },
  {
   "cell_type": "code",
   "execution_count": 3,
   "metadata": {},
   "outputs": [
    {
     "name": "stdout",
     "output_type": "stream",
     "text": [
      "16\n",
      "joqehdiwh 9\n"
     ]
    }
   ],
   "source": [
    "name = input('enter your name')\n",
    "print(len(name))\n",
    "#cleaning name\n",
    "name = name.strip()\n",
    "print(name,len(name))"
   ]
  },
  {
   "cell_type": "code",
   "execution_count": 29,
   "metadata": {},
   "outputs": [
    {
     "name": "stdout",
     "output_type": "stream",
     "text": [
      "7\n",
      "ldjfhfj 7\n"
     ]
    }
   ],
   "source": [
    "name = input('enter your name')\n",
    "print(len(name))\n",
    "#cleaning name\n",
    "name = name.lstrip()\n",
    "print(name,len(name))"
   ]
  },
  {
   "cell_type": "code",
   "execution_count": 2,
   "metadata": {},
   "outputs": [
    {
     "name": "stdout",
     "output_type": "stream",
     "text": [
      "26\n",
      "iuhtiu weurhi34uth kwhi4h3 26\n"
     ]
    }
   ],
   "source": [
    "name = input('enter your name')\n",
    "print(len(name))\n",
    "#cleaning name\n",
    "name = name.rstrip()\n",
    "print(name,len(name))"
   ]
  },
  {
   "cell_type": "code",
   "execution_count": 31,
   "metadata": {},
   "outputs": [
    {
     "name": "stdout",
     "output_type": "stream",
     "text": [
      "welcome gentelmen, mr. smith\n",
      "welcome milady, mrs. jones\n",
      "welcome gentelmen, mr.joe\n",
      "welcome gentelmen, mr. brown\n"
     ]
    }
   ],
   "source": [
    "guestlist = ['mr. smith','mrs. jones', 'mr.joe','mr. brown']\n",
    "for name in guestlist:\n",
    "    if name.startswith('mr.'):\n",
    "        print(f'welcome gentelmen, {name}')\n",
    "    if name.startswith('mrs.'):\n",
    "        print(f'welcome milady, {name}')"
   ]
  },
  {
   "cell_type": "code",
   "execution_count": 32,
   "metadata": {},
   "outputs": [
    {
     "name": "stdout",
     "output_type": "stream",
     "text": [
      "song.mp3 is audio file\n",
      "song.mp4 is video file\n",
      "doc.txt is text file\n",
      "doc2.txt is text file\n",
      "doc3.txt is text file\n",
      "video.mp4 is video file\n"
     ]
    }
   ],
   "source": [
    "files = ['song.mp3', 'song.mp4', 'doc.txt', 'doc2.txt', 'doc3.txt', 'video.mp4']\n",
    "for file in files:\n",
    "    if file.endswith('.mp3'):\n",
    "        print(f'{file} is audio file')\n",
    "    elif file.endswith('.mp4'):\n",
    "        print(f'{file} is video file')\n",
    "    elif file.endswith('.txt'):\n",
    "        print(f'{file} is text file')"
   ]
  },
  {
   "cell_type": "code",
   "execution_count": 48,
   "metadata": {},
   "outputs": [
    {
     "name": "stdout",
     "output_type": "stream",
     "text": [
      "this is  messge , nd it is  long messge\n",
      "this is  mssg , nd it is  long mssg\n",
      "ths s  mssg , nd t s  long mssg\n",
      "ths s  mssg , nd t s  lng mssg\n",
      "ths s  mssg , nd t s  lng mssg\n"
     ]
    }
   ],
   "source": [
    "#remove all vowels from a string entered by user\n",
    "vowels = 'aeiou'\n",
    "message = 'this is a message , and it is a long message'\n",
    "\n",
    "for vowel in vowels:\n",
    "    message = message.replace(vowel,'')\n",
    "    print(message)"
   ]
  },
  {
   "cell_type": "code",
   "execution_count": 53,
   "metadata": {},
   "outputs": [
    {
     "name": "stdout",
     "output_type": "stream",
     "text": [
      "a occurs 39 times\n",
      "e occurs 66 times\n",
      "i occurs 32 times\n",
      "o occurs 36 times\n",
      "u occurs 14 times\n"
     ]
    }
   ],
   "source": [
    "# count all vowels from a string entered by user\n",
    "for vowel in vowels:\n",
    "    print(f\"{vowel} occurs {story.lower().count(vowel)} times\")\n",
    "\n"
   ]
  },
  {
   "cell_type": "code",
   "execution_count": null,
   "metadata": {},
   "outputs": [],
   "source": []
  }
 ],
 "metadata": {
  "interpreter": {
   "hash": "1c42d66b2dd8dece3f25fba27cf852f34c19e64e2f4a6c3fd0dbd8791fef12dd"
  },
  "kernelspec": {
   "display_name": "Python 3.10.4 64-bit",
   "language": "python",
   "name": "python3"
  },
  "language_info": {
   "codemirror_mode": {
    "name": "ipython",
    "version": 3
   },
   "file_extension": ".py",
   "mimetype": "text/x-python",
   "name": "python",
   "nbconvert_exporter": "python",
   "pygments_lexer": "ipython3",
   "version": "3.10.4"
  },
  "orig_nbformat": 4
 },
 "nbformat": 4,
 "nbformat_minor": 2
}
