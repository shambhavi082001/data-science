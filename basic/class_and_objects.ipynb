{
 "cells": [
  {
   "cell_type": "code",
   "execution_count": 8,
   "metadata": {},
   "outputs": [
    {
     "name": "stdout",
     "output_type": "stream",
     "text": [
      "teaching\n",
      "9\n",
      "{'name': 'rohan', 'salary': 3456, 'age': 37, 'job_role': 'instructor', 'no_of_leaves': 9}\n",
      "8\n"
     ]
    }
   ],
   "source": [
    "class Employee:\n",
    "    no_of_leaves=8\n",
    "    pass\n",
    "\n",
    "rohan = Employee()\n",
    "shyam = Employee()\n",
    "\n",
    "rohan.name = \"rohan\"\n",
    "rohan.salary = 3456\n",
    "rohan.age = 37\n",
    "rohan.job_role = \"instructor\"\n",
    "\n",
    "shyam.name = \"shyam\"\n",
    "shyam.salary = 2345\n",
    "shyam.job_role = \"teaching\"\n",
    "shyam.age = 28\n",
    "\n",
    "print(shyam.job_role)\n",
    "#Employee.no_of_leaves = 9\n",
    "#print(Employee.no_of_leaves)\n",
    "\n",
    "rohan.no_of_leaves = 9\n",
    "print(rohan.no_of_leaves)\n",
    "\n",
    "print(rohan.__dict__)\n",
    "print(Employee.no_of_leaves)"
   ]
  },
  {
   "cell_type": "code",
   "execution_count": null,
   "metadata": {},
   "outputs": [],
   "source": []
  }
 ],
 "metadata": {
  "kernelspec": {
   "display_name": "Python 3.9.13 ('base')",
   "language": "python",
   "name": "python3"
  },
  "language_info": {
   "codemirror_mode": {
    "name": "ipython",
    "version": 3
   },
   "file_extension": ".py",
   "mimetype": "text/x-python",
   "name": "python",
   "nbconvert_exporter": "python",
   "pygments_lexer": "ipython3",
   "version": "3.9.13"
  },
  "orig_nbformat": 4,
  "vscode": {
   "interpreter": {
    "hash": "5c2e1fbdbc753133dbe82f78110374a46e694123620e9daffa43fa991124e895"
   }
  }
 },
 "nbformat": 4,
 "nbformat_minor": 2
}
