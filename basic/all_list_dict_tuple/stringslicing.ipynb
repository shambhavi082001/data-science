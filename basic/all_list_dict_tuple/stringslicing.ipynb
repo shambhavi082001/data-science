{
 "cells": [
  {
   "cell_type": "code",
   "execution_count": 2,
   "metadata": {},
   "outputs": [
    {
     "name": "stdout",
     "output_type": "stream",
     "text": [
      "sham is a good girl\n"
     ]
    }
   ],
   "source": [
    "mystr = \"sham is a good girl\"\n",
    "print(mystr)"
   ]
  },
  {
   "cell_type": "code",
   "execution_count": 10,
   "metadata": {},
   "outputs": [
    {
     "name": "stdout",
     "output_type": "stream",
     "text": [
      "m\n",
      "i\n",
      "o\n",
      "l\n",
      "sham \n",
      "sha\n",
      "sham\n"
     ]
    }
   ],
   "source": [
    "print(mystr[3])\n",
    "print(mystr[5])\n",
    "print(mystr[12])\n",
    "print(mystr[18])\n",
    "print(mystr[0:5])\n",
    "print(mystr[0:3])\n",
    "print(mystr[0:4])"
   ]
  },
  {
   "cell_type": "code",
   "execution_count": 14,
   "metadata": {},
   "outputs": [
    {
     "name": "stdout",
     "output_type": "stream",
     "text": [
      "sham is a go\n",
      "sham is a good gir\n",
      "sham is a good girl\n",
      "sham is a good girl\n"
     ]
    }
   ],
   "source": [
    "print(mystr[0:12])\n",
    "print(mystr[0:18])\n",
    "print(mystr[0:19])\n",
    "print(mystr[0:25])"
   ]
  },
  {
   "cell_type": "code",
   "execution_count": 3,
   "metadata": {},
   "outputs": [
    {
     "name": "stdout",
     "output_type": "stream",
     "text": [
      "19\n",
      "3\n"
     ]
    }
   ],
   "source": [
    "print(len(mystr))\n",
    "print(len(mystr[:3]))\n"
   ]
  },
  {
   "cell_type": "code",
   "execution_count": 2,
   "metadata": {},
   "outputs": [
    {
     "name": "stdout",
     "output_type": "stream",
     "text": [
      "harry is a good boy\n",
      "19\n"
     ]
    }
   ],
   "source": [
    "str = 'harry is a good boy'\n",
    "print(str)\n",
    "print(len(str))"
   ]
  },
  {
   "cell_type": "code",
   "execution_count": 6,
   "metadata": {},
   "outputs": [
    {
     "name": "stdout",
     "output_type": "stream",
     "text": [
      " \n",
      "i\n",
      "harry is\n",
      "harry is a good boy\n"
     ]
    }
   ],
   "source": [
    "print(str[5])\n",
    "print(str[6])\n",
    "print(str[:8])\n",
    "print(str[:19])"
   ]
  },
  {
   "cell_type": "code",
   "execution_count": 5,
   "metadata": {},
   "outputs": [
    {
     "name": "stdout",
     "output_type": "stream",
     "text": [
      "harry is a good boy\n",
      "harry is a good boy\n",
      "hryi  odby\n",
      "harry is a good boy\n"
     ]
    }
   ],
   "source": [
    "print(str[::])\n",
    "print(str[0:19:1])\n",
    "print(str[0:19:2])\n",
    "print(str[0:2347587])"
   ]
  },
  {
   "cell_type": "code",
   "execution_count": 4,
   "metadata": {},
   "outputs": [
    {
     "name": "stdout",
     "output_type": "stream",
     "text": [
      "harry is a good boy\n",
      "rsg \n"
     ]
    }
   ],
   "source": [
    "print(str[0:78])\n",
    "print(str[3:19:4])"
   ]
  },
  {
   "cell_type": "code",
   "execution_count": 9,
   "metadata": {},
   "outputs": [
    {
     "name": "stdout",
     "output_type": "stream",
     "text": [
      "str = harry is a good boy\n",
      "str = harry \n"
     ]
    }
   ],
   "source": [
    "print('str =', str)\n",
    "print('str =', str[:6])"
   ]
  },
  {
   "cell_type": "code",
   "execution_count": 8,
   "metadata": {},
   "outputs": [
    {
     "name": "stdout",
     "output_type": "stream",
     "text": [
      "str= hryi \n"
     ]
    }
   ],
   "source": [
    "print('str=', str[0:10:2])"
   ]
  },
  {
   "cell_type": "code",
   "execution_count": 6,
   "metadata": {},
   "outputs": [
    {
     "name": "stdout",
     "output_type": "stream",
     "text": [
      "hryi  odby\n"
     ]
    }
   ],
   "source": [
    "str = 'harry is a good boy'\n",
    "print(str[0::2])"
   ]
  },
  {
   "cell_type": "code",
   "execution_count": 11,
   "metadata": {},
   "outputs": [
    {
     "name": "stdout",
     "output_type": "stream",
     "text": [
      "ar sago o\n"
     ]
    }
   ],
   "source": [
    "print(str[1::2])"
   ]
  },
  {
   "cell_type": "code",
   "execution_count": 24,
   "metadata": {},
   "outputs": [
    {
     "name": "stdout",
     "output_type": "stream",
     "text": [
      "yob doog a si yrrah\n"
     ]
    }
   ],
   "source": [
    "print(str[::-1])"
   ]
  },
  {
   "cell_type": "code",
   "execution_count": null,
   "metadata": {},
   "outputs": [],
   "source": []
  },
  {
   "cell_type": "code",
   "execution_count": null,
   "metadata": {},
   "outputs": [],
   "source": []
  },
  {
   "cell_type": "code",
   "execution_count": null,
   "metadata": {},
   "outputs": [],
   "source": []
  }
 ],
 "metadata": {
  "interpreter": {
   "hash": "1c42d66b2dd8dece3f25fba27cf852f34c19e64e2f4a6c3fd0dbd8791fef12dd"
  },
  "kernelspec": {
   "display_name": "Python 3.10.4 64-bit",
   "language": "python",
   "name": "python3"
  },
  "language_info": {
   "codemirror_mode": {
    "name": "ipython",
    "version": 3
   },
   "file_extension": ".py",
   "mimetype": "text/x-python",
   "name": "python",
   "nbconvert_exporter": "python",
   "pygments_lexer": "ipython3",
   "version": "3.10.4"
  },
  "orig_nbformat": 4
 },
 "nbformat": 4,
 "nbformat_minor": 2
}
