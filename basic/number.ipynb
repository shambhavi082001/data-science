{
 "cells": [
  {
   "cell_type": "code",
   "execution_count": 1,
   "metadata": {},
   "outputs": [
    {
     "name": "stdout",
     "output_type": "stream",
     "text": [
      "i am thinking between 1 to 20\n",
      "take a guess\n",
      "your guess is too low\n",
      "take a guess\n",
      "your guess is too low\n",
      "take a guess\n",
      "your guess is too low\n",
      "take a guess\n"
     ]
    },
    {
     "ename": "ValueError",
     "evalue": "invalid literal for int() with base 10: ''",
     "output_type": "error",
     "traceback": [
      "\u001b[1;31m---------------------------------------------------------------------------\u001b[0m",
      "\u001b[1;31mValueError\u001b[0m                                Traceback (most recent call last)",
      "\u001b[1;32mc:\\data science\\number.ipynb Cell 1\u001b[0m in \u001b[0;36m<cell line: 6>\u001b[1;34m()\u001b[0m\n\u001b[0;32m      <a href='vscode-notebook-cell:/c%3A/data%20science/number.ipynb#ch0000000?line=5'>6</a>\u001b[0m \u001b[39mfor\u001b[39;00m guesstaken \u001b[39min\u001b[39;00m \u001b[39mrange\u001b[39m(\u001b[39m1\u001b[39m,\u001b[39m7\u001b[39m):\n\u001b[0;32m      <a href='vscode-notebook-cell:/c%3A/data%20science/number.ipynb#ch0000000?line=6'>7</a>\u001b[0m     \u001b[39mprint\u001b[39m(\u001b[39m'\u001b[39m\u001b[39mtake a guess\u001b[39m\u001b[39m'\u001b[39m)\n\u001b[1;32m----> <a href='vscode-notebook-cell:/c%3A/data%20science/number.ipynb#ch0000000?line=7'>8</a>\u001b[0m     guess \u001b[39m=\u001b[39m \u001b[39mint\u001b[39;49m(\u001b[39minput\u001b[39;49m())\n\u001b[0;32m     <a href='vscode-notebook-cell:/c%3A/data%20science/number.ipynb#ch0000000?line=10'>11</a>\u001b[0m     \u001b[39mif\u001b[39;00m guess\u001b[39m>\u001b[39msecretnumber:\n\u001b[0;32m     <a href='vscode-notebook-cell:/c%3A/data%20science/number.ipynb#ch0000000?line=11'>12</a>\u001b[0m         \u001b[39mprint\u001b[39m(\u001b[39m'\u001b[39m\u001b[39myour guess is too high\u001b[39m\u001b[39m'\u001b[39m)\n",
      "\u001b[1;31mValueError\u001b[0m: invalid literal for int() with base 10: ''"
     ]
    }
   ],
   "source": [
    "# this is a guess number game\n",
    "import random\n",
    "secretnumber = int(input())\n",
    "print('i am thinking between 1 to 20')\n",
    "\n",
    "for guesstaken in range(1,7):\n",
    "    print('take a guess')\n",
    "    guess = int(input())\n",
    "\n",
    "\n",
    "    if guess>secretnumber:\n",
    "        print('your guess is too high')\n",
    "    elif guess<secretnumber:\n",
    "        print('your guess is too low')\n",
    "    else:\n",
    "        break\n",
    "\n",
    "\n",
    "if guess == secretnumber:\n",
    "    print('good job! you guessed my number in' + str(guesstaken) + 'guesses!')\n",
    "else:\n",
    "    print('nope! the number i was thinking of was' + str(secretnumber))"
   ]
  },
  {
   "cell_type": "code",
   "execution_count": null,
   "metadata": {},
   "outputs": [],
   "source": []
  }
 ],
 "metadata": {
  "kernelspec": {
   "display_name": "Python 3.10.4 64-bit",
   "language": "python",
   "name": "python3"
  },
  "language_info": {
   "codemirror_mode": {
    "name": "ipython",
    "version": 3
   },
   "file_extension": ".py",
   "mimetype": "text/x-python",
   "name": "python",
   "nbconvert_exporter": "python",
   "pygments_lexer": "ipython3",
   "version": "3.10.4"
  },
  "orig_nbformat": 4,
  "vscode": {
   "interpreter": {
    "hash": "1c42d66b2dd8dece3f25fba27cf852f34c19e64e2f4a6c3fd0dbd8791fef12dd"
   }
  }
 },
 "nbformat": 4,
 "nbformat_minor": 2
}
