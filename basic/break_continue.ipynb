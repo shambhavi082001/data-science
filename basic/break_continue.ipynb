{
 "cells": [
  {
   "cell_type": "code",
   "execution_count": 9,
   "metadata": {},
   "outputs": [
    {
     "name": "stdout",
     "output_type": "stream",
     "text": [
      "5 6 7 8 9 10 11 12 13 14 15 16 17 18 19 20 21 "
     ]
    }
   ],
   "source": [
    "i = 0\n",
    "while(True):\n",
    "    if i+1<5:\n",
    "        i = i+1\n",
    "        continue\n",
    "    print(i+1, end=\" \")\n",
    "    if(i==20):\n",
    "        break #stop the loop\n",
    "    i = i+1\n"
   ]
  },
  {
   "cell_type": "code",
   "execution_count": null,
   "metadata": {},
   "outputs": [],
   "source": [
    "# take the input from user to enter the number untill he enters 100 and if he enter teh number greater thank 100 break the looop "
   ]
  },
  {
   "cell_type": "code",
   "execution_count": 10,
   "metadata": {},
   "outputs": [
    {
     "name": "stdout",
     "output_type": "stream",
     "text": [
      "good u have entered the number greater than 100\n"
     ]
    }
   ],
   "source": [
    "while(True):\n",
    "    number = int(input(\"enter a number\\n\"))\n",
    "    if number>100:\n",
    "        print(\"good u have entered the number greater than 100\")\n",
    "        break\n",
    "    else:\n",
    "        print(\"try again\\n\")\n",
    "        continue"
   ]
  },
  {
   "cell_type": "code",
   "execution_count": null,
   "metadata": {},
   "outputs": [],
   "source": []
  }
 ],
 "metadata": {
  "kernelspec": {
   "display_name": "Python 3.9.12 ('base')",
   "language": "python",
   "name": "python3"
  },
  "language_info": {
   "codemirror_mode": {
    "name": "ipython",
    "version": 3
   },
   "file_extension": ".py",
   "mimetype": "text/x-python",
   "name": "python",
   "nbconvert_exporter": "python",
   "pygments_lexer": "ipython3",
   "version": "3.9.12"
  },
  "orig_nbformat": 4,
  "vscode": {
   "interpreter": {
    "hash": "5c2e1fbdbc753133dbe82f78110374a46e694123620e9daffa43fa991124e895"
   }
  }
 },
 "nbformat": 4,
 "nbformat_minor": 2
}
