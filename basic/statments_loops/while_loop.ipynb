{
 "cells": [
  {
   "cell_type": "code",
   "execution_count": 4,
   "metadata": {},
   "outputs": [
    {
     "name": "stdout",
     "output_type": "stream",
     "text": [
      "0\n",
      "1\n",
      "2\n",
      "3\n",
      "4\n",
      "5\n",
      "6\n",
      "7\n",
      "8\n",
      "9\n"
     ]
    }
   ],
   "source": [
    "i = 0\n",
    "while(i<10):\n",
    "    print(i)\n",
    "    i = i+1\n"
   ]
  },
  {
   "cell_type": "markdown",
   "metadata": {},
   "source": [
    "Take 10 integers from keyboard using loop and print their average value on the screen."
   ]
  },
  {
   "cell_type": "code",
   "execution_count": 1,
   "metadata": {},
   "outputs": [
    {
     "name": "stdout",
     "output_type": "stream",
     "text": [
      "enter 10 numbers\n",
      "enter 10 numbers\n",
      "enter 10 numbers\n",
      "enter 10 numbers\n",
      "enter 10 numbers\n",
      "enter 10 numbers\n",
      "enter 10 numbers\n",
      "enter 10 numbers\n",
      "enter 10 numbers\n",
      "enter 10 numbers\n",
      "average is 5.5\n"
     ]
    }
   ],
   "source": [
    "sum = 0\n",
    "i = 10\n",
    "while i>0:\n",
    "    print(\"enter 10 numbers\")\n",
    "    num = int(input())\n",
    "    sum = sum+num\n",
    "    i = i-1\n",
    "print(\"average is\", sum/10.0)\n"
   ]
  },
  {
   "cell_type": "markdown",
   "metadata": {},
   "source": [
    "Print the following patterns using loop :\n",
    "a.\n",
    "*\n",
    "**\n",
    "***\n",
    "****\n",
    "b.\n",
    "   *  \n",
    " *** \n",
    "*****\n",
    " *** \n",
    "   *  \n",
    "c.\n",
    "1010101\n",
    " 10101 \n",
    "  101  \n",
    "   1   \n"
   ]
  },
  {
   "cell_type": "code",
   "execution_count": 18,
   "metadata": {},
   "outputs": [
    {
     "name": "stdout",
     "output_type": "stream",
     "text": [
      "*\n",
      "**\n",
      "***\n",
      "****\n"
     ]
    }
   ],
   "source": [
    "\n",
    "i = 1\n",
    "while i<=4:\n",
    "    print(\"*\"*i)\n",
    "    i = i+1"
   ]
  },
  {
   "cell_type": "code",
   "execution_count": 19,
   "metadata": {},
   "outputs": [
    {
     "name": "stdout",
     "output_type": "stream",
     "text": [
      "  *  \n",
      " *** \n",
      "*****\n"
     ]
    }
   ],
   "source": [
    "i = 1\n",
    "j = 2\n",
    "while i>=1:\n",
    "    a = \" \"*j+\"*\"*i+\" \"*j\n",
    "    print(a)\n",
    "    i = i+2\n",
    "    j = j-1\n",
    "    if i>5:\n",
    "        break\n",
    "\n"
   ]
  },
  {
   "cell_type": "markdown",
   "metadata": {},
   "source": [
    "Print multiplication table of 24, 50 and 29 using loop"
   ]
  },
  {
   "cell_type": "code",
   "execution_count": 20,
   "metadata": {},
   "outputs": [
    {
     "name": "stdout",
     "output_type": "stream",
     "text": [
      "24\n",
      "48\n",
      "72\n",
      "96\n",
      "120\n",
      "144\n",
      "168\n",
      "192\n",
      "216\n",
      "240\n"
     ]
    }
   ],
   "source": [
    "i = 1\n",
    "while i<=10:\n",
    "    print(24*i)\n",
    "    i = i+1"
   ]
  },
  {
   "cell_type": "markdown",
   "metadata": {},
   "source": [
    "Write an infinite loop.\n",
    "A inifinte loop never ends. Condition is always true.\n"
   ]
  },
  {
   "cell_type": "code",
   "execution_count": null,
   "metadata": {},
   "outputs": [],
   "source": [
    "while True:\n",
    "    print(\"INFINITE\")"
   ]
  },
  {
   "cell_type": "markdown",
   "metadata": {},
   "source": [
    "Factorial of any number n is represented by n! and is equal to 1*2*3*....*(n-1)*n. E.g.-\n",
    "4! = 1*2*3*4 = 24\n",
    "3! = 3*2*1 = 6\n",
    "2! = 2*1 = 2\n",
    "Also,\n",
    "1! = 1\n",
    "0! = 1\n",
    "Write a program to calculate factorial of a number."
   ]
  },
  {
   "cell_type": "code",
   "execution_count": 4,
   "metadata": {},
   "outputs": [
    {
     "name": "stdout",
     "output_type": "stream",
     "text": [
      "enter number\n",
      "24\n"
     ]
    }
   ],
   "source": [
    "print(\"enter number\")\n",
    "num = int(input())\n",
    "fac = 1\n",
    "if num ==0:\n",
    "    print(1)\n",
    "else:\n",
    "    while num>=1:\n",
    "        fac = fac*num\n",
    "        num = num-1\n",
    "    print(fac)"
   ]
  },
  {
   "cell_type": "markdown",
   "metadata": {},
   "source": [
    "Write a program to find greatest common divisor (GCD) or highest common factor (HCF) of given two numbers.\n"
   ]
  },
  {
   "cell_type": "code",
   "execution_count": 5,
   "metadata": {},
   "outputs": [
    {
     "name": "stdout",
     "output_type": "stream",
     "text": [
      "10\n"
     ]
    }
   ],
   "source": [
    "num1 = int(input(\"enter first number\"))\n",
    "num2 = int(input(\"enetr second number\"))\n",
    "x , y = 10,20\n",
    "while y != 0:\n",
    "    x,y = y,x %y\n",
    "print(x)\n"
   ]
  },
  {
   "cell_type": "markdown",
   "metadata": {},
   "source": [
    "Take integer inputs from user until he/she presses q ( Ask to press q to quit after every integer input ). Print average and product of all numbers."
   ]
  },
  {
   "cell_type": "code",
   "execution_count": 18,
   "metadata": {},
   "outputs": [
    {
     "name": "stdout",
     "output_type": "stream",
     "text": [
      "Enter the input\n",
      "Enter to continue or q to quit\n",
      "Enter the input\n",
      "Enter to continue or q to quit\n",
      "Enter the input\n",
      "Enter to continue or q to quit\n",
      "Enter the input\n",
      "You have chosen to quit\n",
      "total time the user entered the value is : 3 \n",
      "Average : 20\n",
      "product of all the number : 60\n"
     ]
    }
   ],
   "source": [
    "i=0\n",
    "a=100\n",
    "n=0\n",
    "while i <= a:\n",
    "    print('Enter the input')\n",
    "    user_input=str(input())\n",
    "    if user_input!='q':\n",
    "        n=n+int(user_input)\n",
    "        print('Enter to continue or q to quit')\n",
    "        i=i+1\n",
    "    else:\n",
    "        print('You have chosen to quit')\n",
    "        break\n",
    "avg=n/i\n",
    "print(\"total time the user entered the value is : %d \" %i)\n",
    "print(\"Average : %d\" %avg)\n",
    "print(\"product of all the number : %d\" %n)"
   ]
  },
  {
   "cell_type": "markdown",
   "metadata": {},
   "source": [
    "Calculate the sum of digits of a number given by user. E.g.-\n",
    "INUPT : 123        OUPUT : 6\n",
    "INUPT : 12345        OUPUT : 15"
   ]
  },
  {
   "cell_type": "code",
   "execution_count": 21,
   "metadata": {},
   "outputs": [
    {
     "name": "stdout",
     "output_type": "stream",
     "text": [
      "16.529500000000002\n"
     ]
    }
   ],
   "source": [
    "#number%10 will give last digit of number\n",
    "#number = number/10 will give new number without that digit\n",
    "#we will stop when number will be smaller than 10\n",
    "number = int(input(\"enter the number\"))\n",
    "sum = 0\n",
    "while True:\n",
    "    r = number%10\n",
    "    number = number / 10\n",
    "    sum = sum+r\n",
    "    if number<10:\n",
    "        sum = sum+number\n",
    "        break\n",
    "print(sum)"
   ]
  },
  {
   "cell_type": "markdown",
   "metadata": {},
   "source": [
    "A three digit number is called Armstrong number if sum of cube of its digit is equal to number itself.\n",
    "E.g.- 153 is an Armstrong number because (13)+(53)+(33) = 153.\n",
    "Write all Armstrong numbers between 100 to 500.\n"
   ]
  },
  {
   "cell_type": "code",
   "execution_count": null,
   "metadata": {},
   "outputs": [],
   "source": [
    "# Python program to check if the number is an Armstrong number or not\n",
    "\n",
    "# take input from the user\n",
    "num = int(input(\"Enter a number: \"))\n",
    "\n",
    "# initialize sum\n",
    "sum = 0\n",
    "\n",
    "# find the sum of the cube of each digit\n",
    "temp = num\n",
    "while temp > 0:\n",
    "   digit = temp % 10\n",
    "   sum += digit ** 3\n",
    "   temp //= 10\n",
    "\n",
    "# display the result\n",
    "if num == sum:\n",
    "   print(num,\"is an Armstrong number\")\n",
    "else:\n",
    "   print(num,\"is not an Armstrong number\")"
   ]
  },
  {
   "cell_type": "code",
   "execution_count": null,
   "metadata": {},
   "outputs": [],
   "source": [
    "lower = int(input(\"Enter lower range: \"))  \n",
    "upper = int(input(\"Enter upper range: \"))  \n",
    "  \n",
    "for num in range(lower,upper + 1):  \n",
    "   sum = 0  \n",
    "   temp = num  \n",
    "   while temp > 0:  \n",
    "       digit = temp % 10  \n",
    "       sum += digit ** 3  \n",
    "       temp //= 10  \n",
    "       if num == sum:  \n",
    "            print(num)  "
   ]
  },
  {
   "cell_type": "markdown",
   "metadata": {},
   "source": [
    "Write a program to print all prime number in between 1 to 100"
   ]
  },
  {
   "cell_type": "code",
   "execution_count": null,
   "metadata": {},
   "outputs": [],
   "source": []
  }
 ],
 "metadata": {
  "kernelspec": {
   "display_name": "Python 3.9.12 ('base')",
   "language": "python",
   "name": "python3"
  },
  "language_info": {
   "codemirror_mode": {
    "name": "ipython",
    "version": 3
   },
   "file_extension": ".py",
   "mimetype": "text/x-python",
   "name": "python",
   "nbconvert_exporter": "python",
   "pygments_lexer": "ipython3",
   "version": "3.9.13"
  },
  "orig_nbformat": 4,
  "vscode": {
   "interpreter": {
    "hash": "5c2e1fbdbc753133dbe82f78110374a46e694123620e9daffa43fa991124e895"
   }
  }
 },
 "nbformat": 4,
 "nbformat_minor": 2
}
