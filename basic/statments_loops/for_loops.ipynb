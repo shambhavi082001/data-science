{
 "cells": [
  {
   "cell_type": "code",
   "execution_count": 2,
   "metadata": {},
   "outputs": [
    {
     "name": "stdout",
     "output_type": "stream",
     "text": [
      "apple\n",
      "banana\n",
      "kiwi\n",
      "mango\n",
      "papaya\n"
     ]
    }
   ],
   "source": [
    "list1 = ['apple','banana','kiwi','mango','papaya']\n",
    "for item in list1:\n",
    "    print(item)"
   ]
  },
  {
   "cell_type": "code",
   "execution_count": 3,
   "metadata": {},
   "outputs": [
    {
     "name": "stdout",
     "output_type": "stream",
     "text": [
      "['apple', 1]\n",
      "['banana', 3]\n",
      "['kiwi', 5]\n",
      "['mango', 2]\n",
      "['papaya', 8]\n"
     ]
    }
   ],
   "source": [
    "list1 = [['apple',1],['banana',3],['kiwi',5],['mango',2],['papaya',8]] #list of list\n",
    "for item in list1:\n",
    "    print(item)"
   ]
  },
  {
   "cell_type": "code",
   "execution_count": 4,
   "metadata": {},
   "outputs": [
    {
     "name": "stdout",
     "output_type": "stream",
     "text": [
      "apple and weight is 1\n",
      "banana and weight is 3\n",
      "kiwi and weight is 5\n",
      "mango and weight is 2\n",
      "papaya and weight is 8\n"
     ]
    }
   ],
   "source": [
    "list1 = [['apple',1],['banana',3],['kiwi',5],['mango',2],['papaya',8]] #list of list\n",
    "for item, weight in list1:\n",
    "    print(item,\"and weight is\", weight)"
   ]
  },
  {
   "cell_type": "code",
   "execution_count": 5,
   "metadata": {},
   "outputs": [
    {
     "name": "stdout",
     "output_type": "stream",
     "text": [
      "{'apple': 1, 'banana': 3, 'kiwi': 5, 'mango': 2, 'papaya': 8}\n"
     ]
    }
   ],
   "source": [
    "list1 = [['apple',1],['banana',3],['kiwi',5],['mango',2],['papaya',8]]\n",
    "dict1 =dict(list1) #typecasting into dictionary\n",
    "print(dict1)"
   ]
  },
  {
   "cell_type": "code",
   "execution_count": 7,
   "metadata": {},
   "outputs": [
    {
     "name": "stdout",
     "output_type": "stream",
     "text": [
      "{'apple': 1, 'banana': 3, 'kiwi': 5, 'mango': 2, 'papaya': 8}\n"
     ]
    },
    {
     "ename": "ValueError",
     "evalue": "too many values to unpack (expected 2)",
     "output_type": "error",
     "traceback": [
      "\u001b[1;31m---------------------------------------------------------------------------\u001b[0m",
      "\u001b[1;31mValueError\u001b[0m                                Traceback (most recent call last)",
      "\u001b[1;32mc:\\data science\\basic\\for_loops.ipynb Cell 5\u001b[0m in \u001b[0;36m<cell line: 4>\u001b[1;34m()\u001b[0m\n\u001b[0;32m      <a href='vscode-notebook-cell:/c%3A/data%20science/basic/for_loops.ipynb#W4sZmlsZQ%3D%3D?line=1'>2</a>\u001b[0m dict1 \u001b[39m=\u001b[39m\u001b[39mdict\u001b[39m(list1)\n\u001b[0;32m      <a href='vscode-notebook-cell:/c%3A/data%20science/basic/for_loops.ipynb#W4sZmlsZQ%3D%3D?line=2'>3</a>\u001b[0m \u001b[39mprint\u001b[39m(dict1)\n\u001b[1;32m----> <a href='vscode-notebook-cell:/c%3A/data%20science/basic/for_loops.ipynb#W4sZmlsZQ%3D%3D?line=3'>4</a>\u001b[0m \u001b[39mfor\u001b[39;00m item, weight \u001b[39min\u001b[39;00m dict1:\n\u001b[0;32m      <a href='vscode-notebook-cell:/c%3A/data%20science/basic/for_loops.ipynb#W4sZmlsZQ%3D%3D?line=4'>5</a>\u001b[0m     \u001b[39mprint\u001b[39m(item,\u001b[39m\"\u001b[39m\u001b[39mand weight is\u001b[39m\u001b[39m\"\u001b[39m, weight)\n",
      "\u001b[1;31mValueError\u001b[0m: too many values to unpack (expected 2)"
     ]
    }
   ],
   "source": [
    "list1 = [['apple',1],['banana',3],['kiwi',5],['mango',2],['papaya',8]]\n",
    "dict1 =dict(list1)\n",
    "print(dict1)\n",
    "for item, weight in dict1: #if we use .item function then its not showing error\n",
    "    print(item,\"and weight is\", weight)\n"
   ]
  },
  {
   "cell_type": "code",
   "execution_count": 10,
   "metadata": {},
   "outputs": [
    {
     "name": "stdout",
     "output_type": "stream",
     "text": [
      "apple and weight is 1\n",
      "banana and weight is 3\n",
      "kiwi and weight is 5\n",
      "mango and weight is 2\n",
      "papaya and weight is 8\n"
     ]
    }
   ],
   "source": [
    "list1 = [['apple',1],['banana',3],['kiwi',5],['mango',2],['papaya',8]]\n",
    "dict1 =dict(list1)\n",
    "for item, weight in dict1.items():\n",
    "    print(item,\"and weight is\", weight)\n"
   ]
  },
  {
   "cell_type": "code",
   "execution_count": 11,
   "metadata": {},
   "outputs": [
    {
     "name": "stdout",
     "output_type": "stream",
     "text": [
      "apple\n",
      "banana\n",
      "kiwi\n",
      "mango\n",
      "papaya\n"
     ]
    }
   ],
   "source": [
    "list1 = [['apple',1],['banana',3],['kiwi',5],['mango',2],['papaya',8]]\n",
    "dict1 =dict(list1)\n",
    "for item in dict1: #only if we want key\n",
    "    print(item)"
   ]
  },
  {
   "cell_type": "code",
   "execution_count": 13,
   "metadata": {},
   "outputs": [
    {
     "name": "stdout",
     "output_type": "stream",
     "text": [
      "enter the weight you want\n",
      "5\n",
      "enter the weight you want\n",
      "6\n",
      "enter the weight you want\n",
      "you cant take fruits\n",
      "enter the weight you want\n"
     ]
    },
    {
     "ename": "ValueError",
     "evalue": "invalid literal for int() with base 10: ''",
     "output_type": "error",
     "traceback": [
      "\u001b[1;31m---------------------------------------------------------------------------\u001b[0m",
      "\u001b[1;31mValueError\u001b[0m                                Traceback (most recent call last)",
      "\u001b[1;32mc:\\data science\\basic\\for_loops.ipynb Cell 8\u001b[0m in \u001b[0;36m<cell line: 3>\u001b[1;34m()\u001b[0m\n\u001b[0;32m      <a href='vscode-notebook-cell:/c%3A/data%20science/basic/for_loops.ipynb#X10sZmlsZQ%3D%3D?line=2'>3</a>\u001b[0m \u001b[39mfor\u001b[39;00m item, weight \u001b[39min\u001b[39;00m dict1\u001b[39m.\u001b[39mitems():\n\u001b[0;32m      <a href='vscode-notebook-cell:/c%3A/data%20science/basic/for_loops.ipynb#X10sZmlsZQ%3D%3D?line=3'>4</a>\u001b[0m     \u001b[39mprint\u001b[39m(\u001b[39m\"\u001b[39m\u001b[39menter the weight you want\u001b[39m\u001b[39m\"\u001b[39m)\n\u001b[1;32m----> <a href='vscode-notebook-cell:/c%3A/data%20science/basic/for_loops.ipynb#X10sZmlsZQ%3D%3D?line=4'>5</a>\u001b[0m     weight \u001b[39m=\u001b[39m \u001b[39mint\u001b[39;49m(\u001b[39minput\u001b[39;49m())\n\u001b[0;32m      <a href='vscode-notebook-cell:/c%3A/data%20science/basic/for_loops.ipynb#X10sZmlsZQ%3D%3D?line=5'>6</a>\u001b[0m     \u001b[39mif\u001b[39;00m weight\u001b[39m>\u001b[39m\u001b[39m1\u001b[39m:\n\u001b[0;32m      <a href='vscode-notebook-cell:/c%3A/data%20science/basic/for_loops.ipynb#X10sZmlsZQ%3D%3D?line=6'>7</a>\u001b[0m         \u001b[39mprint\u001b[39m(weight)\n",
      "\u001b[1;31mValueError\u001b[0m: invalid literal for int() with base 10: ''"
     ]
    }
   ],
   "source": [
    "list1 = [['apple',1],['banana',3],['kiwi',5],['mango',2],['papaya',8]]\n",
    "dict1 =dict(list1)\n",
    "for item, weight in dict1.items():\n",
    "    print(\"enter the weight you want\")\n",
    "    weight = int(input())\n",
    "    if weight>1:\n",
    "        print(weight)\n",
    "    else:\n",
    "        print(\"you cant take fruits\")"
   ]
  },
  {
   "cell_type": "code",
   "execution_count": null,
   "metadata": {},
   "outputs": [],
   "source": [
    "# create a  list wih different datatypes and print only those numbers which is greater than 6"
   ]
  },
  {
   "cell_type": "code",
   "execution_count": 16,
   "metadata": {},
   "outputs": [
    {
     "name": "stdout",
     "output_type": "stream",
     "text": [
      "8\n",
      "9\n",
      "10\n",
      "45\n",
      "67\n"
     ]
    }
   ],
   "source": [
    "list2 = [\"apple\",4,\"value\",\"name\",8,4,9,6,10,45,67,\"ram\",\"age\"]\n",
    "for number in list2:\n",
    "    if str(number).isnumeric() and number>6:\n",
    "        print(number)\n",
    "    "
   ]
  },
  {
   "cell_type": "code",
   "execution_count": 2,
   "metadata": {},
   "outputs": [
    {
     "name": "stdout",
     "output_type": "stream",
     "text": [
      "123456"
     ]
    }
   ],
   "source": [
    "for i in range(1,int(input())+1):\n",
    "    print(i,sep='',end='')"
   ]
  },
  {
   "cell_type": "code",
   "execution_count": 3,
   "metadata": {},
   "outputs": [
    {
     "name": "stdout",
     "output_type": "stream",
     "text": [
      "2974676\n",
      "5136234\n",
      "7267039\n",
      "7965555\n",
      "8487567\n"
     ]
    }
   ],
   "source": [
    "row_1 = ['Facebook', 0.0, 'USD', 2974676, 3.5]\n",
    "row_2 = ['Instagram', 0.0, 'USD', 2161558, 4.5]\n",
    "row_3 = ['Clash of Clans', 0.0, 'USD', 2130805, 4.5]\n",
    "row_4 = ['Fruit Ninja Classic', 1.99, 'USD', 698516, 4.5]\n",
    "row_5 = ['Minecraft: Pocket Edition', 6.99, 'USD', 522012, 4.5]\n",
    "\n",
    "app_data_set = [row_1, row_2, row_3, row_4, row_5]\n",
    "\n",
    "rating_sum = 0\n",
    "for row in app_data_set:\n",
    "    rating_count = row[3]\n",
    "    rating_sum = rating_count+rating_sum\n",
    "    print(rating_sum)"
   ]
  },
  {
   "cell_type": "code",
   "execution_count": null,
   "metadata": {},
   "outputs": [],
   "source": []
  }
 ],
 "metadata": {
  "kernelspec": {
   "display_name": "Python 3.9.12 ('base')",
   "language": "python",
   "name": "python3"
  },
  "language_info": {
   "codemirror_mode": {
    "name": "ipython",
    "version": 3
   },
   "file_extension": ".py",
   "mimetype": "text/x-python",
   "name": "python",
   "nbconvert_exporter": "python",
   "pygments_lexer": "ipython3",
   "version": "3.9.13"
  },
  "orig_nbformat": 4,
  "vscode": {
   "interpreter": {
    "hash": "5c2e1fbdbc753133dbe82f78110374a46e694123620e9daffa43fa991124e895"
   }
  }
 },
 "nbformat": 4,
 "nbformat_minor": 2
}
