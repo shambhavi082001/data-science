{
 "cells": [
  {
   "cell_type": "code",
   "execution_count": 1,
   "metadata": {},
   "outputs": [
    {
     "name": "stdout",
     "output_type": "stream",
     "text": [
      "hello world\n"
     ]
    }
   ],
   "source": [
    "print('hello world')"
   ]
  },
  {
   "cell_type": "markdown",
   "metadata": {},
   "source": [
    "Check type of following:\n",
    "\"CodesDope\"\n",
    "15\n",
    "16.2\n",
    "9.33333333333333333333"
   ]
  },
  {
   "cell_type": "code",
   "execution_count": 2,
   "metadata": {},
   "outputs": [
    {
     "name": "stdout",
     "output_type": "stream",
     "text": [
      "<class 'str'>\n",
      "<class 'int'>\n",
      "<class 'float'>\n",
      "<class 'float'>\n"
     ]
    }
   ],
   "source": [
    "print(type(\"codesdope\"))\n",
    "print(type(15))\n",
    "print(type(16.2))\n",
    "print(type(9.33333333333333333333))"
   ]
  },
  {
   "cell_type": "markdown",
   "metadata": {},
   "source": [
    "Join two string using '+'.\n",
    "E.g.-\"Codes\"+\"Dope\"\n"
   ]
  },
  {
   "cell_type": "code",
   "execution_count": 3,
   "metadata": {},
   "outputs": [
    {
     "name": "stdout",
     "output_type": "stream",
     "text": [
      "codedope\n"
     ]
    }
   ],
   "source": [
    "print(\"code\"+\"dope\")"
   ]
  },
  {
   "cell_type": "markdown",
   "metadata": {},
   "source": [
    "Store two values in x and y and swap them."
   ]
  },
  {
   "cell_type": "code",
   "execution_count": 4,
   "metadata": {},
   "outputs": [
    {
     "name": "stdout",
     "output_type": "stream",
     "text": [
      "4\n"
     ]
    }
   ],
   "source": [
    "x=2\n",
    "y=4\n",
    "x,y=y,x\n",
    "print(x)"
   ]
  },
  {
   "cell_type": "markdown",
   "metadata": {},
   "source": [
    "Take input of length and breadth of a rectangle from user and print area of it."
   ]
  },
  {
   "cell_type": "code",
   "execution_count": 6,
   "metadata": {},
   "outputs": [
    {
     "name": "stdout",
     "output_type": "stream",
     "text": [
      "enter the length of rectangle\n",
      "enter the breadth of rectangle\n",
      "area of reactangle is 24\n"
     ]
    }
   ],
   "source": [
    "print(\"enter the length of rectangle\")\n",
    "length = int(input())\n",
    "print(\"enter the breadth of rectangle\")\n",
    "breadth = int(input())\n",
    "area = length*breadth\n",
    "print(\"area of reactangle is\",area)\n"
   ]
  },
  {
   "cell_type": "markdown",
   "metadata": {},
   "source": [
    "Ask user to give two float input for length and breadth of a rectangle and print area type casted to int.\n"
   ]
  },
  {
   "cell_type": "code",
   "execution_count": 8,
   "metadata": {},
   "outputs": [
    {
     "name": "stdout",
     "output_type": "stream",
     "text": [
      "enter the length of rectangle\n",
      "enter the breadth of rectangle\n",
      "area of reactangle is 11\n"
     ]
    }
   ],
   "source": [
    "print(\"enter the length of rectangle\")\n",
    "length = (input())\n",
    "print(\"enter the breadth of rectangle\")\n",
    "breadth = (input())\n",
    "area = (float(length)*float(breadth))\n",
    "print(\"area of reactangle is\", int(area))\n"
   ]
  },
  {
   "cell_type": "markdown",
   "metadata": {},
   "source": [
    "Take side of a square from user and print area and perimeter of it.\n"
   ]
  },
  {
   "cell_type": "code",
   "execution_count": 9,
   "metadata": {},
   "outputs": [
    {
     "name": "stdout",
     "output_type": "stream",
     "text": [
      "enter side\n",
      "area is 16\n",
      "perimeter is 16\n"
     ]
    }
   ],
   "source": [
    "print(\"enter side\")\n",
    "side = int(input())\n",
    "area = (side*side)\n",
    "print(\"area is\", area)\n",
    "perimeter = 4*side\n",
    "print(\"perimeter is\", perimeter)"
   ]
  },
  {
   "cell_type": "markdown",
   "metadata": {},
   "source": [
    "Take name, roll number and field of interest from user and print in the below format :\n",
    "Hey, my name is xyz and my roll number is xyz. My field of interest is xyz"
   ]
  },
  {
   "cell_type": "code",
   "execution_count": 10,
   "metadata": {},
   "outputs": [
    {
     "name": "stdout",
     "output_type": "stream",
     "text": [
      "enter name\n",
      "enter roll number\n",
      "enter field of interest\n",
      "hey my name is shambhavi my roll number is 3 my field of interest is acting\n"
     ]
    }
   ],
   "source": [
    "print(\"enter name\")\n",
    "name = input()\n",
    "print(\"enter roll number\")\n",
    "roll_number = int(input())\n",
    "print(\"enter field of interest\")\n",
    "foi = input()\n",
    "print(\"hey my name is\",name,\"my roll number is\",roll_number,\"my field of interest is\",foi)"
   ]
  },
  {
   "cell_type": "markdown",
   "metadata": {},
   "source": [
    "Write a program to find square of a number.\n",
    "E.g.-\n",
    "INPUT : 2        OUTPUT : 4\n",
    "INPUT : 5        OUTPUT : 25"
   ]
  },
  {
   "cell_type": "code",
   "execution_count": 13,
   "metadata": {},
   "outputs": [
    {
     "name": "stdout",
     "output_type": "stream",
     "text": [
      "enter number\n",
      "square of number is 36\n"
     ]
    }
   ],
   "source": [
    "print(\"enter number\")\n",
    "number = int(input())\n",
    "square = number*number\n",
    "print(\"square of number is\", square)"
   ]
  },
  {
   "cell_type": "code",
   "execution_count": 2,
   "metadata": {},
   "outputs": [
    {
     "name": "stdout",
     "output_type": "stream",
     "text": [
      "<class 'str'>\n"
     ]
    }
   ],
   "source": [
    "print(type(\"CodesDope\"))"
   ]
  },
  {
   "cell_type": "code",
   "execution_count": 1,
   "metadata": {},
   "outputs": [
    {
     "name": "stdout",
     "output_type": "stream",
     "text": [
      "6\n"
     ]
    }
   ],
   "source": [
    "x,y,z= 1,2,3\n",
    "print(x+y+z)"
   ]
  },
  {
   "cell_type": "markdown",
   "metadata": {},
   "source": [
    "Take two different string input and print them in same line. E.g.-\n",
    "INPUT : Codes\n",
    "Dope\n",
    "OUTPUT : CodesDope"
   ]
  },
  {
   "cell_type": "code",
   "execution_count": 14,
   "metadata": {},
   "outputs": [
    {
     "name": "stdout",
     "output_type": "stream",
     "text": [
      "enter first string\n",
      "enter second string\n",
      "shamcode\n"
     ]
    }
   ],
   "source": [
    "print(\"enter first string\")\n",
    "first = input()\n",
    "print(\"enter second string\")\n",
    "second = input()\n",
    "print(first+second)"
   ]
  },
  {
   "cell_type": "markdown",
   "metadata": {},
   "source": [
    "Take two inputs from user and check whether they are equal or not."
   ]
  },
  {
   "cell_type": "code",
   "execution_count": 15,
   "metadata": {},
   "outputs": [
    {
     "name": "stdout",
     "output_type": "stream",
     "text": [
      "enter first number\n",
      "enter second number\n",
      "True\n"
     ]
    }
   ],
   "source": [
    "print(\"enter first number\")\n",
    "number1 = int(input())\n",
    "print(\"enter second number\")\n",
    "number2 = int(input())\n",
    "print(number1==number2)"
   ]
  },
  {
   "cell_type": "markdown",
   "metadata": {},
   "source": [
    "Take 3 inputs from user and check :\n",
    "all are equal\n",
    "any of two are equal\n",
    "( use and or )\n"
   ]
  },
  {
   "cell_type": "code",
   "execution_count": 18,
   "metadata": {},
   "outputs": [
    {
     "name": "stdout",
     "output_type": "stream",
     "text": [
      "enter first number\n",
      "enter second number\n",
      "enter third number\n",
      "all are equal True\n",
      "any of two are equal True\n"
     ]
    }
   ],
   "source": [
    "print(\"enter first number\")\n",
    "number1 = int(input())\n",
    "print(\"enter second number\")\n",
    "number2 = int(input())\n",
    "print(\"enter third number\")\n",
    "number3 = int(input())\n",
    "all = number1==number2 and number2==number3 and number3==number1\n",
    "print(\"all are equal\",all)\n",
    "any = number1==number2 or number2==number3 or number3==number1\n",
    "print(\"any of two are equal\",any)"
   ]
  },
  {
   "cell_type": "markdown",
   "metadata": {},
   "source": [
    "Take two number and check whether the sum is greater than 5, less than 5 or equal to 5."
   ]
  },
  {
   "cell_type": "code",
   "execution_count": 17,
   "metadata": {},
   "outputs": [
    {
     "name": "stdout",
     "output_type": "stream",
     "text": [
      "enter first number\n",
      "enter second number\n",
      "sum is greatert than 5 True\n",
      "sum is less than 5 False\n",
      "sum is equal than 5 False\n"
     ]
    }
   ],
   "source": [
    "print(\"enter first number\")\n",
    "number1 = int(input())\n",
    "print(\"enter second number\")\n",
    "number2 = int(input())\n",
    "sum = number1+number\n",
    "print(\"sum is greatert than 5\",sum>5)\n",
    "print(\"sum is less than 5\",sum<5)\n",
    "print(\"sum is equal than 5\",sum==5)"
   ]
  },
  {
   "cell_type": "markdown",
   "metadata": {},
   "source": [
    "Judge the follwing expressions :\n",
    "not(True and True)\n",
    "True or False\n",
    "not(False and True)\n",
    "False and False"
   ]
  },
  {
   "cell_type": "code",
   "execution_count": 19,
   "metadata": {},
   "outputs": [
    {
     "name": "stdout",
     "output_type": "stream",
     "text": [
      "False\n",
      "True\n",
      "True\n",
      "False\n"
     ]
    }
   ],
   "source": [
    "print (not(True and True))\n",
    "print (True or False)\n",
    "print (not(False and True))\n",
    "print (False and False)\n"
   ]
  },
  {
   "cell_type": "markdown",
   "metadata": {},
   "source": [
    "Suppose passing marks of a subject is 35. Take input of marks from user and check whether it is greater than passing marks or not."
   ]
  },
  {
   "cell_type": "code",
   "execution_count": 20,
   "metadata": {},
   "outputs": [
    {
     "name": "stdout",
     "output_type": "stream",
     "text": [
      "enter your marks\n",
      "marks is greater than 35 True\n",
      "marks is less than 35 False\n"
     ]
    }
   ],
   "source": [
    "print(\"enter your marks\")\n",
    "marks = int(input())\n",
    "print(\"marks is greater than 35\",marks>35)\n"
   ]
  },
  {
   "cell_type": "code",
   "execution_count": null,
   "metadata": {},
   "outputs": [],
   "source": []
  }
 ],
 "metadata": {
  "kernelspec": {
   "display_name": "Python 3.9.12 ('base')",
   "language": "python",
   "name": "python3"
  },
  "language_info": {
   "codemirror_mode": {
    "name": "ipython",
    "version": 3
   },
   "file_extension": ".py",
   "mimetype": "text/x-python",
   "name": "python",
   "nbconvert_exporter": "python",
   "pygments_lexer": "ipython3",
   "version": "3.9.13"
  },
  "orig_nbformat": 4,
  "vscode": {
   "interpreter": {
    "hash": "5c2e1fbdbc753133dbe82f78110374a46e694123620e9daffa43fa991124e895"
   }
  }
 },
 "nbformat": 4,
 "nbformat_minor": 2
}
