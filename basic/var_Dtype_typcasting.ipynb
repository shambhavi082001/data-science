{
 "cells": [
  {
   "cell_type": "markdown",
   "metadata": {},
   "source": [
    "# variable"
   ]
  },
  {
   "cell_type": "markdown",
   "metadata": {},
   "source": [
    "Write a Python program to calculate the length of a string"
   ]
  },
  {
   "cell_type": "code",
   "execution_count": 1,
   "metadata": {},
   "outputs": [
    {
     "name": "stdout",
     "output_type": "stream",
     "text": [
      "5\n"
     ]
    }
   ],
   "source": [
    "print(len(\"radha\"))"
   ]
  },
  {
   "cell_type": "markdown",
   "metadata": {},
   "source": [
    "Write a Python program to sum all the items in a list"
   ]
  },
  {
   "cell_type": "code",
   "execution_count": 2,
   "metadata": {},
   "outputs": [
    {
     "data": {
      "text/plain": [
       "154"
      ]
     },
     "execution_count": 2,
     "metadata": {},
     "output_type": "execute_result"
    }
   ],
   "source": [
    "list1 = [22,33,44,55]\n",
    "sum(list1)"
   ]
  },
  {
   "cell_type": "code",
   "execution_count": 7,
   "metadata": {},
   "outputs": [],
   "source": [
    "var1 = 'Hello world' #string\n",
    "var4 = 'venom'\n",
    "var2 = 4 # int\n",
    "var3 = 36.7 #float\n"
   ]
  },
  {
   "cell_type": "code",
   "execution_count": 3,
   "metadata": {},
   "outputs": [
    {
     "name": "stdout",
     "output_type": "stream",
     "text": [
      "<class 'str'>\n",
      "<class 'int'>\n",
      "<class 'float'>\n"
     ]
    }
   ],
   "source": [
    "print(type(var1))\n",
    "print(type(var2))\n",
    "print(type(var3))"
   ]
  },
  {
   "cell_type": "markdown",
   "metadata": {},
   "source": [
    "- by default cancatenate can be only done in \n",
    "- string to string , \n",
    "- float to float , \n",
    "- float to int , \n",
    "- int to float"
   ]
  },
  {
   "cell_type": "code",
   "execution_count": 5,
   "metadata": {},
   "outputs": [
    {
     "name": "stdout",
     "output_type": "stream",
     "text": [
      "40.7\n"
     ]
    }
   ],
   "source": [
    "print(var2+var3)"
   ]
  },
  {
   "cell_type": "code",
   "execution_count": 8,
   "metadata": {},
   "outputs": [
    {
     "name": "stdout",
     "output_type": "stream",
     "text": [
      "Hello worldvenom\n"
     ]
    }
   ],
   "source": [
    "print(var1+var4)"
   ]
  },
  {
   "cell_type": "code",
   "execution_count": 10,
   "metadata": {},
   "outputs": [
    {
     "name": "stdout",
     "output_type": "stream",
     "text": [
      "3256\n"
     ]
    }
   ],
   "source": [
    "a = '32'\n",
    "b = '56'\n",
    "print(a+b)"
   ]
  },
  {
   "cell_type": "markdown",
   "metadata": {},
   "source": [
    "# typecasting"
   ]
  },
  {
   "cell_type": "code",
   "execution_count": 12,
   "metadata": {},
   "outputs": [
    {
     "name": "stdout",
     "output_type": "stream",
     "text": [
      "venom36\n"
     ]
    }
   ],
   "source": [
    "a = 'venom'\n",
    "b = 36\n",
    "print(a+str(b))"
   ]
  },
  {
   "cell_type": "code",
   "execution_count": 13,
   "metadata": {},
   "outputs": [
    {
     "name": "stdout",
     "output_type": "stream",
     "text": [
      "annabella\n",
      "annabella\n",
      "annabella\n",
      "annabella\n",
      "annabella\n",
      "\n"
     ]
    }
   ],
   "source": [
    "print(5*\"annabella\\n\")"
   ]
  },
  {
   "cell_type": "code",
   "execution_count": 2,
   "metadata": {},
   "outputs": [
    {
     "name": "stdout",
     "output_type": "stream",
     "text": [
      "2355\n",
      "78\n"
     ]
    }
   ],
   "source": [
    "a = '23'\n",
    "b = '55'\n",
    "print(a+b)\n",
    "print(int(a)+int(b))"
   ]
  },
  {
   "cell_type": "code",
   "execution_count": 3,
   "metadata": {},
   "outputs": [
    {
     "name": "stdout",
     "output_type": "stream",
     "text": [
      "Enter the number\n",
      "you enter 34\n"
     ]
    }
   ],
   "source": [
    "print(\"Enter the number\")\n",
    "inpnum = input()\n",
    "print('you enter', inpnum)"
   ]
  },
  {
   "cell_type": "code",
   "execution_count": 8,
   "metadata": {},
   "outputs": [
    {
     "name": "stdout",
     "output_type": "stream",
     "text": [
      "enter first number\n",
      "enter second number\n",
      "sum of two numbers is 8\n"
     ]
    }
   ],
   "source": [
    " # sum of two numbers\n",
    "print(\"enter first number\")\n",
    "a = int(input())\n",
    "print(\"enter second number\")\n",
    "b =int(input())\n",
    "print('sum of two numbers is', a+b)"
   ]
  },
  {
   "cell_type": "code",
   "execution_count": 3,
   "metadata": {},
   "outputs": [
    {
     "name": "stdout",
     "output_type": "stream",
     "text": [
      "enter first no\n",
      "enter second no\n",
      "sum of two no is 7\n"
     ]
    }
   ],
   "source": [
    "print('enter first no')\n",
    "input()\n",
    "print('enter second no')\n",
    "input()\n",
    "print('sum of two no is',int(a)+int(b))"
   ]
  },
  {
   "cell_type": "markdown",
   "metadata": {},
   "source": [
    "Given two integer numbers return their product only if the product is equal to or lower than 1000, else return their sum."
   ]
  },
  {
   "cell_type": "code",
   "execution_count": 6,
   "metadata": {},
   "outputs": [
    {
     "name": "stdout",
     "output_type": "stream",
     "text": [
      "500\n"
     ]
    }
   ],
   "source": [
    "num1 = int(input(\"enter first num\"))\n",
    "num2 = int(input(\"enter second number\"))\n",
    "if num1*num2<=1000:\n",
    "    print(num1*num2)\n",
    "else:\n",
    "    print(num1+num2)"
   ]
  },
  {
   "cell_type": "code",
   "execution_count": null,
   "metadata": {},
   "outputs": [],
   "source": []
  }
 ],
 "metadata": {
  "kernelspec": {
   "display_name": "Python 3.9.12 ('base')",
   "language": "python",
   "name": "python3"
  },
  "language_info": {
   "codemirror_mode": {
    "name": "ipython",
    "version": 3
   },
   "file_extension": ".py",
   "mimetype": "text/x-python",
   "name": "python",
   "nbconvert_exporter": "python",
   "pygments_lexer": "ipython3",
   "version": "3.9.13"
  },
  "orig_nbformat": 4,
  "vscode": {
   "interpreter": {
    "hash": "5c2e1fbdbc753133dbe82f78110374a46e694123620e9daffa43fa991124e895"
   }
  }
 },
 "nbformat": 4,
 "nbformat_minor": 2
}
