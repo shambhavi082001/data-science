{
 "cells": [
  {
   "cell_type": "code",
   "execution_count": null,
   "metadata": {},
   "outputs": [],
   "source": [
    "var1 = 6\n",
    "var2 = 56\n",
    "var3 = int(input())\n",
    "if var3>var2:\n",
    "    print(\"greater\")\n",
    "elif var3==var2:\n",
    "    print(\"equal\")\n",
    "else:\n",
    "     print(\"lesser\")\n"
   ]
  },
  {
   "cell_type": "code",
   "execution_count": null,
   "metadata": {},
   "outputs": [],
   "source": [
    "list = [1,2,3,4,5]\n",
    "print(5 in list)\n",
    "if 5 in list:\n",
    "    print(\"yes its in the list\")"
   ]
  },
  {
   "cell_type": "code",
   "execution_count": null,
   "metadata": {},
   "outputs": [],
   "source": [
    "if 15 not in list:\n",
    "    print(\"no its not in the list\")"
   ]
  },
  {
   "cell_type": "code",
   "execution_count": 1,
   "metadata": {},
   "outputs": [
    {
     "name": "stdout",
     "output_type": "stream",
     "text": [
      "wierd\n"
     ]
    }
   ],
   "source": [
    "n = int(input())\n",
    "    \n",
    "if n%2 == 0:\n",
    "    if n in range(2,6):\n",
    "        print(\"Not wierd\")\n",
    "    elif n in range(6,21):\n",
    "        print(\"wierd\")\n",
    "    elif n > 20:\n",
    "        print(\"Not Wierd\")\n",
    "else:\n",
    "    print(\"wierd\")  "
   ]
  },
  {
   "cell_type": "code",
   "execution_count": null,
   "metadata": {},
   "outputs": [],
   "source": [
    "print(\"what is your age\")\n",
    "age = int(input())\n",
    "if age>18:\n",
    "    print(\"you can drive\")\n",
    "elif age==18:\n",
    "    print(\"we will think about you\")\n",
    "else:\n",
    "    print(\"you cant drive\")"
   ]
  },
  {
   "cell_type": "code",
   "execution_count": null,
   "metadata": {},
   "outputs": [],
   "source": [
    "print(\"what is your age\")\n",
    "age = int(input())\n",
    "if age>=18 and age<=100:\n",
    "    print(\"you can drive\")\n",
    "elif age==18 and age>7:\n",
    "    print(\"we will think about you\")\n",
    "else:\n",
    "    print(\"you cant drive\")"
   ]
  },
  {
   "cell_type": "markdown",
   "metadata": {},
   "source": [
    "A company decided to give bonus of 5% to employee if his/her year of service is more than 5 years.\n",
    "Ask user for their salary and year of service and print the net bonus amount."
   ]
  },
  {
   "cell_type": "code",
   "execution_count": null,
   "metadata": {},
   "outputs": [],
   "source": [
    "print(\"enter your salary\")\n",
    "salary = int(input())\n",
    "print(\"enter your year of service\")\n",
    "yos = int(input())\n",
    "if yos>5:\n",
    "    print(\"bonus is\",0.5*salary)\n",
    "else:\n",
    "    print(\"no bonus\")\n"
   ]
  },
  {
   "cell_type": "markdown",
   "metadata": {},
   "source": [
    "Take values of length and breadth of a rectangle from user and check if it is square or not.\n"
   ]
  },
  {
   "cell_type": "code",
   "execution_count": null,
   "metadata": {},
   "outputs": [],
   "source": [
    "print(\"enter the  value of length\")\n",
    "length = int(input())\n",
    "print(\"enter the value of breadth\")\n",
    "breadth = int(input())\n",
    "if length==breadth:\n",
    "    print(\"its square\")\n",
    "else:\n",
    "    print(\"its not square\")"
   ]
  },
  {
   "cell_type": "markdown",
   "metadata": {},
   "source": [
    "Take two int values from user and print greatest among them."
   ]
  },
  {
   "cell_type": "code",
   "execution_count": null,
   "metadata": {},
   "outputs": [],
   "source": [
    "print(\"enter first number\")\n",
    "num1 = int(input())\n",
    "print(\"enter second number\")\n",
    "num2 = int(input())\n",
    "if num1>num2:\n",
    "    print(\"num1 is greater\")\n",
    "else:\n",
    "    print(\"num2 is greater\")"
   ]
  },
  {
   "cell_type": "markdown",
   "metadata": {},
   "source": [
    "A shop will give discount of 10% if the cost of purchased quantity is more than 1000.\n",
    "Ask user for quantity\n",
    "Suppose, one unit will cost 100.\n",
    "Judge and print total cost for user."
   ]
  },
  {
   "cell_type": "code",
   "execution_count": null,
   "metadata": {},
   "outputs": [],
   "source": [
    "print(\"enter quantity\")\n",
    "quantity = int(input())\n",
    "if quantity*100>1000:\n",
    "    print(\"cost is\",(100*quantity)-(.1*100*quantity))\n",
    "else:\n",
    "    print(\"cost is\",quantity*100)"
   ]
  },
  {
   "cell_type": "markdown",
   "metadata": {},
   "source": [
    "A school has following rules for grading system:\n",
    "a. Below 25 - F\n",
    "b. 25 to 45 - E\n",
    "c. 45 to 50 - D\n",
    "d. 50 to 60 - C\n",
    "e. 60 to 80 - B\n",
    "f. Above 80 - A\n",
    "Ask user to enter marks and print the corresponding grade."
   ]
  },
  {
   "cell_type": "code",
   "execution_count": null,
   "metadata": {},
   "outputs": [],
   "source": [
    "print(\"enter your marks\")\n",
    "marks = int(input())\n",
    "if marks<25:\n",
    "    print(\"F\")\n",
    "elif marks>=25 and marks<=45:\n",
    "    print(\"E\")\n",
    "elif marks>=45 and marks<=50:\n",
    "    print(\"D\")\n",
    "elif marks>=50 and marks<=60:\n",
    "    print(\"C\")\n",
    "elif marks>=60 and marks<=80:\n",
    "    print(\"B\")\n",
    "else:\n",
    "    print(\"A\")\n",
    "\n",
    "\n",
    "\n"
   ]
  },
  {
   "cell_type": "markdown",
   "metadata": {},
   "source": [
    "Take input of age of 3 people by user and determine oldest and youngest among them."
   ]
  },
  {
   "cell_type": "code",
   "execution_count": null,
   "metadata": {},
   "outputs": [],
   "source": [
    "print(\"enter first age\")\n",
    "first = int(input())\n",
    "print(\"enter second age\")\n",
    "second = int(input())\n",
    "print(\"enter third age\")\n",
    "third = int(input())\n",
    "if first>=second and first>=third:\n",
    "    print(\"oldest is first\")\n",
    "elif second>=first and second>=third:\n",
    "    print(\"oldest is second\")\n",
    "elif third>=first and third>=second:\n",
    "    print(\"oldest is third\")\n",
    "else:\n",
    "    print(\"both are equal\")\n",
    "\n"
   ]
  },
  {
   "cell_type": "markdown",
   "metadata": {},
   "source": [
    "Write a program to print absolute vlaue of a number entered by user. E.g.-\n",
    "INPUT: 1        OUTPUT: 1\n",
    "INPUT: -1        OUTPUT: 1"
   ]
  },
  {
   "cell_type": "code",
   "execution_count": null,
   "metadata": {},
   "outputs": [],
   "source": [
    "print(\"enter a number\")\n",
    "number = int(input())\n",
    "if number<0:\n",
    "    print (number*-1)\n",
    "else:\n",
    "    print(number)"
   ]
  },
  {
   "cell_type": "markdown",
   "metadata": {},
   "source": [
    "A student will not be allowed to sit in exam if his/her attendence is less than 75%.\n",
    "Take following input from user\n",
    "Number of classes held\n",
    "Number of classes attended.\n",
    "And print\n",
    "percentage of class attended\n",
    "Is student is allowed to sit in exam or not."
   ]
  },
  {
   "cell_type": "code",
   "execution_count": null,
   "metadata": {},
   "outputs": [],
   "source": [
    "print(\"Number of classes held\")\n",
    "noh = int(input())\n",
    "print(\"Number of classes attended\")\n",
    "noa = int(input())\n",
    "poa = (noa/float(noh))*100\n",
    "print(\"attendence is\",poa)\n",
    "if poa>75:\n",
    "    print(\"you are allowed to sit\")\n",
    "else:\n",
    "    print(\"you cant sit in class\")"
   ]
  },
  {
   "cell_type": "markdown",
   "metadata": {},
   "source": [
    "Modify the above question to allow student to sit if he/she has medical cause. Ask user if he/she has medical cause or not ( 'Y' or 'N' ) and print accordingly.\n"
   ]
  },
  {
   "cell_type": "code",
   "execution_count": null,
   "metadata": {},
   "outputs": [],
   "source": [
    "print(\"enter y if you have medical cause nad y for no\")\n",
    "cause = input()\n",
    "if cause==\"y\":\n",
    "    print(\"you are allowed\")\n",
    "elif cause==\"n\":\n",
    "    print(\"you are not allowed\")\n",
    "else:\n",
    "    print(\"choose the correct one\")"
   ]
  },
  {
   "cell_type": "markdown",
   "metadata": {},
   "source": [
    "Write a program to check if a year is leap year or not.\n",
    "If a year is divisible by 4 then it is leap year but if the year is century year like 2000, 1900, 2100 then it must be divisible by 400.\n"
   ]
  },
  {
   "cell_type": "code",
   "execution_count": null,
   "metadata": {},
   "outputs": [],
   "source": [
    "print(\"enter the year\")\n",
    "year = input()\n",
    "if year%4==0:\n",
    "    print(\"its a leap year\")\n"
   ]
  },
  {
   "cell_type": "markdown",
   "metadata": {},
   "source": [
    "Ask user to enter age, sex ( M or F ), marital status ( Y or N ) and then using following rules print their place of service.\n",
    "if employee is female, then she will work only in urban areas.\n",
    "\n",
    "if employee is a male and age is in between 20 to 40 then he may work in anywhere\n",
    "\n",
    "if employee is male and age is in between 40 t0 60 then he will work in urban areas only.\n",
    "\n",
    "And any other input of age should print \"ERROR\""
   ]
  },
  {
   "cell_type": "code",
   "execution_count": null,
   "metadata": {},
   "outputs": [],
   "source": [
    "print(\"enter your age\")\n",
    "age = int(input())\n",
    "print(\"enter your sex M or F\")\n",
    "sex = input()\n",
    "print(\"enter your marital status Y or N\")\n",
    "marital_status = input()\n",
    "if sex==\"F\":\n",
    "    print(\"you can work only in urban areas\")\n",
    "elif sex==\"M\" and age>20 and age<40:\n",
    "    print(\"you can work anywhere\")\n",
    "elif age>40 and age<60:\n",
    "    print(\"you can work in urban areas only\")\n",
    "else:\n",
    "    print(\"error\")"
   ]
  },
  {
   "cell_type": "markdown",
   "metadata": {},
   "source": [
    "A 4 digit number is entered through keyboard. Write a program to print a new number with digits reversed as of orignal one. E.g.-\n",
    "INPUT : 1234        OUTPUT : 4321\n",
    "INPUT : 5982        OUTPUT : 2895\n"
   ]
  },
  {
   "cell_type": "code",
   "execution_count": null,
   "metadata": {},
   "outputs": [],
   "source": []
  },
  {
   "cell_type": "markdown",
   "metadata": {},
   "source": [
    "to check a number is even or odd"
   ]
  },
  {
   "cell_type": "code",
   "execution_count": null,
   "metadata": {},
   "outputs": [],
   "source": [
    "number = int(input(\"enter the number\"))\n",
    "if number%3 == 0:\n",
    "    print(\"even\")\n",
    "else:\n",
    "    print(\"odd\")"
   ]
  },
  {
   "cell_type": "markdown",
   "metadata": {},
   "source": [
    "to check a number is divisible by 7 or not"
   ]
  },
  {
   "cell_type": "code",
   "execution_count": null,
   "metadata": {},
   "outputs": [],
   "source": [
    "num = int(input(\"enter number\"))\n",
    "if num%7 == 0:\n",
    "    print(\"divisible\")\n",
    "else:\n",
    "    print(\"not divisible\")"
   ]
  },
  {
   "cell_type": "markdown",
   "metadata": {},
   "source": [
    "if number is multiple of 5 print hello else print bye"
   ]
  },
  {
   "cell_type": "code",
   "execution_count": null,
   "metadata": {},
   "outputs": [],
   "source": [
    "num = int(input(\"enter number\"))\n",
    "if num%5 == 0:\n",
    "    print(\"hello\")\n",
    "else:\n",
    "    print(\"bye\")"
   ]
  },
  {
   "cell_type": "code",
   "execution_count": null,
   "metadata": {},
   "outputs": [],
   "source": [
    "price = 0\n",
    "unit = int(input(\"enter number of unit\"))\n",
    "if unit<=100:\n",
    "    print(\"no charge\")\n",
    "elif unit>100 and unit<=200:\n",
    "    price = (unit-100)*5\n",
    "    print(price)\n",
    "elif unit>200:\n",
    "    price = 500+(unit-200)*10\n",
    "    print(\"price is \", price)\n"
   ]
  },
  {
   "cell_type": "code",
   "execution_count": null,
   "metadata": {},
   "outputs": [],
   "source": []
  }
 ],
 "metadata": {
  "kernelspec": {
   "display_name": "Python 3.9.12 ('base')",
   "language": "python",
   "name": "python3"
  },
  "language_info": {
   "codemirror_mode": {
    "name": "ipython",
    "version": 3
   },
   "file_extension": ".py",
   "mimetype": "text/x-python",
   "name": "python",
   "nbconvert_exporter": "python",
   "pygments_lexer": "ipython3",
   "version": "3.9.13"
  },
  "orig_nbformat": 4,
  "vscode": {
   "interpreter": {
    "hash": "5c2e1fbdbc753133dbe82f78110374a46e694123620e9daffa43fa991124e895"
   }
  }
 },
 "nbformat": 4,
 "nbformat_minor": 2
}
