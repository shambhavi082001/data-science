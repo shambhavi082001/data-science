{
 "cells": [
  {
   "cell_type": "code",
   "execution_count": 1,
   "metadata": {},
   "outputs": [
    {
     "name": "stdout",
     "output_type": "stream",
     "text": [
      "enter first number\n",
      "enter second number\n",
      "choose the operator +, -, *, /, %, **\n",
      "10\n"
     ]
    }
   ],
   "source": [
    "print(\"enter first number\")\n",
    "num1 = int(input())\n",
    "print(\"enter second number\")\n",
    "num2 = int(input())\n",
    "print(\"choose the operator +, -, *, /, %, **\")\n",
    "operator = input()\n",
    "if num1==45 and num2==3 and operator=='*':\n",
    "    print('555')\n",
    "elif num1==56 and num2==9 and operator=='+':\n",
    "    print('77')\n",
    "elif num1==56 and num2==6 and operator=='/':\n",
    "    print('4')\n",
    "elif operator == '*':\n",
    "    num4=num1*num2\n",
    "    print(num4)\n",
    "elif operator == '+':\n",
    "    num4=num1+num2\n",
    "    print(num4)\n",
    "elif operator == '-':\n",
    "    num4=num1-num2\n",
    "    print(num4)\n",
    "elif operator == '%':\n",
    "    num4=num1%num2\n",
    "    print(num4)\n",
    "elif operator == '**':\n",
    "    num4=num1**num2\n",
    "    print(num4)\n",
    "else:\n",
    "    print(\"unexpected error\")\n",
    "    "
   ]
  },
  {
   "cell_type": "code",
   "execution_count": null,
   "metadata": {},
   "outputs": [],
   "source": []
  }
 ],
 "metadata": {
  "kernelspec": {
   "display_name": "Python 3.9.12 ('base')",
   "language": "python",
   "name": "python3"
  },
  "language_info": {
   "codemirror_mode": {
    "name": "ipython",
    "version": 3
   },
   "file_extension": ".py",
   "mimetype": "text/x-python",
   "name": "python",
   "nbconvert_exporter": "python",
   "pygments_lexer": "ipython3",
   "version": "3.9.12"
  },
  "orig_nbformat": 4,
  "vscode": {
   "interpreter": {
    "hash": "5c2e1fbdbc753133dbe82f78110374a46e694123620e9daffa43fa991124e895"
   }
  }
 },
 "nbformat": 4,
 "nbformat_minor": 2
}
