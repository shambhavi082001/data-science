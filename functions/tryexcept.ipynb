{
 "cells": [
  {
   "cell_type": "code",
   "execution_count": 2,
   "metadata": {},
   "outputs": [
    {
     "name": "stdout",
     "output_type": "stream",
     "text": [
      "enter number 1\n",
      "enter number 2\n",
      "the sum of these two numbers is 15\n",
      "this line is very important\n"
     ]
    }
   ],
   "source": [
    "print(\"enter number 1\")\n",
    "num1 = input()\n",
    "print(\"enter number 2\")\n",
    "num2 = input()\n",
    "try:\n",
    "    print(\"the sum of these two numbers is\", int(num1)+int(num2))\n",
    "\n",
    "except Exception as e:\n",
    "    print(e)\n",
    "\n",
    "print(\"this line is very important\")"
   ]
  },
  {
   "cell_type": "code",
   "execution_count": null,
   "metadata": {},
   "outputs": [],
   "source": []
  }
 ],
 "metadata": {
  "kernelspec": {
   "display_name": "Python 3.10.4 64-bit",
   "language": "python",
   "name": "python3"
  },
  "language_info": {
   "codemirror_mode": {
    "name": "ipython",
    "version": 3
   },
   "file_extension": ".py",
   "mimetype": "text/x-python",
   "name": "python",
   "nbconvert_exporter": "python",
   "pygments_lexer": "ipython3",
   "version": "3.10.4"
  },
  "orig_nbformat": 4,
  "vscode": {
   "interpreter": {
    "hash": "1c42d66b2dd8dece3f25fba27cf852f34c19e64e2f4a6c3fd0dbd8791fef12dd"
   }
  }
 },
 "nbformat": 4,
 "nbformat_minor": 2
}
