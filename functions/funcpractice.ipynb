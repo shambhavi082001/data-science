{
 "cells": [
  {
   "cell_type": "markdown",
   "metadata": {},
   "source": [
    "###  *built in ~ prewritten and can be called without importing any library"
   ]
  },
  {
   "cell_type": "code",
   "execution_count": null,
   "metadata": {},
   "outputs": [],
   "source": [
    "a = 9\n",
    "b = 5\n",
    "c = sum((a, b))\n",
    "print(c)"
   ]
  },
  {
   "cell_type": "code",
   "execution_count": 2,
   "metadata": {},
   "outputs": [
    {
     "name": "stdout",
     "output_type": "stream",
     "text": [
      "234546.45\n"
     ]
    }
   ],
   "source": [
    "x = abs(-234546.45)\n",
    "print(x)"
   ]
  },
  {
   "cell_type": "code",
   "execution_count": 5,
   "metadata": {},
   "outputs": [
    {
     "data": {
      "text/plain": [
       "24"
      ]
     },
     "execution_count": 5,
     "metadata": {},
     "output_type": "execute_result"
    }
   ],
   "source": [
    "len([1,2,3,4,5])\n",
    "type([])\n",
    "sorted((1,2,3,4))\n",
    "round(113.45656)\n",
    "eval(\"12*2\")"
   ]
  },
  {
   "cell_type": "markdown",
   "metadata": {},
   "source": [
    "###  *user defined function ~ created and used by users to do some specific task"
   ]
  },
  {
   "cell_type": "code",
   "execution_count": null,
   "metadata": {},
   "outputs": [],
   "source": [
    "def function1():\n",
    "    print(\"this is a function\")\n",
    "\n",
    "\n",
    "function1()\n",
    "function1()\n",
    "function1()\n",
    "function1()"
   ]
  },
  {
   "cell_type": "code",
   "execution_count": 3,
   "metadata": {},
   "outputs": [
    {
     "name": "stdout",
     "output_type": "stream",
     "text": [
      "this is repeated\n"
     ]
    }
   ],
   "source": [
    "def function2():\n",
    "    print(\"this is repeated\")\n",
    "\n",
    "function2()"
   ]
  },
  {
   "cell_type": "code",
   "execution_count": null,
   "metadata": {},
   "outputs": [],
   "source": [
    "def check():\n",
    "    print(\"hy! welcome in python\")\n",
    "\n",
    "check()\n",
    "check()\n",
    "check()\n",
    "check()"
   ]
  },
  {
   "cell_type": "code",
   "execution_count": null,
   "metadata": {},
   "outputs": [],
   "source": [
    "def check_prime():\n",
    "    a = 541\n",
    "    for i in range(2, 541):\n",
    "        if a%i == 0:\n",
    "            print(\"not prime\")\n",
    "            break\n",
    "        else:\n",
    "            print(\"prime\")\n",
    "\n",
    "\n",
    "check_prime()"
   ]
  },
  {
   "cell_type": "code",
   "execution_count": null,
   "metadata": {},
   "outputs": [],
   "source": [
    "var = check_prime()\n",
    "print(var) # non value return value "
   ]
  },
  {
   "cell_type": "markdown",
   "metadata": {},
   "source": [
    "### return value function ~ return something on function call , the return value can be stored in a variable "
   ]
  },
  {
   "cell_type": "code",
   "execution_count": null,
   "metadata": {},
   "outputs": [],
   "source": [
    "def check_prime():\n",
    "    a = 541\n",
    "    for i in range(2, 541):\n",
    "        if a%i == 0:\n",
    "            return(\"not prime\")\n",
    "            break\n",
    "        else:\n",
    "            return(\"prime\")\n",
    "\n",
    "\n",
    "check_prime()\n",
    "        "
   ]
  },
  {
   "cell_type": "code",
   "execution_count": null,
   "metadata": {},
   "outputs": [],
   "source": [
    "var = check_prime()\n",
    "print(var) # value returned by function is stored in variable"
   ]
  },
  {
   "cell_type": "markdown",
   "metadata": {},
   "source": [
    "### *multiple return value function ~ Multiple values can also be returned in a functions.The multiple return values are returned in the form of tuple."
   ]
  },
  {
   "cell_type": "code",
   "execution_count": 6,
   "metadata": {},
   "outputs": [
    {
     "data": {
      "text/plain": [
       "('this is you😍', 'this is me😊', 'this is all we need😒😒')"
      ]
     },
     "execution_count": 6,
     "metadata": {},
     "output_type": "execute_result"
    }
   ],
   "source": [
    "# syntax = def funcion():\n",
    "#               return a,b,c...\n",
    "def myfunc():\n",
    "    return \"this is you😍\", \"this is me😊\", \"this is all we need😒😒\"\n",
    "\n",
    "myfunc()\n",
    "\n",
    "              "
   ]
  },
  {
   "cell_type": "code",
   "execution_count": 7,
   "metadata": {},
   "outputs": [
    {
     "data": {
      "text/plain": [
       "'this is you😍'"
      ]
     },
     "execution_count": 7,
     "metadata": {},
     "output_type": "execute_result"
    }
   ],
   "source": [
    "a,b,c = myfunc()\n",
    "a"
   ]
  },
  {
   "cell_type": "markdown",
   "metadata": {},
   "source": [
    "### *paramiterized function ~ The Parametrized functionsare those functions which requires passing of a no. of arguments."
   ]
  },
  {
   "cell_type": "code",
   "execution_count": 10,
   "metadata": {},
   "outputs": [
    {
     "data": {
      "text/plain": [
       "'prime'"
      ]
     },
     "execution_count": 10,
     "metadata": {},
     "output_type": "execute_result"
    }
   ],
   "source": [
    "def check_prime(n):\n",
    "    for i in range(2,n):\n",
    "        if n%i == 0:\n",
    "            return \"non prime\"\n",
    "            break\n",
    "        else:\n",
    "            return \"prime\"\n",
    "\n",
    "check_prime(67)\n"
   ]
  },
  {
   "cell_type": "code",
   "execution_count": 1,
   "metadata": {},
   "outputs": [
    {
     "data": {
      "text/plain": [
       "18710"
      ]
     },
     "execution_count": 1,
     "metadata": {},
     "output_type": "execute_result"
    }
   ],
   "source": [
    "def sum(arg1,arg2):\n",
    "    return arg1 + arg2\n",
    "\n",
    "sum(13245,5465)"
   ]
  },
  {
   "cell_type": "markdown",
   "metadata": {},
   "source": [
    "### *default parameter function ~ The Default Parameterized functions have a default value set for their arguments."
   ]
  },
  {
   "cell_type": "code",
   "execution_count": 4,
   "metadata": {},
   "outputs": [
    {
     "data": {
      "text/plain": [
       "45858"
      ]
     },
     "execution_count": 4,
     "metadata": {},
     "output_type": "execute_result"
    }
   ],
   "source": [
    "def default_f(a=213,b=315):\n",
    "    return a+b\n",
    "\n",
    "default_f()\n",
    "default_f(23432)\n",
    "default_f(b=45645)"
   ]
  },
  {
   "cell_type": "markdown",
   "metadata": {},
   "source": [
    "### *variable argument function ~ These type of functions does not require any specific no. of arguments but they can take any no. of arguments. ex: print()"
   ]
  },
  {
   "cell_type": "code",
   "execution_count": 3,
   "metadata": {},
   "outputs": [
    {
     "name": "stdout",
     "output_type": "stream",
     "text": [
      "(132, 5345, 465, 35, 454)\n"
     ]
    }
   ],
   "source": [
    "#Syntax:\n",
    "#def func(*args, **kwargs):\n",
    "#statements. .\n",
    "def myfunc(*num):\n",
    "    print(num)\n",
    "\n",
    "myfunc(132,5345,465,35,454)"
   ]
  },
  {
   "cell_type": "code",
   "execution_count": 4,
   "metadata": {},
   "outputs": [
    {
     "data": {
      "text/plain": [
       "'sum: 171'"
      ]
     },
     "execution_count": 4,
     "metadata": {},
     "output_type": "execute_result"
    }
   ],
   "source": [
    "def myfunc(*num):\n",
    "    return f'sum: {sum(num)}'\n",
    "\n",
    "myfunc(23, 45, 4, 45, 54)"
   ]
  },
  {
   "cell_type": "code",
   "execution_count": 5,
   "metadata": {},
   "outputs": [
    {
     "name": "stdout",
     "output_type": "stream",
     "text": [
      "ravi got 23\n",
      "vijay got 44\n",
      "shyam got 34\n"
     ]
    }
   ],
   "source": [
    "def myfunc(**names):\n",
    "    for name, marks in names.items():\n",
    "        print(f'{name} got {marks}')\n",
    "\n",
    "myfunc(ravi=23,vijay=44,shyam=34)"
   ]
  },
  {
   "cell_type": "markdown",
   "metadata": {},
   "source": [
    "### *anonymous function ~ Anonymous functions are basically one line functions with do not require to be defined by any name."
   ]
  },
  {
   "cell_type": "code",
   "execution_count": null,
   "metadata": {},
   "outputs": [],
   "source": [
    "#Syntax:\n",
    "#lambda arg : expression\n",
    "lambda a, b: a+b\n"
   ]
  },
  {
   "cell_type": "code",
   "execution_count": null,
   "metadata": {},
   "outputs": [],
   "source": [
    "adder = lambda a, b: a+b\n",
    "adder(324,345)"
   ]
  },
  {
   "cell_type": "code",
   "execution_count": null,
   "metadata": {},
   "outputs": [],
   "source": [
    "def exp(power):\n",
    "    return lambda l : [a**power for a in l]\n",
    "\n",
    "four = exp(4)\n",
    "four([3, 54, 5, 5, 9, 10])"
   ]
  },
  {
   "cell_type": "markdown",
   "metadata": {},
   "source": [
    "### *generator function"
   ]
  },
  {
   "cell_type": "code",
   "execution_count": 6,
   "metadata": {},
   "outputs": [
    {
     "data": {
      "text/plain": [
       "<generator object get_cube at 0x0000028B0CC53890>"
      ]
     },
     "execution_count": 6,
     "metadata": {},
     "output_type": "execute_result"
    }
   ],
   "source": [
    "#Syntax:\n",
    "#def generate( a, b ):\n",
    "#yield a\n",
    "def get_cube(*args):\n",
    "    for i in args:\n",
    "        yield i**3\n",
    "\n",
    "get_cube()"
   ]
  },
  {
   "cell_type": "code",
   "execution_count": 7,
   "metadata": {},
   "outputs": [
    {
     "name": "stdout",
     "output_type": "stream",
     "text": [
      "1\n",
      "125\n",
      "658503\n"
     ]
    }
   ],
   "source": [
    "for i in get_cube(1, 5, 87):\n",
    "    print(i)"
   ]
  },
  {
   "cell_type": "code",
   "execution_count": 9,
   "metadata": {},
   "outputs": [
    {
     "data": {
      "text/plain": [
       "<generator object get_cube at 0x0000028B0CC53DD0>"
      ]
     },
     "execution_count": 9,
     "metadata": {},
     "output_type": "execute_result"
    }
   ],
   "source": [
    "cubes = get_cube(3)\n",
    "next(cubes)"
   ]
  },
  {
   "cell_type": "code",
   "execution_count": null,
   "metadata": {},
   "outputs": [],
   "source": []
  }
 ],
 "metadata": {
  "kernelspec": {
   "display_name": "Python 3.9.13 ('base')",
   "language": "python",
   "name": "python3"
  },
  "language_info": {
   "codemirror_mode": {
    "name": "ipython",
    "version": 3
   },
   "file_extension": ".py",
   "mimetype": "text/x-python",
   "name": "python",
   "nbconvert_exporter": "python",
   "pygments_lexer": "ipython3",
   "version": "3.9.13"
  },
  "orig_nbformat": 4,
  "vscode": {
   "interpreter": {
    "hash": "5c2e1fbdbc753133dbe82f78110374a46e694123620e9daffa43fa991124e895"
   }
  }
 },
 "nbformat": 4,
 "nbformat_minor": 2
}
