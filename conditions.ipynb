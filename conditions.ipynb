{
 "cells": [
  {
   "cell_type": "code",
   "execution_count": 5,
   "metadata": {},
   "outputs": [
    {
     "name": "stdout",
     "output_type": "stream",
     "text": [
      "u see an apple seller\n",
      "you dont have to purchase\n"
     ]
    }
   ],
   "source": [
    "print('u see an apple seller')\n",
    "q = input('do you like apples')\n",
    "\n",
    "if q == 'yes':\n",
    "    print('purchase 1kg of apples')\n",
    "if q == 'no':\n",
    "    print('you dont have to purchase')"
   ]
  },
  {
   "cell_type": "code",
   "execution_count": 6,
   "metadata": {},
   "outputs": [
    {
     "name": "stdout",
     "output_type": "stream",
     "text": [
      "x is greater than 5\n",
      "this is the info we needed\n",
      "with this power, comes with great responsibility\n",
      "the end\n"
     ]
    }
   ],
   "source": [
    "x = 10 \n",
    "if x > 5:\n",
    "    print('x is greater than 5')\n",
    "    print('this is the info we needed')\n",
    "    print('with this power, comes with great responsibility')\n",
    "print('the end')"
   ]
  },
  {
   "cell_type": "code",
   "execution_count": 7,
   "metadata": {},
   "outputs": [
    {
     "name": "stdout",
     "output_type": "stream",
     "text": [
      "wear long pants\n",
      "get some excercise outside\n"
     ]
    }
   ],
   "source": [
    "temp = float(input('what is the temperature'))\n",
    "if temp > 70:\n",
    "    print('wear shorts')\n",
    "else:\n",
    "    print('wear long pants')\n",
    "print('get some excercise outside')"
   ]
  },
  {
   "cell_type": "code",
   "execution_count": 14,
   "metadata": {},
   "outputs": [
    {
     "name": "stdout",
     "output_type": "stream",
     "text": [
      "56.7\n"
     ]
    }
   ],
   "source": [
    "amt = float(input('enter bill amount'))\n",
    "gst = amt * .05\n",
    "total = amt + gst\n",
    "if total < 500:\n",
    "    disc = total * .1\n",
    "    final = total - disc\n",
    "    print(final)\n",
    "else:\n",
    "    disc = total * .2\n",
    "    final = total - disc \n",
    "    print(final)    \n"
   ]
  },
  {
   "cell_type": "code",
   "execution_count": 10,
   "metadata": {},
   "outputs": [
    {
     "name": "stdout",
     "output_type": "stream",
     "text": [
      "B\n"
     ]
    }
   ],
   "source": [
    "score = int(input('your score'))\n",
    "if score >= 90:\n",
    "    letter = 'A'\n",
    "elif score >= 80:\n",
    "    letter = 'B'\n",
    "elif score >= 70:\n",
    "    letter = 'C'\n",
    "elif score >= 60:\n",
    "    letter = 'D'\n",
    "else:\n",
    "    letter = 'F'\n",
    "print(letter)\n",
    "\n"
   ]
  },
  {
   "cell_type": "code",
   "execution_count": 11,
   "metadata": {},
   "outputs": [
    {
     "name": "stdout",
     "output_type": "stream",
     "text": [
      "yes\n"
     ]
    }
   ],
   "source": [
    "x = 20 \n",
    "if x> 10:\n",
    "    print('yes')\n",
    "else:\n",
    "    print('no')"
   ]
  },
  {
   "cell_type": "code",
   "execution_count": 2,
   "metadata": {},
   "outputs": [
    {
     "name": "stdout",
     "output_type": "stream",
     "text": [
      "greater\n"
     ]
    }
   ],
   "source": [
    "var1=6\n",
    "var2=3\n",
    "var3= int(input())\n",
    "\n",
    "if var1>var2:\n",
    "    print('greater')\n",
    "else:\n",
    "    print('lesser')"
   ]
  },
  {
   "cell_type": "code",
   "execution_count": 1,
   "metadata": {},
   "outputs": [
    {
     "name": "stdout",
     "output_type": "stream",
     "text": [
      "x is greater than y\n",
      "y is less than x\n"
     ]
    }
   ],
   "source": [
    "x = 10\n",
    "y = 5\n",
    "if x>y:\n",
    "    print('x is greater than y')\n",
    "    print('y is less than x')\n",
    "if y > 6:\n",
    "    print('6 is alsogreater than y')\n",
    "    print('why y is smaller')\n",
    "if y == 3:\n",
    "    print('y is 3')\n",
    "    print('its time to make y bigger')"
   ]
  },
  {
   "cell_type": "code",
   "execution_count": 6,
   "metadata": {},
   "outputs": [
    {
     "name": "stdout",
     "output_type": "stream",
     "text": [
      "A\n"
     ]
    }
   ],
   "source": [
    "score = int(input('your score is -->'))\n",
    "if score >= 90:\n",
    "    letter = 'A'\n",
    "elif score >= 80:\n",
    "    letter = 'B'\n",
    "elif score >= 70:\n",
    "    letter = 'c'\n",
    "elif score >= 60:\n",
    "    letter = 'd'\n",
    "else:\n",
    "    letter = 'fail'\n",
    "print(letter)"
   ]
  },
  {
   "cell_type": "code",
   "execution_count": 5,
   "metadata": {},
   "outputs": [
    {
     "name": "stdout",
     "output_type": "stream",
     "text": [
      "lesser\n"
     ]
    }
   ],
   "source": [
    "var1 = 6 \n",
    "var2 = 22\n",
    "\n",
    "var3 = int(input())\n",
    "\n",
    "if var3>var2:\n",
    "    print('greater')\n",
    "else:\n",
    "    print(\"lesser\")"
   ]
  },
  {
   "cell_type": "code",
   "execution_count": 3,
   "metadata": {},
   "outputs": [
    {
     "name": "stdout",
     "output_type": "stream",
     "text": [
      "greater\n"
     ]
    }
   ],
   "source": [
    "var1 = 6 \n",
    "var2 = 22\n",
    "\n",
    "var3 = int(input())\n",
    "\n",
    "if var3>var2:\n",
    "    print('greater')\n",
    "elif var3 == var2:\n",
    "    print('equal')\n",
    "else:\n",
    "    print(\"lesser\")"
   ]
  },
  {
   "cell_type": "code",
   "execution_count": 2,
   "metadata": {},
   "outputs": [
    {
     "name": "stdout",
     "output_type": "stream",
     "text": [
      "True\n",
      "yes its in the list\n"
     ]
    }
   ],
   "source": [
    "list = [5, 7, 3]\n",
    "print(3 in list) #in keyword\n",
    "if 5 in list:\n",
    " print(\"yes its in the list\")\n"
   ]
  },
  {
   "cell_type": "code",
   "execution_count": 5,
   "metadata": {},
   "outputs": [
    {
     "name": "stdout",
     "output_type": "stream",
     "text": [
      "True\n"
     ]
    }
   ],
   "source": [
    "list = [5, 7, 3]\n",
    "print(15 not in list) # not in keyword\n",
    "if 5 not in list: # not in keyword\n",
    " print(\"yes its in the list\")\n"
   ]
  },
  {
   "cell_type": "code",
   "execution_count": 16,
   "metadata": {},
   "outputs": [
    {
     "name": "stdout",
     "output_type": "stream",
     "text": [
      "what is your age\n",
      "45\n",
      "you can drive\n"
     ]
    }
   ],
   "source": [
    "print(\"what is your age\")\n",
    "age = int(input())\n",
    "print(age)\n",
    "if age > 18:\n",
    "    print('you can drive')\n",
    "elif age == 18:\n",
    "    print('come for test, we cant decide')\n",
    "else:\n",
    "    print('you cant drive')\n"
   ]
  },
  {
   "cell_type": "code",
   "execution_count": null,
   "metadata": {},
   "outputs": [],
   "source": []
  }
 ],
 "metadata": {
  "interpreter": {
   "hash": "1c42d66b2dd8dece3f25fba27cf852f34c19e64e2f4a6c3fd0dbd8791fef12dd"
  },
  "kernelspec": {
   "display_name": "Python 3.10.4 64-bit",
   "language": "python",
   "name": "python3"
  },
  "language_info": {
   "codemirror_mode": {
    "name": "ipython",
    "version": 3
   },
   "file_extension": ".py",
   "mimetype": "text/x-python",
   "name": "python",
   "nbconvert_exporter": "python",
   "pygments_lexer": "ipython3",
   "version": "3.10.4"
  },
  "orig_nbformat": 4
 },
 "nbformat": 4,
 "nbformat_minor": 2
}
