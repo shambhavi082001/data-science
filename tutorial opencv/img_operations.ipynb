{
 "cells": [
  {
   "cell_type": "code",
   "execution_count": 1,
   "metadata": {},
   "outputs": [],
   "source": [
    "import numpy as np \n",
    "import cv2"
   ]
  },
  {
   "cell_type": "code",
   "execution_count": 2,
   "metadata": {},
   "outputs": [],
   "source": [
    "# read image\n",
    "img = cv2.imread('C:\\data science\\classes\\multimedia\\photo-1608848461950-0fe51dfc41cbcat.jpeg')"
   ]
  },
  {
   "cell_type": "code",
   "execution_count": 3,
   "metadata": {},
   "outputs": [
    {
     "name": "stdout",
     "output_type": "stream",
     "text": [
      "[17 20 24]\n"
     ]
    }
   ],
   "source": [
    "# Accessing and Modifying pixel values\n",
    "pixel = img[100,100]\n",
    "print(pixel)"
   ]
  },
  {
   "cell_type": "code",
   "execution_count": 4,
   "metadata": {},
   "outputs": [
    {
     "name": "stdout",
     "output_type": "stream",
     "text": [
      "image dimension :  3\n",
      "image hight :  1500\n",
      "image width :  1000\n",
      "image number of channels :  3\n",
      "image size :  4500000\n"
     ]
    }
   ],
   "source": [
    "# Accessing Image Properties\n",
    "# height, width, number of channels in image\n",
    "hight = img.shape[0]\n",
    "width = img.shape[1]\n",
    "channels = img.shape[2]\n",
    "size1 = img.size\n",
    "dimension = img.shape[2]\n",
    "\n",
    "print(\"image dimension : \", dimension)\n",
    "print(\"image hight : \", hight)\n",
    "print(\"image width : \", width)\n",
    "print(\"image number of channels : \", channels)\n",
    "print(\"image size : \", size1)\n"
   ]
  },
  {
   "cell_type": "code",
   "execution_count": 5,
   "metadata": {},
   "outputs": [],
   "source": [
    "# Splitting and Merging Image channels\n",
    "#b,g,r = cv2.split(img) # notes : this programm is not running here so i create .py file \n",
    "#cv2.imshow('image', img)"
   ]
  },
  {
   "cell_type": "code",
   "execution_count": 6,
   "metadata": {},
   "outputs": [],
   "source": [
    "# Making Borders for Images\n",
    "# syntax : cv2.copyMakeBorder(src,top,bottom,left,right,border type)"
   ]
  },
  {
   "cell_type": "code",
   "execution_count": 5,
   "metadata": {},
   "outputs": [
    {
     "ename": "",
     "evalue": "",
     "output_type": "error",
     "traceback": [
      "\u001b[1;31mThe Kernel crashed while executing code in the the current cell or a previous cell. Please review the code in the cell(s) to identify a possible cause of the failure. Click <a href='https://aka.ms/vscodeJupyterKernelCrash'>here</a> for more info. View Jupyter <a href='command:jupyter.viewOutput'>log</a> for further details."
     ]
    }
   ],
   "source": [
    "# Change in Image color\n",
    "# syntax : cv2.cvtColor(src, dst, code)\n",
    "#window_name = 'Image'\n",
    "#image = cv2.cvtColor(img, cv2.COLOR_BGR2GRAY )\n",
    "#cv2.imshow(window_name, image) "
   ]
  },
  {
   "cell_type": "code",
   "execution_count": null,
   "metadata": {},
   "outputs": [],
   "source": []
  }
 ],
 "metadata": {
  "kernelspec": {
   "display_name": "Python 3.9.13 ('base')",
   "language": "python",
   "name": "python3"
  },
  "language_info": {
   "codemirror_mode": {
    "name": "ipython",
    "version": 3
   },
   "file_extension": ".py",
   "mimetype": "text/x-python",
   "name": "python",
   "nbconvert_exporter": "python",
   "pygments_lexer": "ipython3",
   "version": "3.9.13"
  },
  "orig_nbformat": 4,
  "vscode": {
   "interpreter": {
    "hash": "5c2e1fbdbc753133dbe82f78110374a46e694123620e9daffa43fa991124e895"
   }
  }
 },
 "nbformat": 4,
 "nbformat_minor": 2
}
